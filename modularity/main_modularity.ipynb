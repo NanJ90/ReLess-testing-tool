{
 "cells": [
  {
   "cell_type": "code",
   "execution_count": 3,
   "metadata": {},
   "outputs": [],
   "source": [
    "#import each models' h5 \n",
    "import h5py\n",
    "import os\n",
    "# os.environ['KERAS_BACKEND'] = 'tensorflow'\n",
    "# import keras\n",
    "\n",
    "import glob\n",
    "import importlib\n",
    "\n",
    "import pandas as pd\n",
    "import tensorflow as tf\n",
    "from tensorflow.keras.models import load_model\n",
    "import sys\n",
    "sys.path.append('MNIST-1/utils/')\n",
    "from mnistutil import MNISTUitl"
   ]
  },
  {
   "cell_type": "code",
   "execution_count": 4,
   "metadata": {},
   "outputs": [
    {
     "name": "stdout",
     "output_type": "stream",
     "text": [
      "x_train shape: (60000, 28, 28, 1)\n",
      "(60000, 28, 28, 1) 60000 train samples (60000,)\n",
      "10000 test samples\n"
     ]
    }
   ],
   "source": [
    "# In[]: Data Load\n",
    "labs = [0,1,2,3,4,5,6,7,8,9]\n",
    "sx = 28\n",
    "sy = 28\n",
    "mn = MNISTUitl()\n",
    "X, Y, x, y = mn.getdata2(0,0,sx,sy)\n",
    "#nm , xt, yt = mn.train2(X, Y, x,y,sx,sy,10,50)\n",
    "xt, yt, xT, yT = mn.trainData(X, Y, x,y,sx,sy,10,50)# test x,y, and train x,y"
   ]
  },
  {
   "cell_type": "code",
   "execution_count": 5,
   "metadata": {},
   "outputs": [],
   "source": [
    "orignal_model= load_model('remove_irrelavant_edges/MNIST-1/mnist.h5')"
   ]
  },
  {
   "cell_type": "code",
   "execution_count": 6,
   "metadata": {},
   "outputs": [
    {
     "name": "stdout",
     "output_type": "stream",
     "text": [
      "313/313 [==============================] - 0s 294us/step - loss: 0.1744 - accuracy: 0.1006\n",
      "313/313 [==============================] - 0s 252us/step\n",
      "Original model accuracy: 0.9491\n"
     ]
    }
   ],
   "source": [
    "from sklearn.metrics import accuracy_score\n",
    "import numpy as np\n",
    "orignal_model.evaluate(xt, yt)\n",
    "orignal_predict = orignal_model.predict(xt)\n",
    "orignal_predict = np.argmax(orignal_predict, axis=1)\n",
    "score=accuracy_score(orignal_predict, yt)\n",
    "print(f'Original model accuracy: {score}')"
   ]
  },
  {
   "cell_type": "code",
   "execution_count": 7,
   "metadata": {},
   "outputs": [],
   "source": [
    "module0=load_model('remove_irrelavant_edges/MNIST-1/module0.h5')\n",
    "module1=load_model('remove_irrelavant_edges/MNIST-1/module1.h5')\n",
    "module2=load_model('remove_irrelavant_edges/MNIST-1/module2.h5')\n",
    "module3=load_model('remove_irrelavant_edges/MNIST-1/module3.h5')\n",
    "module4=load_model('remove_irrelavant_edges/MNIST-1/module4.h5')\n",
    "module5=load_model('remove_irrelavant_edges/MNIST-1/module5.h5')\n",
    "module6=load_model('remove_irrelavant_edges/MNIST-1/module6.h5')\n",
    "module7=load_model('remove_irrelavant_edges/MNIST-1/module7.h5')\n",
    "module8=load_model('remove_irrelavant_edges/MNIST-1/module8.h5')\n",
    "module9=load_model('remove_irrelavant_edges/MNIST-1/module9.h5')"
   ]
  },
  {
   "cell_type": "code",
   "execution_count": 8,
   "metadata": {},
   "outputs": [],
   "source": [
    "from tqdm import tqdm"
   ]
  },
  {
   "cell_type": "code",
   "execution_count": 10,
   "metadata": {},
   "outputs": [
    {
     "name": "stderr",
     "output_type": "stream",
     "text": [
      "100%|██████████| 10000/10000 [25:00<00:00,  6.67it/s] \n"
     ]
    }
   ],
   "source": [
    "finalPred=[]\n",
    "# print(len(yt))\n",
    "for i in tqdm(range(len(yt))): #iterate over each test sample\n",
    "    predictions = []\n",
    "    maxPredictions = []\n",
    "#loop through each module for prediction\n",
    "    for module_idx, module in enumerate([module0, module1, module2, module3, module4, module5, module6, module7, module8, module9]):\n",
    "        pred = module.predict(xt[i:i+1],verbose=0)\n",
    "        max_pred_idx = pred.argmax()\n",
    "        #adjust prediction based on the module index\n",
    "        predictions.append(max_pred_idx if max_pred_idx == module_idx else 10)\n",
    "        maxPredictions.append(pred[0][module_idx])\n",
    "        # print(f'maxPredictions: {maxPredictions}')\n",
    "    #case 1: all prediction are incorrect\n",
    "    if predictions.count(10) == 10:\n",
    "       \n",
    "        finalPred.append(maxPredictions.index(max(maxPredictions)))\n",
    "    #case 2: more than one vote, but not unanimous\n",
    "    elif predictions.count(10) < 9:\n",
    "        validPredictions = [maxPredictions[i] for i in range(10) if predictions[i] != 10]\n",
    "        finalPred.append(maxPredictions.index(max(validPredictions)))\n",
    "    #case 3: exactly one correct vote\n",
    "    else:\n",
    "        finalPred.append(predictions.index(next(filter(lambda x: x != 10, predictions))))\n"
   ]
  },
  {
   "cell_type": "code",
   "execution_count": 11,
   "metadata": {},
   "outputs": [
    {
     "name": "stdout",
     "output_type": "stream",
     "text": [
      "Decomposed model accuracy is 0.949\n"
     ]
    }
   ],
   "source": [
    "from sklearn.metrics import accuracy_score\n",
    "decomposed_model_pred = accuracy_score(finalPred,yt)\n",
    "print(f'Decomposed model accuracy is {decomposed_model_pred}')"
   ]
  }
 ],
 "metadata": {
  "kernelspec": {
   "display_name": "reless-python3.8",
   "language": "python",
   "name": "python3"
  },
  "language_info": {
   "codemirror_mode": {
    "name": "ipython",
    "version": 3
   },
   "file_extension": ".py",
   "mimetype": "text/x-python",
   "name": "python",
   "nbconvert_exporter": "python",
   "pygments_lexer": "ipython3",
   "version": "3.8.15"
  }
 },
 "nbformat": 4,
 "nbformat_minor": 2
}
