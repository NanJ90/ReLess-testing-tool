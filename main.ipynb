{
 "cells": [
  {
   "cell_type": "code",
   "execution_count": 1,
   "metadata": {},
   "outputs": [
    {
     "name": "stdout",
     "output_type": "stream",
     "text": [
      "(60000, 28, 28) (60000,) (10000, 28, 28) (10000,)\n",
      "<class 'numpy.ndarray'> <class 'numpy.ndarray'> <class 'numpy.ndarray'> <class 'numpy.ndarray'>\n"
     ]
    }
   ],
   "source": [
    "import tensorflow as tf\n",
    "from tensorflow.keras.datasets import mnist\n",
    "\n",
    "# load mnist dataset\n",
    "(x_train, y_train), (x_test, y_test) = mnist.load_data()\n",
    "print(x_train.shape, y_train.shape, x_test.shape, y_test.shape)\n",
    "#checking data type in dataset\n",
    "print(type(x_train), type(y_train), type(x_test), type(y_test))"
   ]
  },
  {
   "cell_type": "code",
   "execution_count": null,
   "metadata": {},
   "outputs": [],
   "source": [
    "#building DNN models\n",
    "hidden_layers = [1, 2, 3, 4]\n",
    "layer_size = 49\n",
    "models = []\n",
    "\n",
    "epoch_size = 50\n",
    "\n",
    "for num_layers in hidden_layers:\n",
    "    model = tf.keras.models.Sequential()\n",
    "    #flatten the input\n",
    "    model.add(tf.keras.layers.Flatten(input_shape=(28, 28)))\n",
    "    \n",
    "    for _ in range(num_layers):\n",
    "        model.add(tf.keras.layers.Dense(layer_size, activation='relu'))\n",
    "    \n",
    "    model.add(tf.keras.layers.Dense(10, activation='softmax'))\n",
    "\n",
    "    model.compile(optimizer='adam', loss='sparse_categorical_crossentropy', metrics=['accuracy'])\n",
    "    model.fit(x_train, y_train, epochs=epoch_size, validation_data=(x_test, y_test))\n",
    "   \n",
    "    models.append(model)\n",
    "    \n"
   ]
  },
  {
   "cell_type": "markdown",
   "metadata": {},
   "source": []
  },
  {
   "cell_type": "code",
   "execution_count": 17,
   "metadata": {},
   "outputs": [
    {
     "name": "stdout",
     "output_type": "stream",
     "text": [
      "Model with 1 hidden layers:\n",
      "Max accuracy: 0.9606166481971741 at epoch 48\n",
      "Min loss: 0.15416760742664337 at epoch 47\n",
      "\n",
      "\n",
      "Model with 2 hidden layers:\n",
      "Max accuracy: 0.984083354473114 at epoch 50\n",
      "Min loss: 0.05779871717095375 at epoch 50\n",
      "\n",
      "\n",
      "Model with 3 hidden layers:\n",
      "Max accuracy: 0.9910666942596436 at epoch 46\n",
      "Min loss: 0.034261833876371384 at epoch 46\n",
      "\n",
      "\n",
      "Model with 4 hidden layers:\n",
      "Max accuracy: 0.9914666414260864 at epoch 49\n",
      "Min loss: 0.03291169926524162 at epoch 49\n",
      "\n",
      "\n"
     ]
    }
   ],
   "source": [
    "#save each model's accuracy and loss for the 50 epochs\n",
    "accuracy = []\n",
    "loss = []\n",
    "for model in models:\n",
    "    accuracy.append(model.history.history['accuracy'])\n",
    "    loss.append(model.history.history['loss'])\n",
    "#print the max accuracy and min loss for each model and the corresponding epoch\n",
    "for i in range(len(hidden_layers)):\n",
    "    print(\"Model with {} hidden layers:\".format(hidden_layers[i]))\n",
    "    print(\"Max accuracy: {} at epoch {}\".format(max(accuracy[i]), accuracy[i].index(max(accuracy[i]))+1))\n",
    "    print(\"Min loss: {} at epoch {}\".format(min(loss[i]), loss[i].index(min(loss[i]))+1))\n",
    "    print(\"\\n\")\n"
   ]
  },
  {
   "cell_type": "markdown",
   "metadata": {},
   "source": [
    "# reproducing Rajan's results"
   ]
  },
  {
   "cell_type": "code",
   "execution_count": 2,
   "metadata": {},
   "outputs": [
    {
     "name": "stderr",
     "output_type": "stream",
     "text": [
      "Using TensorFlow backend.\n"
     ]
    }
   ],
   "source": [
    "#import each models' h5 \n",
    "import h5py\n",
    "import os\n",
    "import glob\n",
    "import importlib\n",
    "from tensorflow.keras.models import load_model\n",
    "import pandas as pd\n",
    "import tensorflow as tf\n",
    "import sys\n",
    "# sys.path.append('/Users/nanspro/repos/decomposeDNNintoModules/Approach 6 (CM-RIE)/MNIST/MNIST-1/')\n",
    "from utils.mnistutil import MNISTUitl\n"
   ]
  },
  {
   "cell_type": "code",
   "execution_count": 4,
   "metadata": {},
   "outputs": [
    {
     "name": "stdout",
     "output_type": "stream",
     "text": [
      "(0, 12)\n"
     ]
    }
   ],
   "source": [
    "columns = pd.MultiIndex.from_tuples([('TI-I','original'),('TI-I','Refactored'),('TI-PN','original'),('TI-PN','Refactored'),('TI-HP','original'),('TI-HP','Refactored'),('TI-SNE','original'),('TI-SNE','Refactored'),('CM-C','original'),('CM-C','Refactored'),('CM-RIE','original'),('CM-RIE','Refactored')])\n",
    "df = pd.DataFrame(columns=columns)\n",
    "print(df.shape)"
   ]
  },
  {
   "cell_type": "markdown",
   "metadata": {},
   "source": [
    "# Retriving MNIST data"
   ]
  },
  {
   "cell_type": "code",
   "execution_count": 2,
   "metadata": {},
   "outputs": [
    {
     "ename": "NameError",
     "evalue": "name 'MNISTUitl' is not defined",
     "output_type": "error",
     "traceback": [
      "\u001b[0;31m---------------------------------------------------------------------------\u001b[0m",
      "\u001b[0;31mNameError\u001b[0m                                 Traceback (most recent call last)",
      "\u001b[0;32m/var/folders/cw/n3c11rb162191jttykhpd_d00000gn/T/ipykernel_1948/91358421.py\u001b[0m in \u001b[0;36m<module>\u001b[0;34m\u001b[0m\n\u001b[1;32m      3\u001b[0m \u001b[0msx\u001b[0m \u001b[0;34m=\u001b[0m \u001b[0;36m28\u001b[0m\u001b[0;34m\u001b[0m\u001b[0;34m\u001b[0m\u001b[0m\n\u001b[1;32m      4\u001b[0m \u001b[0msy\u001b[0m \u001b[0;34m=\u001b[0m \u001b[0;36m28\u001b[0m\u001b[0;34m\u001b[0m\u001b[0;34m\u001b[0m\u001b[0m\n\u001b[0;32m----> 5\u001b[0;31m \u001b[0mmn\u001b[0m \u001b[0;34m=\u001b[0m \u001b[0mMNISTUitl\u001b[0m\u001b[0;34m(\u001b[0m\u001b[0;34m)\u001b[0m\u001b[0;34m\u001b[0m\u001b[0;34m\u001b[0m\u001b[0m\n\u001b[0m\u001b[1;32m      6\u001b[0m \u001b[0mX\u001b[0m\u001b[0;34m,\u001b[0m \u001b[0mY\u001b[0m\u001b[0;34m,\u001b[0m \u001b[0mx\u001b[0m\u001b[0;34m,\u001b[0m \u001b[0my\u001b[0m \u001b[0;34m=\u001b[0m \u001b[0mmn\u001b[0m\u001b[0;34m.\u001b[0m\u001b[0mgetdata2\u001b[0m\u001b[0;34m(\u001b[0m\u001b[0;36m0\u001b[0m\u001b[0;34m,\u001b[0m\u001b[0;36m0\u001b[0m\u001b[0;34m,\u001b[0m\u001b[0msx\u001b[0m\u001b[0;34m,\u001b[0m\u001b[0msy\u001b[0m\u001b[0;34m)\u001b[0m\u001b[0;34m\u001b[0m\u001b[0;34m\u001b[0m\u001b[0m\n\u001b[1;32m      7\u001b[0m \u001b[0;31m#nm , xt, yt = mn.train2(X, Y, x,y,sx,sy,10,50)\u001b[0m\u001b[0;34m\u001b[0m\u001b[0;34m\u001b[0m\u001b[0;34m\u001b[0m\u001b[0m\n",
      "\u001b[0;31mNameError\u001b[0m: name 'MNISTUitl' is not defined"
     ]
    }
   ],
   "source": [
    "\n",
    "# In[]: Data Load\n",
    "labs = [0,1,2,3,4,5,6,7,8,9]\n",
    "sx = 28\n",
    "sy = 28\n",
    "mn = MNISTUitl()\n",
    "X, Y, x, y = mn.getdata2(0,0,sx,sy)\n",
    "#nm , xt, yt = mn.train2(X, Y, x,y,sx,sy,10,50)\n",
    "xt, yt, xT, yT = mn.trainData(X, Y, x,y,sx,sy,10,50)#train x,y and test x,y"
   ]
  },
  {
   "cell_type": "code",
   "execution_count": 6,
   "metadata": {},
   "outputs": [
    {
     "name": "stdout",
     "output_type": "stream",
     "text": [
      "10000/10000 [==============================] - 0s 25us/sample - loss: 0.1744 - acc: 0.9491\n",
      "10000/10000 [==============================] - 0s 32us/sample - loss: 0.1288 - acc: 0.9679\n",
      "10000/10000 [==============================] - 0s 41us/sample - loss: 0.1393 - acc: 0.9630\n",
      "10000/10000 [==============================] - 0s 33us/sample - loss: 0.1070 - acc: 0.9683\n",
      "10000/10000 [==============================] - 0s 31us/sample - loss: 0.1744 - acc: 0.9491\n",
      "10000/10000 [==============================] - 0s 41us/sample - loss: 0.1288 - acc: 0.9679\n",
      "10000/10000 [==============================] - 0s 39us/sample - loss: 0.1393 - acc: 0.9630\n",
      "10000/10000 [==============================] - 0s 42us/sample - loss: 0.1070 - acc: 0.9683\n",
      "10000/10000 [==============================] - 0s 38us/sample - loss: 0.1744 - acc: 0.9491\n",
      "10000/10000 [==============================] - 0s 47us/sample - loss: 0.1288 - acc: 0.9679\n",
      "10000/10000 [==============================] - 0s 48us/sample - loss: 0.1393 - acc: 0.9630\n",
      "10000/10000 [==============================] - 1s 50us/sample - loss: 0.1070 - acc: 0.9683\n",
      "10000/10000 [==============================] - 1s 51us/sample - loss: 0.1070 - acc: 0.9683\n",
      "10000/10000 [==============================] - 1s 67us/sample - loss: 0.1393 - acc: 0.9630\n",
      "10000/10000 [==============================] - 1s 78us/sample - loss: 0.1288 - acc: 0.9679\n",
      "10000/10000 [==============================] - 1s 76us/sample - loss: 0.1744 - acc: 0.9491\n",
      "10000/10000 [==============================] - 1s 67us/sample - loss: 0.1744 - acc: 0.9491\n",
      "10000/10000 [==============================] - 1s 75us/sample - loss: 0.1288 - acc: 0.9679\n",
      "10000/10000 [==============================] - 1s 77us/sample - loss: 0.1393 - acc: 0.9630\n",
      "10000/10000 [==============================] - 1s 69us/sample - loss: 0.1070 - acc: 0.9683\n",
      "10000/10000 [==============================] - 1s 77us/sample - loss: 0.1744 - acc: 0.9491\n",
      "10000/10000 [==============================] - 1s 80us/sample - loss: 0.1288 - acc: 0.9679\n",
      "10000/10000 [==============================] - 1s 107us/sample - loss: 0.1393 - acc: 0.9630\n",
      "10000/10000 [==============================] - 2s 187us/sample - loss: 0.1070 - acc: 0.9683\n"
     ]
    }
   ],
   "source": [
    "base_path = '/Users/nanspro/repos/decomposeDNNintoModules/'\n",
    "def load_model_from_file(base_path):\n",
    "    file_pattern = os.path.join(base_path, '**', 'MNIST' '**', 'mnist.h5')\n",
    "    # file_list = glob.glob(directory_path + '/*.h5')\n",
    "    file_list = glob.glob(file_pattern, recursive=True)\n",
    "\n",
    "    accuracy = {}\n",
    "    for f in file_list:\n",
    "        approach = f.split('/')[-4]\n",
    "        model = load_model(f)\n",
    "        model.compile(optimizer='adam', loss='sparse_categorical_crossentropy', metrics=['accuracy'])\n",
    "        if accuracy.get(approach) is None:\n",
    "            accuracy[approach] = []\n",
    "        \n",
    "        accuracy[approach].append(model.evaluate(xt, yt)[1])\n",
    "    return accuracy\n",
    "    \n",
    "    # # Import each file in the directory\n",
    "    # for file_path in file_list:\n",
    "    # #list of all the files in the directory\n",
    "    #     mnist_module_list.append(os.path.basename(file_path))\n",
    "    #     # Import the h5 file as a module\n",
    "    #     module=load_model(file_path)\n",
    "    #     # Add the module to the list of modules\n",
    "    #     mnist_module_list.append(module)\n",
    "    \n",
    "    # return mnist_module_list\n",
    "    # return file_list\n",
    "acc_obj = load_model_from_file(base_path)"
   ]
  },
  {
   "cell_type": "code",
   "execution_count": 30,
   "metadata": {},
   "outputs": [
    {
     "name": "stdout",
     "output_type": "stream",
     "text": [
      "0.9683\n"
     ]
    }
   ],
   "source": [
    "print(acc_obj['Approach 1 (TI-I)'])"
   ]
  },
  {
   "cell_type": "code",
   "execution_count": 22,
   "metadata": {},
   "outputs": [],
   "source": [
    "def calculate_avg_metric(model,x,y):\n",
    "    pass"
   ]
  },
  {
   "cell_type": "code",
   "execution_count": 16,
   "metadata": {},
   "outputs": [
    {
     "name": "stdout",
     "output_type": "stream",
     "text": [
      "<generator object <genexpr> at 0x7f85f276a850>\n"
     ]
    }
   ],
   "source": [
    "file_list = load_model_from_file(base_path)\n",
    "print(str(i) for i in file_list)"
   ]
  },
  {
   "cell_type": "code",
   "execution_count": 7,
   "metadata": {},
   "outputs": [
    {
     "name": "stdout",
     "output_type": "stream",
     "text": [
      "WARNING:tensorflow:From /Users/nanspro/anaconda3/envs/reless-python3.7.1/lib/python3.7/site-packages/tensorflow_core/python/ops/resource_variable_ops.py:1630: calling BaseResourceVariable.__init__ (from tensorflow.python.ops.resource_variable_ops) with constraint is deprecated and will be removed in a future version.\n",
      "Instructions for updating:\n",
      "If using Keras pass *_constraint arguments to layers.\n"
     ]
    },
    {
     "name": "stderr",
     "output_type": "stream",
     "text": [
      "2024-02-27 14:57:34.293333: I tensorflow/core/platform/cpu_feature_guard.cc:142] Your CPU supports instructions that this TensorFlow binary was not compiled to use: AVX2 FMA\n",
      "2024-02-27 14:57:34.340273: I tensorflow/compiler/xla/service/service.cc:168] XLA service 0x7f8603551600 initialized for platform Host (this does not guarantee that XLA will be used). Devices:\n",
      "2024-02-27 14:57:34.340311: I tensorflow/compiler/xla/service/service.cc:176]   StreamExecutor device (0): Host, Default Version\n"
     ]
    },
    {
     "data": {
      "text/plain": [
       "['module1.h5',\n",
       " <tensorflow.python.keras.engine.sequential.Sequential at 0x7f8610208410>,\n",
       " 'module5.h5',\n",
       " <tensorflow.python.keras.engine.sequential.Sequential at 0x7f860f41f050>,\n",
       " 'module4.h5',\n",
       " <tensorflow.python.keras.engine.sequential.Sequential at 0x7f86102b3b10>,\n",
       " 'module0.h5',\n",
       " <tensorflow.python.keras.engine.sequential.Sequential at 0x7f86102b3810>,\n",
       " 'module7.h5',\n",
       " <tensorflow.python.keras.engine.sequential.Sequential at 0x7f8610d64390>,\n",
       " 'module3.h5',\n",
       " <tensorflow.python.keras.engine.sequential.Sequential at 0x7f861138b850>,\n",
       " 'module2.h5',\n",
       " <tensorflow.python.keras.engine.sequential.Sequential at 0x7f8611c0aa90>,\n",
       " 'module6.h5',\n",
       " <tensorflow.python.keras.engine.sequential.Sequential at 0x7f8611c6bed0>,\n",
       " 'mnist.h5',\n",
       " <tensorflow.python.keras.engine.sequential.Sequential at 0x7f8611c78790>,\n",
       " 'module9.h5',\n",
       " <tensorflow.python.keras.engine.sequential.Sequential at 0x7f85f270a7d0>,\n",
       " 'module8.h5',\n",
       " <tensorflow.python.keras.engine.sequential.Sequential at 0x7f85f30a7c10>]"
      ]
     },
     "execution_count": 7,
     "metadata": {},
     "output_type": "execute_result"
    }
   ],
   "source": []
  },
  {
   "cell_type": "code",
   "execution_count": 5,
   "metadata": {},
   "outputs": [
    {
     "name": "stdout",
     "output_type": "stream",
     "text": [
      "WARNING:tensorflow:From /Users/nanspro/anaconda3/envs/reless-python3.7.1/lib/python3.7/site-packages/tensorflow_core/python/ops/resource_variable_ops.py:1630: calling BaseResourceVariable.__init__ (from tensorflow.python.ops.resource_variable_ops) with constraint is deprecated and will be removed in a future version.\n",
      "Instructions for updating:\n",
      "If using Keras pass *_constraint arguments to layers.\n"
     ]
    },
    {
     "name": "stderr",
     "output_type": "stream",
     "text": [
      "2024-02-27 14:43:39.196002: I tensorflow/core/platform/cpu_feature_guard.cc:142] Your CPU supports instructions that this TensorFlow binary was not compiled to use: AVX2 FMA\n",
      "2024-02-27 14:43:39.238224: I tensorflow/compiler/xla/service/service.cc:168] XLA service 0x7f7c1c61f6e0 initialized for platform Host (this does not guarantee that XLA will be used). Devices:\n",
      "2024-02-27 14:43:39.238246: I tensorflow/compiler/xla/service/service.cc:176]   StreamExecutor device (0): Host, Default Version\n"
     ]
    }
   ],
   "source": [
    "\n",
    "# # Specify the directory path\n",
    "# directory_path = '/Users/nanspro/repos/decomposeDNNintoModules/Approach 6 (CM-RIE)/MNIST/MNIST-1'\n",
    "\n",
    "# # Get a list of all the Python files in the directory\n",
    "# file_list = glob.glob(directory_path + '/*.h5')\n",
    "# mnist_module_list = []\n",
    "# # Import each file in the directory\n",
    "# for file_path in file_list:\n",
    "#    #list of all the files in the directory\n",
    "#     mnist_module_list.append(os.path.basename(file_path))\n",
    "#     # Import the h5 file as a module\n",
    "#     module=load_model(file_path)\n",
    "#     # Add the module to the list of modules\n",
    "#     mnist_module_list.append(module)\n",
    "    \n",
    "    \n"
   ]
  },
  {
   "cell_type": "markdown",
   "metadata": {},
   "source": [
    "# Refactored systems"
   ]
  },
  {
   "cell_type": "code",
   "execution_count": 3,
   "metadata": {},
   "outputs": [
    {
     "name": "stderr",
     "output_type": "stream",
     "text": [
      "Using TensorFlow backend.\n"
     ]
    }
   ],
   "source": [
    "# from tensorflow.keras.models import load_model\n",
    "# import tensorflow as tf\n",
    "# import sys\n",
    "# sys.path.append('/Users/nanspro/repos/decomposeDNNintoModules/Approach 6 (CM-RIE)/MNIST/MNIST-1/')\n",
    "# from utils.mnistutil import MNISTUitl\n"
   ]
  },
  {
   "cell_type": "code",
   "execution_count": 11,
   "metadata": {},
   "outputs": [],
   "source": [
    "\n",
    "#Module Load\n",
    "module0=load_model('/Users/nanspro/repos/decomposeDNNintoModules/Approach 6 (CM-RIE)/MNIST/MNIST-1/module0.h5')\n",
    "module1=load_model('/Users/nanspro/repos/decomposeDNNintoModules/Approach 6 (CM-RIE)/MNIST/MNIST-1/module1.h5')\n",
    "module2=load_model('/Users/nanspro/repos/decomposeDNNintoModules/Approach 6 (CM-RIE)/MNIST/MNIST-1/module2.h5')\n",
    "module3=load_model('/Users/nanspro/repos/decomposeDNNintoModules/Approach 6 (CM-RIE)/MNIST/MNIST-1/module3.h5')\n",
    "module4=load_model('/Users/nanspro/repos/decomposeDNNintoModules/Approach 6 (CM-RIE)/MNIST/MNIST-1/module4.h5')\n",
    "module5=load_model('/Users/nanspro/repos/decomposeDNNintoModules/Approach 6 (CM-RIE)/MNIST/MNIST-1/module5.h5')\n",
    "module6=load_model('/Users/nanspro/repos/decomposeDNNintoModules/Approach 6 (CM-RIE)/MNIST/MNIST-1/module6.h5')\n",
    "module7=load_model('/Users/nanspro/repos/decomposeDNNintoModules/Approach 6 (CM-RIE)/MNIST/MNIST-1/module7.h5')\n",
    "module8=load_model('/Users/nanspro/repos/decomposeDNNintoModules/Approach 6 (CM-RIE)/MNIST/MNIST-1/module8.h5')\n",
    "module9=load_model('/Users/nanspro/repos/decomposeDNNintoModules/Approach 6 (CM-RIE)/MNIST/MNIST-1/module9.h5')\n"
   ]
  },
  {
   "cell_type": "markdown",
   "metadata": {},
   "source": [
    "## retriving the data"
   ]
  },
  {
   "cell_type": "code",
   "execution_count": 121,
   "metadata": {},
   "outputs": [
    {
     "name": "stdout",
     "output_type": "stream",
     "text": [
      "x_train shape: (60000, 28, 28, 1)\n",
      "(60000, 28, 28, 1) 60000 train samples (60000,)\n",
      "10000 test samples\n",
      "(60000,) (60000,)\n"
     ]
    }
   ],
   "source": [
    "\n",
    "# In[]: Data Load\n",
    "labs = [0,1,2,3,4,5,6,7,8,9]\n",
    "sx = 28\n",
    "sy = 28\n",
    "mn = MNISTUitl()\n",
    "X, Y, x, y = mn.getdata2(0,0,sx,sy)\n",
    "#nm , xt, yt = mn.train2(X, Y, x,y,sx,sy,10,50)\n",
    "xt, yt, xT, yT = mn.trainData(X, Y, x,y,sx,sy,10,50)#train x,y and test x,y\n",
    "# In[]: Parallel execution of modules\n",
    "\n"
   ]
  },
  {
   "cell_type": "markdown",
   "metadata": {},
   "source": [
    "# input perturbation"
   ]
  },
  {
   "cell_type": "code",
   "execution_count": 133,
   "metadata": {},
   "outputs": [],
   "source": [
    "def add_gaussian_noise(image, noise_level):\n",
    "    # Assume 'image' is a flattened 784-dimensional vector\n",
    "    # 'noise_level' acts as the radius in this context\n",
    "    noise = np.random.normal(0, noise_level, image.shape)\n",
    "    noisy_image = image + noise\n",
    "    # Clip to maintain valid pixel values\n",
    "    noisy_image = np.clip(noisy_image, 0, 255)\n",
    "    return noisy_image"
   ]
  },
  {
   "cell_type": "code",
   "execution_count": 134,
   "metadata": {},
   "outputs": [],
   "source": [
    "#convert numpy array to image\n",
    "def convert_to_image(arr):\n",
    "    arr = arr.reshape(28, 28)\n",
    "    arr = arr * 255\n",
    "    arr = arr.astype(np.uint8)\n",
    "    return arr"
   ]
  },
  {
   "cell_type": "code",
   "execution_count": 89,
   "metadata": {},
   "outputs": [
    {
     "data": {
      "image/png": "[encoded data removed]",
      "text/plain": [
       "<Figure size 640x480 with 1 Axes>"
      ]
     },
     "metadata": {},
     "output_type": "display_data"
    },
    {
     "data": {
      "text/plain": [
       "<matplotlib.image.AxesImage at 0x7fa83ce69690>"
      ]
     },
     "execution_count": 89,
     "metadata": {},
     "output_type": "execute_result"
    },
    {
     "data": {
      "image/png": "[encoded data removed]",
      "text/plain": [
       "<Figure size 640x480 with 1 Axes>"
      ]
     },
     "metadata": {},
     "output_type": "display_data"
    }
   ],
   "source": [
    "from PIL import Image as im \n",
    "#load MNIST data    \n",
    "from tensorflow.keras.datasets import mnist\n",
    "plt.imshow(xt[0].reshape(28, 28), cmap='gray')\n",
    "plt.show()\n",
    "#add noise to the image\n",
    "noisy_image = add_gaussian_noise(xt[0], 0.05)#standard value\n",
    "noisy_image = convert_to_image(noisy_image)\n",
    "plt.imshow(noisy_image, cmap='gray')"
   ]
  },
  {
   "cell_type": "code",
   "execution_count": 144,
   "metadata": {},
   "outputs": [],
   "source": [
    "import matplotlib.pyplot as plt\n",
    "import numpy as np\n",
    "from tensorflow.keras.datasets import mnist\n",
    "\n",
    "\n",
    "# # Function to add Gaussian noise to an image\n",
    "# def add_gaussian_noise_cus(image, noise_factor):\n",
    "#     noise = np.random.normal(loc=0.0, scale=noise_factor, size=image.shape)\n",
    "#     noisy_image = image + noise\n",
    "#     noisy_image = np.clip(noisy_image, 0, 255)\n",
    "#     return noisy_image\n",
    "\n",
    "# def add_gaussian_noise_cus(image, noise_factor):\n",
    "#     # if image.dtype != np.float64:  # If the image is a floating point array\n",
    "#         # image = np.array(image)  # Convert image to numpy array\n",
    "#     noise = np.random.normal(loc=0.0, scale=noise_factor, size=image.shape)\n",
    "#     noisy_image = image + noise\n",
    "#     if noisy_image.dtype == np.float64:  # If the image is a floating point array\n",
    "#         noisy_image = np.clip(noisy_image, 0.0, 1.0)\n",
    "#     else:  # If the image is an integer array\n",
    "#         noisy_image = np.clip(noisy_image, 0, 255)\n",
    "#     return noisy_image\n",
    "\n",
    "def add_gaussian_noise_cus(image, noise_factor):\n",
    "    image = np.array(image)  # Convert image to numpy array\n",
    "    noise = np.random.normal(loc=0.0, scale=noise_factor, size=image.shape)\n",
    "    noisy_image = image + noise\n",
    "    if noisy_image.dtype == np.float64:  # If the image is a floating point array\n",
    "        noisy_image = np.clip(noisy_image, 0.0, 1.0)\n",
    "    else:  # If the image is an integer array\n",
    "        noisy_image = np.clip(noisy_image, 0, 255)\n",
    "    return noisy_image"
   ]
  },
  {
   "cell_type": "code",
   "execution_count": 112,
   "metadata": {},
   "outputs": [
    {
     "data": {
      "image/png": "[encoded data removed]",
      "text/plain": [
       "<Figure size 640x480 with 2 Axes>"
      ]
     },
     "metadata": {},
     "output_type": "display_data"
    }
   ],
   "source": [
    "\n",
    "# Load MNIST data\n",
    "(train_images, train_labels), (test_images, test_labels) = mnist.load_data()\n",
    "\n",
    "# Convert the image to float to prevent data type overflow issues during noise addition\n",
    "train_images_float = train_images.astype(float)\n",
    "\n",
    "# Define the noise level as a percentage of the pixel range\n",
    "noise_factor = 2.55  # 1% of the pixel range (255)\n",
    "\n",
    "# Add noise to the first image in the training set\n",
    "noisy_image = add_gaussian_noise(train_images_float[0], noise_factor)\n",
    "\n",
    "# Plot the original image\n",
    "plt.subplot(1, 2, 1)  # 1 row, 2 columns, 1st subplot\n",
    "plt.imshow(train_images[0], cmap='gray')\n",
    "plt.title('Original Image')\n",
    "plt.axis('off')  # Hide the axis to focus on the image\n",
    "\n",
    "# Plot the noisy image\n",
    "plt.subplot(1, 2, 2)  # 1 row, 2 columns, 2nd subplot\n",
    "plt.imshow(noisy_image, cmap='gray')\n",
    "plt.title('Noisy Image')\n",
    "plt.axis('off')\n",
    "\n",
    "# Show the plot with both images\n",
    "plt.show()\n"
   ]
  },
  {
   "cell_type": "code",
   "execution_count": 81,
   "metadata": {},
   "outputs": [],
   "source": [
    "mnist_module = load_model('/Users/nanspro/repos/decomposeDNNintoModules/Approach 1 (TI-I)/MNIST/MNIST-1/mnist.h5')"
   ]
  },
  {
   "cell_type": "code",
   "execution_count": 143,
   "metadata": {},
   "outputs": [
    {
     "data": {
      "image/png": "[encoded data removed]",
      "text/plain": [
       "<Figure size 640x480 with 2 Axes>"
      ]
     },
     "metadata": {},
     "output_type": "display_data"
    }
   ],
   "source": [
    "(x_train,y_train), (x_test, y_test) = mnist.load_data()\n",
    "xT_noised = np.ones(x_train.shape)\n",
    "# Convert the image to float to prevent data type overflow issues during noise addition\n",
    "xT_float = x_train.astype(float)\n",
    "#add noise to each image in the training set xT\n",
    "for i in range(len(x_train)):\n",
    "    xT_noised[i] = add_gaussian_noise_cus(x_train[i],2.55)\n",
    "\n",
    "# Plot the original image\n",
    "plt.subplot(1, 2, 1)  # 1 row, 2 columns, 1st subplot\n",
    "plt.imshow(x_train[0], cmap='gray')\n",
    "plt.title('Original Image')\n",
    "plt.axis('off')  # Hide the axis to focus on the image\n",
    "\n",
    "# Plot the noisy image\n",
    "plt.subplot(1, 2, 2)  # 1 row, 2 columns, 2nd subplot\n",
    "plt.imshow(xT_noised[0], cmap='gray')\n",
    "plt.title('Noisy Image')\n",
    "plt.axis('off')\n",
    "\n",
    "# Show the plot with both images\n",
    "plt.show()"
   ]
  },
  {
   "cell_type": "code",
   "execution_count": 13,
   "metadata": {},
   "outputs": [
    {
     "data": {
      "image/png": "[encoded data removed]",
      "text/plain": [
       "<Figure size 640x480 with 2 Axes>"
      ]
     },
     "metadata": {},
     "output_type": "display_data"
    }
   ],
   "source": [
    "x_train_noised = np.ones(xT.shape)\n",
    "#add noise to each image in the training set xT\n",
    "for i in range(len(xT)):\n",
    "    # print(xT[i].shape)\n",
    "    # reshaped = xT[i].reshape(28, 28)\n",
    "    x_train_noised[i] = add_gaussian_noise_cus(xT[i],0.001)\n",
    "    \n",
    "# Plot the original image\n",
    "plt.subplot(1, 2, 1)  # 1 row, 2 columns, 1st subplot\n",
    "plt.imshow(xT[0].squeeze(), cmap='gray')\n",
    "plt.title('Original Image')\n",
    "plt.axis('off')  # Hide the axis to focus on the image\n",
    "\n",
    "# Plot the noisy image\n",
    "plt.subplot(1, 2, 2)  # 1 row, 2 columns, 2nd subplot\n",
    "plt.imshow(x_train_noised[0].squeeze(), cmap='gray')\n",
    "plt.title('Noisy Image')\n",
    "plt.axis('off')\n",
    "\n",
    "# Show the plot with both images\n",
    "plt.show()"
   ]
  },
  {
   "cell_type": "code",
   "execution_count": 148,
   "metadata": {},
   "outputs": [
    {
     "name": "stdout",
     "output_type": "stream",
     "text": [
      "Train on 60000 samples\n",
      "   32/60000 [..............................] - ETA: 26s - loss: 7.3907 - acc: 0.0625"
     ]
    },
    {
     "name": "stdout",
     "output_type": "stream",
     "text": [
      "60000/60000 [==============================] - 2s 39us/sample - loss: 0.8320 - acc: 0.7882\n"
     ]
    },
    {
     "data": {
      "text/plain": [
       "<tensorflow.python.keras.callbacks.History at 0x7fa87cb6d810>"
      ]
     },
     "execution_count": 148,
     "metadata": {},
     "output_type": "execute_result"
    }
   ],
   "source": [
    "\n",
    "#fitting the model with the noised data(input perturbation for all input)\n",
    "mnist_module.fit(x_train_noised,yT)"
   ]
  },
  {
   "cell_type": "markdown",
   "metadata": {},
   "source": [
    "### recompile the model with perturbation"
   ]
  },
  {
   "cell_type": "code",
   "execution_count": 14,
   "metadata": {},
   "outputs": [
    {
     "name": "stdout",
     "output_type": "stream",
     "text": [
      "Train on 60000 samples\n",
      "60000/60000 [==============================] - 6s 103us/sample - loss: 0.8693 - acc: 0.8389\n",
      "Train on 60000 samples\n",
      "60000/60000 [==============================] - 6s 105us/sample - loss: 0.8441 - acc: 0.8480\n",
      "Train on 60000 samples\n",
      "60000/60000 [==============================] - 8s 135us/sample - loss: 0.8691 - acc: 0.8385\n",
      "Train on 60000 samples\n",
      "60000/60000 [==============================] - 8s 129us/sample - loss: 0.8736 - acc: 0.8353\n",
      "Train on 60000 samples\n",
      "60000/60000 [==============================] - 6s 98us/sample - loss: 0.8621 - acc: 0.8382\n",
      "Train on 60000 samples\n",
      "60000/60000 [==============================] - 6s 105us/sample - loss: 0.8744 - acc: 0.8363\n",
      "Train on 60000 samples\n",
      "60000/60000 [==============================] - 6s 100us/sample - loss: 0.8746 - acc: 0.8370\n",
      "Train on 60000 samples\n",
      "60000/60000 [==============================] - 7s 113us/sample - loss: 0.8662 - acc: 0.8361\n",
      "Train on 60000 samples\n",
      "60000/60000 [==============================] - 7s 116us/sample - loss: 0.8736 - acc: 0.8327\n",
      "Train on 60000 samples\n",
      "60000/60000 [==============================] - 6s 103us/sample - loss: 0.8780 - acc: 0.8308\n"
     ]
    },
    {
     "data": {
      "text/plain": [
       "<tensorflow.python.keras.callbacks.History at 0x7f8298ea77d0>"
      ]
     },
     "execution_count": 14,
     "metadata": {},
     "output_type": "execute_result"
    }
   ],
   "source": [
    "module0.fit(x_train_noised, yT)\n",
    "module1.fit(x_train_noised, yT)\n",
    "module2.fit(x_train_noised, yT)\n",
    "module3.fit(x_train_noised, yT)\n",
    "module4.fit(x_train_noised, yT)\n",
    "module5.fit(x_train_noised, yT)\n",
    "module6.fit(x_train_noised, yT)\n",
    "module7.fit(x_train_noised, yT)\n",
    "module8.fit(x_train_noised, yT)\n",
    "module9.fit(x_train_noised, yT)\n"
   ]
  },
  {
   "cell_type": "code",
   "execution_count": null,
   "metadata": {},
   "outputs": [],
   "source": []
  },
  {
   "cell_type": "code",
   "execution_count": 15,
   "metadata": {},
   "outputs": [],
   "source": [
    "finalPred=[]\n",
    "for i in range(0,len(yt)):\n",
    "    #M0 prediction\n",
    "    pred0 = module0.predict(xt[i:i+1])\n",
    "    maxPred0= pred0.argmax()\n",
    "    if(maxPred0!=0):\n",
    "        maxPred0=10\n",
    "    #M1 prediction\n",
    "    pred1 = module1.predict(xt[i:i+1])\n",
    "    maxPred1= pred1.argmax()\n",
    "    if(maxPred1!=1):\n",
    "        maxPred1=10\n",
    "    #M2 prediction\n",
    "    pred2 = module2.predict(xt[i:i+1])\n",
    "    maxPred2= pred2.argmax()\n",
    "    if(maxPred2!=2):\n",
    "        maxPred2=10\n",
    "    #M3 prediction\n",
    "    pred3 = module3.predict(xt[i:i+1])\n",
    "    maxPred3= pred3.argmax()\n",
    "    if(maxPred3!=3):\n",
    "        maxPred3=10\n",
    "    #M4 prediction\n",
    "    pred4 = module4.predict(xt[i:i+1])\n",
    "    maxPred4= pred4.argmax()\n",
    "    if(maxPred4!=4):\n",
    "        maxPred4=10\n",
    "    #M5 prediction\n",
    "    pred5 = module5.predict(xt[i:i+1])\n",
    "    maxPred5= pred5.argmax()\n",
    "    if(maxPred5!=5):\n",
    "        maxPred5=10\n",
    "    #M6 prediction\n",
    "    pred6 = module6.predict(xt[i:i+1])\n",
    "    maxPred6= pred6.argmax()\n",
    "    if(maxPred6!=6):\n",
    "        maxPred6=10\n",
    "    #M7 prediction\n",
    "    pred7 = module7.predict(xt[i:i+1])\n",
    "    maxPred7= pred7.argmax()\n",
    "    if(maxPred7!=7):\n",
    "        maxPred7=10\n",
    "    #M8 prediction\n",
    "    pred8 = module8.predict(xt[i:i+1])\n",
    "    maxPred8= pred8.argmax()\n",
    "    if(maxPred8!=8):\n",
    "        maxPred8=10\n",
    "    #M9 prediction\n",
    "    pred9 = module9.predict(xt[i:i+1])\n",
    "    maxPred9= pred9.argmax()\n",
    "    if(maxPred9!=9):\n",
    "        maxPred9=10\n",
    "#In[]: compute accuracy\n",
    "    pred=[]\n",
    "    pred.append(maxPred0)\n",
    "    pred.append(maxPred1)\n",
    "    pred.append(maxPred2)\n",
    "    pred.append(maxPred3)\n",
    "    pred.append(maxPred4)\n",
    "    pred.append(maxPred5)\n",
    "    pred.append(maxPred6)\n",
    "    pred.append(maxPred7)\n",
    "    pred.append(maxPred8)\n",
    "    pred.append(maxPred9)\n",
    "#In[]:\n",
    "#pred=np.array(pred)\n",
    "#Case 1: if all of them are negative\n",
    "    if(pred.count(10)==10):\n",
    "        maxPrediction=[]\n",
    "        maxPrediction.append(pred0[0][0])\n",
    "        maxPrediction.append(pred1[0][1])\n",
    "        maxPrediction.append(pred2[0][2])\n",
    "        maxPrediction.append(pred3[0][3])\n",
    "        maxPrediction.append(pred4[0][4])\n",
    "        maxPrediction.append(pred5[0][5])\n",
    "        maxPrediction.append(pred6[0][6])\n",
    "        maxPrediction.append(pred7[0][7])\n",
    "        maxPrediction.append(pred8[0][8])\n",
    "        maxPrediction.append(pred9[0][9])\n",
    "        finalPred.append(maxPrediction.index(max(maxPrediction)))\n",
    "     # More than one vote   \n",
    "    elif (pred.count(10)<9):\n",
    "        maxPrediction=[]\n",
    "        maxPrediction.append(pred0[0][0])\n",
    "        maxPrediction.append(pred1[0][1])\n",
    "        maxPrediction.append(pred2[0][2])\n",
    "        maxPrediction.append(pred3[0][3])\n",
    "        maxPrediction.append(pred4[0][4])\n",
    "        maxPrediction.append(pred5[0][5])\n",
    "        maxPrediction.append(pred6[0][6])\n",
    "        maxPrediction.append(pred7[0][7])\n",
    "        maxPrediction.append(pred8[0][8])\n",
    "        maxPrediction.append(pred9[0][9])\n",
    "        argPred=[]\n",
    "        valPred=[]\n",
    "        for i in pred:\n",
    "            if(i!=10):\n",
    "                valPred.append(maxPrediction[i])\n",
    "                #argPred.append(i)\n",
    "        finalPred.append(maxPrediction.index(max(valPred)) )     \n",
    "    #Case 3: One vote\n",
    "    elif(pred.count(10)==9):\n",
    "        for i in pred:\n",
    "            if(i!=10):\n",
    "               finalPred.append(i) "
   ]
  },
  {
   "cell_type": "code",
   "execution_count": 16,
   "metadata": {},
   "outputs": [
    {
     "name": "stdout",
     "output_type": "stream",
     "text": [
      "0.8765\n"
     ]
    }
   ],
   "source": [
    "from sklearn.metrics import accuracy_score\n",
    "print(accuracy_score(finalPred,yt))"
   ]
  },
  {
   "cell_type": "markdown",
   "metadata": {},
   "source": [
    "# Original systems"
   ]
  },
  {
   "cell_type": "code",
   "execution_count": 3,
   "metadata": {},
   "outputs": [
    {
     "name": "stdout",
     "output_type": "stream",
     "text": [
      "WARNING:tensorflow:From /Users/nanspro/anaconda3/envs/reless-python3.7.1/lib/python3.7/site-packages/tensorflow_core/python/ops/resource_variable_ops.py:1630: calling BaseResourceVariable.__init__ (from tensorflow.python.ops.resource_variable_ops) with constraint is deprecated and will be removed in a future version.\n",
      "Instructions for updating:\n",
      "If using Keras pass *_constraint arguments to layers.\n"
     ]
    },
    {
     "name": "stderr",
     "output_type": "stream",
     "text": [
      "2024-04-25 00:06:29.293990: I tensorflow/core/platform/cpu_feature_guard.cc:142] Your CPU supports instructions that this TensorFlow binary was not compiled to use: AVX2 FMA\n",
      "2024-04-25 00:06:29.349896: I tensorflow/compiler/xla/service/service.cc:168] XLA service 0x7fcbeccf1230 initialized for platform Host (this does not guarantee that XLA will be used). Devices:\n",
      "2024-04-25 00:06:29.349917: I tensorflow/compiler/xla/service/service.cc:176]   StreamExecutor device (0): Host, Default Version\n"
     ]
    }
   ],
   "source": [
    "mnist_module = load_model('/Users/nanspro/repos/decomposeDNNintoModules/Approach 6 (CM-RIE)/MNIST/MNIST-1/mnist.h5')"
   ]
  },
  {
   "cell_type": "code",
   "execution_count": 18,
   "metadata": {},
   "outputs": [],
   "source": [
    "from sklearn.ensemble import RandomForestClassifier\n",
    "my_model = RandomForestClassifier(n_estimators=6, random_state=0)\n",
    "\n",
    "#fitting image data to 2d array\n",
    "xT = xT.reshape(60000, 784)\n",
    "my_model.fit(xT, yT)\n",
    "xt = xt.reshape(10000, 784)"
   ]
  },
  {
   "cell_type": "code",
   "execution_count": 34,
   "metadata": {},
   "outputs": [
    {
     "name": "stderr",
     "output_type": "stream",
     "text": [
      "/Users/nanspro/anaconda3/envs/reless-python3.7.1/lib/python3.7/site-packages/sklearn/inspection/_plot/partial_dependence.py:1110: UserWarning: Attempting to set identical bottom==top results\n",
      "in singular transformations; automatically expanding.\n",
      "bottom=0.09996666666666637, top=0.09996666666666637\n",
      "  ax.set_ylim(self.pdp_lim[1])\n"
     ]
    },
    {
     "data": {
      "text/plain": [
       "<Figure size 2000x1000 with 0 Axes>"
      ]
     },
     "metadata": {},
     "output_type": "display_data"
    },
    {
     "data": {
      "image/png": "[encoded data removed]",
      "text/plain": [
       "<Figure size 640x480 with 11 Axes>"
      ]
     },
     "metadata": {},
     "output_type": "display_data"
    }
   ],
   "source": [
    "import matplotlib.pyplot as plt\n",
    "plt.figure(figsize=(20, 10))\n",
    "disp1 = PartialDependenceDisplay.from_estimator(my_model, xt,features=[0,1,2,3,4,5,6,7,8,9],target=0)\n",
    "plt.show()"
   ]
  },
  {
   "cell_type": "code",
   "execution_count": 13,
   "metadata": {},
   "outputs": [
    {
     "name": "stdout",
     "output_type": "stream",
     "text": [
      "Train on 60000 samples\n"
     ]
    },
    {
     "ename": "ValueError",
     "evalue": "target must be specified for multi-class",
     "output_type": "error",
     "traceback": [
      "\u001b[0;31m---------------------------------------------------------------------------\u001b[0m",
      "\u001b[0;31mValueError\u001b[0m                                Traceback (most recent call last)",
      "\u001b[0;32m/var/folders/cw/n3c11rb162191jttykhpd_d00000gn/T/ipykernel_2108/822584893.py\u001b[0m in \u001b[0;36m<module>\u001b[0;34m\u001b[0m\n\u001b[1;32m      9\u001b[0m \u001b[0;31m# # print(class_names)\u001b[0m\u001b[0;34m\u001b[0m\u001b[0;34m\u001b[0m\u001b[0;34m\u001b[0m\u001b[0m\n\u001b[1;32m     10\u001b[0m \u001b[0;31m# # Create the display\u001b[0m\u001b[0;34m\u001b[0m\u001b[0;34m\u001b[0m\u001b[0;34m\u001b[0m\u001b[0m\n\u001b[0;32m---> 11\u001b[0;31m \u001b[0mdisp1\u001b[0m \u001b[0;34m=\u001b[0m \u001b[0mPartialDependenceDisplay\u001b[0m\u001b[0;34m.\u001b[0m\u001b[0mfrom_estimator\u001b[0m\u001b[0;34m(\u001b[0m\u001b[0mmodel\u001b[0m\u001b[0;34m,\u001b[0m\u001b[0mxT\u001b[0m\u001b[0;34m,\u001b[0m \u001b[0mfeatures\u001b[0m \u001b[0;34m=\u001b[0m\u001b[0mclass_names\u001b[0m\u001b[0;34m)\u001b[0m\u001b[0;34m\u001b[0m\u001b[0;34m\u001b[0m\u001b[0m\n\u001b[0m\u001b[1;32m     12\u001b[0m \u001b[0;31m# Specify the target class index (e.g., 0 for class \"0\")\u001b[0m\u001b[0;34m\u001b[0m\u001b[0;34m\u001b[0m\u001b[0;34m\u001b[0m\u001b[0m\n\u001b[1;32m     13\u001b[0m \u001b[0;31m# target_class_index = 0\u001b[0m\u001b[0;34m\u001b[0m\u001b[0;34m\u001b[0m\u001b[0;34m\u001b[0m\u001b[0m\n",
      "\u001b[0;32m~/anaconda3/envs/reless-python3.7.1/lib/python3.7/site-packages/sklearn/inspection/_plot/partial_dependence.py\u001b[0m in \u001b[0;36mfrom_estimator\u001b[0;34m(cls, estimator, X, features, feature_names, target, response_method, n_cols, grid_resolution, percentiles, method, n_jobs, verbose, line_kw, ice_lines_kw, pd_line_kw, contour_kw, ax, kind, subsample, random_state)\u001b[0m\n\u001b[1;32m    931\u001b[0m             \u001b[0mkind\u001b[0m\u001b[0;34m=\u001b[0m\u001b[0mkind\u001b[0m\u001b[0;34m,\u001b[0m\u001b[0;34m\u001b[0m\u001b[0;34m\u001b[0m\u001b[0m\n\u001b[1;32m    932\u001b[0m             \u001b[0msubsample\u001b[0m\u001b[0;34m=\u001b[0m\u001b[0msubsample\u001b[0m\u001b[0;34m,\u001b[0m\u001b[0;34m\u001b[0m\u001b[0;34m\u001b[0m\u001b[0m\n\u001b[0;32m--> 933\u001b[0;31m             \u001b[0mrandom_state\u001b[0m\u001b[0;34m=\u001b[0m\u001b[0mrandom_state\u001b[0m\u001b[0;34m,\u001b[0m\u001b[0;34m\u001b[0m\u001b[0;34m\u001b[0m\u001b[0m\n\u001b[0m\u001b[1;32m    934\u001b[0m         )\n\u001b[1;32m    935\u001b[0m \u001b[0;34m\u001b[0m\u001b[0m\n",
      "\u001b[0;32m~/anaconda3/envs/reless-python3.7.1/lib/python3.7/site-packages/sklearn/inspection/_plot/partial_dependence.py\u001b[0m in \u001b[0;36m_plot_partial_dependence\u001b[0;34m(estimator, X, features, feature_names, target, response_method, n_cols, grid_resolution, percentiles, method, n_jobs, verbose, line_kw, ice_lines_kw, pd_line_kw, contour_kw, ax, kind, subsample, random_state)\u001b[0m\n\u001b[1;32m    341\u001b[0m     \u001b[0;32mif\u001b[0m \u001b[0mhasattr\u001b[0m\u001b[0;34m(\u001b[0m\u001b[0mestimator\u001b[0m\u001b[0;34m,\u001b[0m \u001b[0;34m\"classes_\"\u001b[0m\u001b[0;34m)\u001b[0m \u001b[0;32mand\u001b[0m \u001b[0mnp\u001b[0m\u001b[0;34m.\u001b[0m\u001b[0msize\u001b[0m\u001b[0;34m(\u001b[0m\u001b[0mestimator\u001b[0m\u001b[0;34m.\u001b[0m\u001b[0mclasses_\u001b[0m\u001b[0;34m)\u001b[0m \u001b[0;34m>\u001b[0m \u001b[0;36m2\u001b[0m\u001b[0;34m:\u001b[0m\u001b[0;34m\u001b[0m\u001b[0;34m\u001b[0m\u001b[0m\n\u001b[1;32m    342\u001b[0m         \u001b[0;32mif\u001b[0m \u001b[0mtarget\u001b[0m \u001b[0;32mis\u001b[0m \u001b[0;32mNone\u001b[0m\u001b[0;34m:\u001b[0m\u001b[0;34m\u001b[0m\u001b[0;34m\u001b[0m\u001b[0m\n\u001b[0;32m--> 343\u001b[0;31m             \u001b[0;32mraise\u001b[0m \u001b[0mValueError\u001b[0m\u001b[0;34m(\u001b[0m\u001b[0;34m\"target must be specified for multi-class\"\u001b[0m\u001b[0;34m)\u001b[0m\u001b[0;34m\u001b[0m\u001b[0;34m\u001b[0m\u001b[0m\n\u001b[0m\u001b[1;32m    344\u001b[0m         \u001b[0mtarget_idx\u001b[0m \u001b[0;34m=\u001b[0m \u001b[0mnp\u001b[0m\u001b[0;34m.\u001b[0m\u001b[0msearchsorted\u001b[0m\u001b[0;34m(\u001b[0m\u001b[0mestimator\u001b[0m\u001b[0;34m.\u001b[0m\u001b[0mclasses_\u001b[0m\u001b[0;34m,\u001b[0m \u001b[0mtarget\u001b[0m\u001b[0;34m)\u001b[0m\u001b[0;34m\u001b[0m\u001b[0;34m\u001b[0m\u001b[0m\n\u001b[1;32m    345\u001b[0m         if (\n",
      "\u001b[0;31mValueError\u001b[0m: target must be specified for multi-class"
     ]
    }
   ],
   "source": [
    "from tensorflow.keras.wrappers.scikit_learn import KerasClassifier\n",
    "# mnist_module.loss\n",
    "\n",
    "from sklearn.inspection import PartialDependenceDisplay\n",
    "# Wrap the Keras model with the KerasClassifier\n",
    "model = KerasClassifier(build_fn=lambda: mnist_module, epochs=0, batch_size=1)\n",
    "model.fit(xT, yT)\n",
    "class_names = [i for i in range(10)]\n",
    "# # print(class_names)\n",
    "# # Create the display\n",
    "disp1 = PartialDependenceDisplay.from_estimator(model,xT, features =class_names)\n",
    "# Specify the target class index (e.g., 0 for class \"0\")\n",
    "# target_class_index = 0\n",
    "\n",
    "# Create the display\n",
    "# disp1 = PartialDependenceDisplay.from_estimator(model, xT, features=[target_class_index], feature_names=class_names)"
   ]
  },
  {
   "cell_type": "code",
   "execution_count": 19,
   "metadata": {},
   "outputs": [],
   "source": [
    "def customize_loss(y_true, y_pred):\n",
    "    return tf.keras.losses.sparse_categorical_crossentropy(y_true, y_pred, from_logits=True)"
   ]
  },
  {
   "cell_type": "code",
   "execution_count": 20,
   "metadata": {},
   "outputs": [],
   "source": [
    "mnist_module = load_model('/Users/nanspro/repos/decomposeDNNintoModules/Approach 6 (CM-RIE)/MNIST/MNIST-1/mnist.h5', custom_objects={'customize_loss': customize_loss})\n",
    "mnist_module.compile(optimizer='adam', loss=customize_loss, metrics=['accuracy'])"
   ]
  },
  {
   "cell_type": "code",
   "execution_count": 21,
   "metadata": {},
   "outputs": [
    {
     "ename": "ValueError",
     "evalue": "Error when checking input: expected Input_input to have 4 dimensions, but got array with shape (10000, 784)",
     "output_type": "error",
     "traceback": [
      "\u001b[0;31m---------------------------------------------------------------------------\u001b[0m",
      "\u001b[0;31mValueError\u001b[0m                                Traceback (most recent call last)",
      "\u001b[0;32m/var/folders/cw/n3c11rb162191jttykhpd_d00000gn/T/ipykernel_26913/322632614.py\u001b[0m in \u001b[0;36m<module>\u001b[0;34m\u001b[0m\n\u001b[0;32m----> 1\u001b[0;31m \u001b[0mmnist_module\u001b[0m\u001b[0;34m.\u001b[0m\u001b[0mevaluate\u001b[0m\u001b[0;34m(\u001b[0m\u001b[0mxt\u001b[0m\u001b[0;34m,\u001b[0m \u001b[0myt\u001b[0m\u001b[0;34m)\u001b[0m\u001b[0;34m\u001b[0m\u001b[0;34m\u001b[0m\u001b[0m\n\u001b[0m",
      "\u001b[0;32m~/anaconda3/envs/reless-python3.7.1/lib/python3.7/site-packages/tensorflow_core/python/keras/engine/training.py\u001b[0m in \u001b[0;36mevaluate\u001b[0;34m(self, x, y, batch_size, verbose, sample_weight, steps, callbacks, max_queue_size, workers, use_multiprocessing)\u001b[0m\n\u001b[1;32m    830\u001b[0m         \u001b[0mmax_queue_size\u001b[0m\u001b[0;34m=\u001b[0m\u001b[0mmax_queue_size\u001b[0m\u001b[0;34m,\u001b[0m\u001b[0;34m\u001b[0m\u001b[0;34m\u001b[0m\u001b[0m\n\u001b[1;32m    831\u001b[0m         \u001b[0mworkers\u001b[0m\u001b[0;34m=\u001b[0m\u001b[0mworkers\u001b[0m\u001b[0;34m,\u001b[0m\u001b[0;34m\u001b[0m\u001b[0;34m\u001b[0m\u001b[0m\n\u001b[0;32m--> 832\u001b[0;31m         use_multiprocessing=use_multiprocessing)\n\u001b[0m\u001b[1;32m    833\u001b[0m \u001b[0;34m\u001b[0m\u001b[0m\n\u001b[1;32m    834\u001b[0m   def predict(self,\n",
      "\u001b[0;32m~/anaconda3/envs/reless-python3.7.1/lib/python3.7/site-packages/tensorflow_core/python/keras/engine/training_arrays.py\u001b[0m in \u001b[0;36mevaluate\u001b[0;34m(self, model, x, y, batch_size, verbose, sample_weight, steps, callbacks, **kwargs)\u001b[0m\n\u001b[1;32m    693\u001b[0m         \u001b[0mcheck_steps\u001b[0m\u001b[0;34m=\u001b[0m\u001b[0;32mTrue\u001b[0m\u001b[0;34m,\u001b[0m\u001b[0;34m\u001b[0m\u001b[0;34m\u001b[0m\u001b[0m\n\u001b[1;32m    694\u001b[0m         \u001b[0msteps_name\u001b[0m\u001b[0;34m=\u001b[0m\u001b[0;34m'steps'\u001b[0m\u001b[0;34m,\u001b[0m\u001b[0;34m\u001b[0m\u001b[0;34m\u001b[0m\u001b[0m\n\u001b[0;32m--> 695\u001b[0;31m         steps=steps)\n\u001b[0m\u001b[1;32m    696\u001b[0m     return test_loop(\n\u001b[1;32m    697\u001b[0m         \u001b[0mmodel\u001b[0m\u001b[0;34m,\u001b[0m\u001b[0;34m\u001b[0m\u001b[0;34m\u001b[0m\u001b[0m\n",
      "\u001b[0;32m~/anaconda3/envs/reless-python3.7.1/lib/python3.7/site-packages/tensorflow_core/python/keras/engine/training.py\u001b[0m in \u001b[0;36m_standardize_user_data\u001b[0;34m(self, x, y, sample_weight, class_weight, batch_size, check_steps, steps_name, steps, validation_split, shuffle, extract_tensors_from_dataset)\u001b[0m\n\u001b[1;32m   2469\u001b[0m           \u001b[0mfeed_input_shapes\u001b[0m\u001b[0;34m,\u001b[0m\u001b[0;34m\u001b[0m\u001b[0;34m\u001b[0m\u001b[0m\n\u001b[1;32m   2470\u001b[0m           \u001b[0mcheck_batch_axis\u001b[0m\u001b[0;34m=\u001b[0m\u001b[0;32mFalse\u001b[0m\u001b[0;34m,\u001b[0m  \u001b[0;31m# Don't enforce the batch size.\u001b[0m\u001b[0;34m\u001b[0m\u001b[0;34m\u001b[0m\u001b[0m\n\u001b[0;32m-> 2471\u001b[0;31m           exception_prefix='input')\n\u001b[0m\u001b[1;32m   2472\u001b[0m \u001b[0;34m\u001b[0m\u001b[0m\n\u001b[1;32m   2473\u001b[0m     \u001b[0;31m# Get typespecs for the input data and sanitize it if necessary.\u001b[0m\u001b[0;34m\u001b[0m\u001b[0;34m\u001b[0m\u001b[0;34m\u001b[0m\u001b[0m\n",
      "\u001b[0;32m~/anaconda3/envs/reless-python3.7.1/lib/python3.7/site-packages/tensorflow_core/python/keras/engine/training_utils.py\u001b[0m in \u001b[0;36mstandardize_input_data\u001b[0;34m(data, names, shapes, check_batch_axis, exception_prefix)\u001b[0m\n\u001b[1;32m    561\u001b[0m                            \u001b[0;34m': expected '\u001b[0m \u001b[0;34m+\u001b[0m \u001b[0mnames\u001b[0m\u001b[0;34m[\u001b[0m\u001b[0mi\u001b[0m\u001b[0;34m]\u001b[0m \u001b[0;34m+\u001b[0m \u001b[0;34m' to have '\u001b[0m \u001b[0;34m+\u001b[0m\u001b[0;34m\u001b[0m\u001b[0;34m\u001b[0m\u001b[0m\n\u001b[1;32m    562\u001b[0m                            \u001b[0mstr\u001b[0m\u001b[0;34m(\u001b[0m\u001b[0mlen\u001b[0m\u001b[0;34m(\u001b[0m\u001b[0mshape\u001b[0m\u001b[0;34m)\u001b[0m\u001b[0;34m)\u001b[0m \u001b[0;34m+\u001b[0m \u001b[0;34m' dimensions, but got array '\u001b[0m\u001b[0;34m\u001b[0m\u001b[0;34m\u001b[0m\u001b[0m\n\u001b[0;32m--> 563\u001b[0;31m                            'with shape ' + str(data_shape))\n\u001b[0m\u001b[1;32m    564\u001b[0m         \u001b[0;32mif\u001b[0m \u001b[0;32mnot\u001b[0m \u001b[0mcheck_batch_axis\u001b[0m\u001b[0;34m:\u001b[0m\u001b[0;34m\u001b[0m\u001b[0;34m\u001b[0m\u001b[0m\n\u001b[1;32m    565\u001b[0m           \u001b[0mdata_shape\u001b[0m \u001b[0;34m=\u001b[0m \u001b[0mdata_shape\u001b[0m\u001b[0;34m[\u001b[0m\u001b[0;36m1\u001b[0m\u001b[0;34m:\u001b[0m\u001b[0;34m]\u001b[0m\u001b[0;34m\u001b[0m\u001b[0;34m\u001b[0m\u001b[0m\n",
      "\u001b[0;31mValueError\u001b[0m: Error when checking input: expected Input_input to have 4 dimensions, but got array with shape (10000, 784)"
     ]
    }
   ],
   "source": [
    "mnist_module.evaluate(xt, yt)"
   ]
  },
  {
   "cell_type": "code",
   "execution_count": 70,
   "metadata": {},
   "outputs": [
    {
     "data": {
      "text/plain": [
       "'sparse_categorical_crossentropy'"
      ]
     },
     "execution_count": 70,
     "metadata": {},
     "output_type": "execute_result"
    }
   ],
   "source": [
    "model.loss"
   ]
  },
  {
   "cell_type": "markdown",
   "metadata": {},
   "source": [
    "## original loss and accuracy"
   ]
  },
  {
   "cell_type": "code",
   "execution_count": 4,
   "metadata": {},
   "outputs": [
    {
     "ename": "NameError",
     "evalue": "name 'yt' is not defined",
     "output_type": "error",
     "traceback": [
      "\u001b[0;31m---------------------------------------------------------------------------\u001b[0m",
      "\u001b[0;31mNameError\u001b[0m                                 Traceback (most recent call last)",
      "\u001b[0;32m/var/folders/cw/n3c11rb162191jttykhpd_d00000gn/T/ipykernel_39297/2606376952.py\u001b[0m in \u001b[0;36m<module>\u001b[0;34m\u001b[0m\n\u001b[1;32m      4\u001b[0m \u001b[0;32mimport\u001b[0m \u001b[0mnumpy\u001b[0m \u001b[0;32mas\u001b[0m \u001b[0mnp\u001b[0m\u001b[0;34m\u001b[0m\u001b[0;34m\u001b[0m\u001b[0m\n\u001b[1;32m      5\u001b[0m \u001b[0mlosses\u001b[0m \u001b[0;34m=\u001b[0m \u001b[0;34m[\u001b[0m\u001b[0;34m]\u001b[0m\u001b[0;34m\u001b[0m\u001b[0;34m\u001b[0m\u001b[0m\n\u001b[0;32m----> 6\u001b[0;31m \u001b[0;32mfor\u001b[0m \u001b[0mi\u001b[0m \u001b[0;32min\u001b[0m \u001b[0mrange\u001b[0m\u001b[0;34m(\u001b[0m\u001b[0;36m0\u001b[0m\u001b[0;34m,\u001b[0m\u001b[0mlen\u001b[0m\u001b[0;34m(\u001b[0m\u001b[0myt\u001b[0m\u001b[0;34m)\u001b[0m\u001b[0;34m)\u001b[0m\u001b[0;34m:\u001b[0m\u001b[0;34m\u001b[0m\u001b[0;34m\u001b[0m\u001b[0m\n\u001b[0m\u001b[1;32m      7\u001b[0m     \u001b[0mpred\u001b[0m \u001b[0;34m=\u001b[0m \u001b[0mmodel\u001b[0m\u001b[0;34m.\u001b[0m\u001b[0mpredict\u001b[0m\u001b[0;34m(\u001b[0m\u001b[0mxt\u001b[0m\u001b[0;34m[\u001b[0m\u001b[0mi\u001b[0m\u001b[0;34m:\u001b[0m\u001b[0mi\u001b[0m\u001b[0;34m+\u001b[0m\u001b[0;36m1\u001b[0m\u001b[0;34m]\u001b[0m\u001b[0;34m)\u001b[0m\u001b[0;34m\u001b[0m\u001b[0;34m\u001b[0m\u001b[0m\n\u001b[1;32m      8\u001b[0m     \u001b[0mlosses\u001b[0m\u001b[0;34m.\u001b[0m\u001b[0mappend\u001b[0m\u001b[0;34m(\u001b[0m\u001b[0mpred\u001b[0m\u001b[0;34m[\u001b[0m\u001b[0;36m0\u001b[0m\u001b[0;34m]\u001b[0m\u001b[0;34m[\u001b[0m\u001b[0myt\u001b[0m\u001b[0;34m[\u001b[0m\u001b[0mi\u001b[0m\u001b[0;34m]\u001b[0m\u001b[0;34m]\u001b[0m\u001b[0;34m)\u001b[0m\u001b[0;34m\u001b[0m\u001b[0;34m\u001b[0m\u001b[0m\n",
      "\u001b[0;31mNameError\u001b[0m: name 'yt' is not defined"
     ]
    }
   ],
   "source": [
    "model = load_model('/Users/nanspro/repos/decomposeDNNintoModules/Approach 6 (CM-RIE)/MNIST/MNIST-1/mnist.h5')\n",
    "model.compile(optimizer='adam', loss='sparse_categorical_crossentropy', metrics=['accuracy'])\n",
    "#get loss distribution\n",
    "import numpy as np\n",
    "losses = []\n",
    "for i in range(0,len(yt)):\n",
    "    pred = model.predict(xt[i:i+1])\n",
    "    losses.append(pred[0][yt[i]])\n",
    "# if model has loss function, print that value\n",
    "# from sklearn.metrics import accuracy_score\n",
    "# loss, acc= model.evaluate(xt, yt)\n"
   ]
  },
  {
   "cell_type": "code",
   "execution_count": 23,
   "metadata": {},
   "outputs": [
    {
     "name": "stdout",
     "output_type": "stream",
     "text": [
      "0\n",
      "[]\n"
     ]
    }
   ],
   "source": [
    "print(len(losses))\n",
    "print(losses)"
   ]
  },
  {
   "cell_type": "markdown",
   "metadata": {},
   "source": [
    "## refactored loss and accuracy"
   ]
  },
  {
   "cell_type": "code",
   "execution_count": 24,
   "metadata": {},
   "outputs": [
    {
     "name": "stdout",
     "output_type": "stream",
     "text": [
      "2.232\n"
     ]
    }
   ],
   "source": [
    "def customize_loss(y_true, y_pred):\n",
    "    loss = (y_true - y_pred)**2\n",
    "    \n",
    "    return loss\n",
    "loss = customize_loss(yt, finalPred)\n",
    "print(loss.sum()/len(loss))"
   ]
  },
  {
   "cell_type": "code",
   "execution_count": 25,
   "metadata": {},
   "outputs": [
    {
     "ename": "ValueError",
     "evalue": "Error when checking input: expected Input_input to have 4 dimensions, but got array with shape (1, 784)",
     "output_type": "error",
     "traceback": [
      "\u001b[0;31m---------------------------------------------------------------------------\u001b[0m",
      "\u001b[0;31mValueError\u001b[0m                                Traceback (most recent call last)",
      "\u001b[0;32m/var/folders/cw/n3c11rb162191jttykhpd_d00000gn/T/ipykernel_26913/715210272.py\u001b[0m in \u001b[0;36m<module>\u001b[0;34m\u001b[0m\n\u001b[1;32m      3\u001b[0m \u001b[0;32mfor\u001b[0m \u001b[0mi\u001b[0m \u001b[0;32min\u001b[0m \u001b[0mrange\u001b[0m\u001b[0;34m(\u001b[0m\u001b[0;36m0\u001b[0m\u001b[0;34m,\u001b[0m\u001b[0mlen\u001b[0m\u001b[0;34m(\u001b[0m\u001b[0myt\u001b[0m\u001b[0;34m)\u001b[0m\u001b[0;34m)\u001b[0m\u001b[0;34m:\u001b[0m\u001b[0;34m\u001b[0m\u001b[0;34m\u001b[0m\u001b[0m\n\u001b[1;32m      4\u001b[0m     \u001b[0;31m#M0 prediction\u001b[0m\u001b[0;34m\u001b[0m\u001b[0;34m\u001b[0m\u001b[0;34m\u001b[0m\u001b[0m\n\u001b[0;32m----> 5\u001b[0;31m     \u001b[0mpred0\u001b[0m \u001b[0;34m=\u001b[0m \u001b[0mmodule0\u001b[0m\u001b[0;34m.\u001b[0m\u001b[0mpredict\u001b[0m\u001b[0;34m(\u001b[0m\u001b[0mxt\u001b[0m\u001b[0;34m[\u001b[0m\u001b[0mi\u001b[0m\u001b[0;34m:\u001b[0m\u001b[0mi\u001b[0m\u001b[0;34m+\u001b[0m\u001b[0;36m1\u001b[0m\u001b[0;34m]\u001b[0m\u001b[0;34m)\u001b[0m\u001b[0;34m\u001b[0m\u001b[0;34m\u001b[0m\u001b[0m\n\u001b[0m\u001b[1;32m      6\u001b[0m \u001b[0;34m\u001b[0m\u001b[0m\n\u001b[1;32m      7\u001b[0m     \u001b[0;31m#M1 prediction\u001b[0m\u001b[0;34m\u001b[0m\u001b[0;34m\u001b[0m\u001b[0;34m\u001b[0m\u001b[0m\n",
      "\u001b[0;32m~/anaconda3/envs/reless-python3.7.1/lib/python3.7/site-packages/tensorflow_core/python/keras/engine/training.py\u001b[0m in \u001b[0;36mpredict\u001b[0;34m(self, x, batch_size, verbose, steps, callbacks, max_queue_size, workers, use_multiprocessing)\u001b[0m\n\u001b[1;32m    906\u001b[0m         \u001b[0mmax_queue_size\u001b[0m\u001b[0;34m=\u001b[0m\u001b[0mmax_queue_size\u001b[0m\u001b[0;34m,\u001b[0m\u001b[0;34m\u001b[0m\u001b[0;34m\u001b[0m\u001b[0m\n\u001b[1;32m    907\u001b[0m         \u001b[0mworkers\u001b[0m\u001b[0;34m=\u001b[0m\u001b[0mworkers\u001b[0m\u001b[0;34m,\u001b[0m\u001b[0;34m\u001b[0m\u001b[0;34m\u001b[0m\u001b[0m\n\u001b[0;32m--> 908\u001b[0;31m         use_multiprocessing=use_multiprocessing)\n\u001b[0m\u001b[1;32m    909\u001b[0m \u001b[0;34m\u001b[0m\u001b[0m\n\u001b[1;32m    910\u001b[0m   \u001b[0;32mdef\u001b[0m \u001b[0mreset_metrics\u001b[0m\u001b[0;34m(\u001b[0m\u001b[0mself\u001b[0m\u001b[0;34m)\u001b[0m\u001b[0;34m:\u001b[0m\u001b[0;34m\u001b[0m\u001b[0;34m\u001b[0m\u001b[0m\n",
      "\u001b[0;32m~/anaconda3/envs/reless-python3.7.1/lib/python3.7/site-packages/tensorflow_core/python/keras/engine/training_arrays.py\u001b[0m in \u001b[0;36mpredict\u001b[0;34m(self, model, x, batch_size, verbose, steps, callbacks, **kwargs)\u001b[0m\n\u001b[1;32m    714\u001b[0m     \u001b[0mbatch_size\u001b[0m \u001b[0;34m=\u001b[0m \u001b[0mmodel\u001b[0m\u001b[0;34m.\u001b[0m\u001b[0m_validate_or_infer_batch_size\u001b[0m\u001b[0;34m(\u001b[0m\u001b[0mbatch_size\u001b[0m\u001b[0;34m,\u001b[0m \u001b[0msteps\u001b[0m\u001b[0;34m,\u001b[0m \u001b[0mx\u001b[0m\u001b[0;34m)\u001b[0m\u001b[0;34m\u001b[0m\u001b[0;34m\u001b[0m\u001b[0m\n\u001b[1;32m    715\u001b[0m     x, _, _ = model._standardize_user_data(\n\u001b[0;32m--> 716\u001b[0;31m         x, check_steps=True, steps_name='steps', steps=steps)\n\u001b[0m\u001b[1;32m    717\u001b[0m     return predict_loop(\n\u001b[1;32m    718\u001b[0m         \u001b[0mmodel\u001b[0m\u001b[0;34m,\u001b[0m\u001b[0;34m\u001b[0m\u001b[0;34m\u001b[0m\u001b[0m\n",
      "\u001b[0;32m~/anaconda3/envs/reless-python3.7.1/lib/python3.7/site-packages/tensorflow_core/python/keras/engine/training.py\u001b[0m in \u001b[0;36m_standardize_user_data\u001b[0;34m(self, x, y, sample_weight, class_weight, batch_size, check_steps, steps_name, steps, validation_split, shuffle, extract_tensors_from_dataset)\u001b[0m\n\u001b[1;32m   2469\u001b[0m           \u001b[0mfeed_input_shapes\u001b[0m\u001b[0;34m,\u001b[0m\u001b[0;34m\u001b[0m\u001b[0;34m\u001b[0m\u001b[0m\n\u001b[1;32m   2470\u001b[0m           \u001b[0mcheck_batch_axis\u001b[0m\u001b[0;34m=\u001b[0m\u001b[0;32mFalse\u001b[0m\u001b[0;34m,\u001b[0m  \u001b[0;31m# Don't enforce the batch size.\u001b[0m\u001b[0;34m\u001b[0m\u001b[0;34m\u001b[0m\u001b[0m\n\u001b[0;32m-> 2471\u001b[0;31m           exception_prefix='input')\n\u001b[0m\u001b[1;32m   2472\u001b[0m \u001b[0;34m\u001b[0m\u001b[0m\n\u001b[1;32m   2473\u001b[0m     \u001b[0;31m# Get typespecs for the input data and sanitize it if necessary.\u001b[0m\u001b[0;34m\u001b[0m\u001b[0;34m\u001b[0m\u001b[0;34m\u001b[0m\u001b[0m\n",
      "\u001b[0;32m~/anaconda3/envs/reless-python3.7.1/lib/python3.7/site-packages/tensorflow_core/python/keras/engine/training_utils.py\u001b[0m in \u001b[0;36mstandardize_input_data\u001b[0;34m(data, names, shapes, check_batch_axis, exception_prefix)\u001b[0m\n\u001b[1;32m    561\u001b[0m                            \u001b[0;34m': expected '\u001b[0m \u001b[0;34m+\u001b[0m \u001b[0mnames\u001b[0m\u001b[0;34m[\u001b[0m\u001b[0mi\u001b[0m\u001b[0;34m]\u001b[0m \u001b[0;34m+\u001b[0m \u001b[0;34m' to have '\u001b[0m \u001b[0;34m+\u001b[0m\u001b[0;34m\u001b[0m\u001b[0;34m\u001b[0m\u001b[0m\n\u001b[1;32m    562\u001b[0m                            \u001b[0mstr\u001b[0m\u001b[0;34m(\u001b[0m\u001b[0mlen\u001b[0m\u001b[0;34m(\u001b[0m\u001b[0mshape\u001b[0m\u001b[0;34m)\u001b[0m\u001b[0;34m)\u001b[0m \u001b[0;34m+\u001b[0m \u001b[0;34m' dimensions, but got array '\u001b[0m\u001b[0;34m\u001b[0m\u001b[0;34m\u001b[0m\u001b[0m\n\u001b[0;32m--> 563\u001b[0;31m                            'with shape ' + str(data_shape))\n\u001b[0m\u001b[1;32m    564\u001b[0m         \u001b[0;32mif\u001b[0m \u001b[0;32mnot\u001b[0m \u001b[0mcheck_batch_axis\u001b[0m\u001b[0;34m:\u001b[0m\u001b[0;34m\u001b[0m\u001b[0;34m\u001b[0m\u001b[0m\n\u001b[1;32m    565\u001b[0m           \u001b[0mdata_shape\u001b[0m \u001b[0;34m=\u001b[0m \u001b[0mdata_shape\u001b[0m\u001b[0;34m[\u001b[0m\u001b[0;36m1\u001b[0m\u001b[0;34m:\u001b[0m\u001b[0;34m]\u001b[0m\u001b[0;34m\u001b[0m\u001b[0;34m\u001b[0m\u001b[0m\n",
      "\u001b[0;31mValueError\u001b[0m: Error when checking input: expected Input_input to have 4 dimensions, but got array with shape (1, 784)"
     ]
    }
   ],
   "source": [
    "import numpy as np\n",
    "finalPredDist = []\n",
    "for i in range(0,len(yt)):\n",
    "    #M0 prediction\n",
    "    pred0 = module0.predict(xt[i:i+1])\n",
    "   \n",
    "    #M1 prediction\n",
    "    pred1 = module1.predict(xt[i:i+1])\n",
    "    \n",
    "    #M2 prediction\n",
    "    pred2 = module2.predict(xt[i:i+1])\n",
    "   \n",
    "    #M3 prediction\n",
    "    pred3 = module3.predict(xt[i:i+1])\n",
    "   \n",
    "    #M4 prediction\n",
    "    pred4 = module4.predict(xt[i:i+1])\n",
    "    \n",
    "    #M5 prediction\n",
    "    pred5 = module5.predict(xt[i:i+1])\n",
    "    \n",
    "    #M6 prediction\n",
    "    pred6 = module6.predict(xt[i:i+1])\n",
    "    \n",
    "    #M7 prediction\n",
    "    pred7 = module7.predict(xt[i:i+1])\n",
    "    \n",
    "    #M8 prediction\n",
    "    pred8 = module8.predict(xt[i:i+1])\n",
    "    \n",
    "    #M9 prediction\n",
    "    pred9 = module9.predict(xt[i:i+1])\n",
    "    \n",
    "    # Combine predictions - here we simply average the distributions\n",
    "    combined_pred = np.mean([pred0, pred1, pred2, pred3, pred4, pred5, pred6, pred7, pred8, pred9], axis=0)\n",
    "    \n",
    "    # Append the combined distribution\n",
    "    finalPredDist.append(combined_pred)\n"
   ]
  },
  {
   "cell_type": "code",
   "execution_count": null,
   "metadata": {},
   "outputs": [],
   "source": [
    "y_true = tf.convert_to_tensor(yt, dtype=tf.float32)\n",
    "finalPredDist_arr = np.array(finalPredDist)\n",
    "y_pred = tf.convert_to_tensor(finalPredDist_arr, dtype=tf.float32)\n",
    "loss = tf.keras.losses.sparse_categorical_crossentropy(y_true, y_pred, from_logits=True)\n",
    "average_loss = tf.reduce_mean(loss)\n",
    "with tf.Session() as sess:\n",
    "    print(\"Loss values:\", sess.run(average_loss))\n"
   ]
  },
  {
   "cell_type": "code",
   "execution_count": 158,
   "metadata": {},
   "outputs": [
    {
     "name": "stdout",
     "output_type": "stream",
     "text": [
      "WARNING:tensorflow:From /var/folders/cw/n3c11rb162191jttykhpd_d00000gn/T/ipykernel_2108/4129495629.py:6: The name tf.Session is deprecated. Please use tf.compat.v1.Session instead.\n",
      "\n",
      "Loss values: 1.7323279\n"
     ]
    }
   ],
   "source": [
    "y_true = tf.convert_to_tensor(yt, dtype=tf.float32)\n",
    "finalPredDist_arr = np.array(finalPredDist)\n",
    "y_pred = tf.convert_to_tensor(finalPredDist_arr, dtype=tf.float32)\n",
    "loss = tf.keras.losses.sparse_categorical_crossentropy(y_true, y_pred, from_logits=True)\n",
    "average_loss = tf.reduce_mean(loss)\n",
    "with tf.Session() as sess:\n",
    "    print(\"Loss values:\", sess.run(average_loss))"
   ]
  },
  {
   "cell_type": "markdown",
   "metadata": {},
   "source": [
    "# explainability "
   ]
  },
  {
   "cell_type": "code",
   "execution_count": 36,
   "metadata": {},
   "outputs": [],
   "source": [
    "import numpy as np"
   ]
  },
  {
   "cell_type": "code",
   "execution_count": 46,
   "metadata": {},
   "outputs": [
    {
     "data": {
      "text/plain": [
       "(10000, 784)"
      ]
     },
     "execution_count": 46,
     "metadata": {},
     "output_type": "execute_result"
    }
   ],
   "source": [
    "xt.shape"
   ]
  },
  {
   "cell_type": "code",
   "execution_count": null,
   "metadata": {},
   "outputs": [],
   "source": [
    "def generate_perturbations(x,N):\n",
    "    # Generate N perturbations with uniform distribution wihtin the range of the input\n",
    "    perturbations = np.random.uniform(-1, 1, (N, x.shape[1]))\n"
   ]
  },
  {
   "cell_type": "code",
   "execution_count": null,
   "metadata": {},
   "outputs": [],
   "source": [
    "\n",
    "\n",
    "# Example: Generate N perturbations of x\n",
    "perturbations = generate_perturbations(x, N)\n",
    "\n",
    "# Compute explanations for the original point and the perturbations\n",
    "explanation_x = explanation_function(model, x)\n",
    "explanations_x_prime = np.array([explanation_function(model, x_prime) for x_prime in perturbations])\n",
    "\n",
    "# Compute the sensitivity for each perturbation\n",
    "sensitivities = np.linalg.norm(explanation_x - explanations_x_prime, axis=1)\n",
    "\n",
    "# Compute the average sensitivity (assuming uniform distribution for simplicity)\n",
    "average_sensitivity = np.mean(sensitivities)\n",
    "\n",
    "print(average_sensitivity)\n"
   ]
  },
  {
   "cell_type": "markdown",
   "metadata": {},
   "source": [
    "# Hu et al"
   ]
  },
  {
   "cell_type": "code",
   "execution_count": 4,
   "metadata": {},
   "outputs": [],
   "source": [
    "import os\n",
    "import glob\n",
    "import pandas as pd"
   ]
  },
  {
   "cell_type": "markdown",
   "metadata": {},
   "source": [
    "## transformation of the data"
   ]
  },
  {
   "cell_type": "code",
   "execution_count": 106,
   "metadata": {},
   "outputs": [],
   "source": [
    "BASE_PATH = '/Users/nanspro/repos/automating_requirements/checking/bootstrap_files'\n",
    "TRANSFORMATIONS = ['frost','contrast','brightness','jpeg_compression','defocus_blur','gaussian_noise']\n",
    "# Get a list of all CSV files that start with 'frost_'\n",
    "\n",
    "import pandas as pd\n",
    "import glob\n",
    "import os\n",
    "\n",
    "BASE_PATH = '/Users/nanspro/repos/automating_requirements/checking/bootstrap_files'\n",
    "TRANSFORMATIONS = ['frost','contrast','brightness','jpeg_compression','defocus_blur','gaussian_noise']\n",
    "\n",
    "dfs = []\n",
    "\n",
    "for trans in TRANSFORMATIONS:\n",
    "    file_paths = glob.glob(os.path.join(BASE_PATH, f'{trans}_*.csv'))\n",
    "    \n",
    "    for file_path in file_paths:\n",
    "        df = pd.read_csv(file_path)\n",
    "        dfs.append(df)\n",
    "\n",
    "# Concatenate all dataframes in the list\n",
    "df_combined = pd.concat(dfs, ignore_index=True)"
   ]
  },
  {
   "cell_type": "code",
   "execution_count": 39,
   "metadata": {},
   "outputs": [
    {
     "data": {
      "text/html": [
       "<div>\n",
       "<style scoped>\n",
       "    .dataframe tbody tr th:only-of-type {\n",
       "        vertical-align: middle;\n",
       "    }\n",
       "\n",
       "    .dataframe tbody tr th {\n",
       "        vertical-align: top;\n",
       "    }\n",
       "\n",
       "    .dataframe thead th {\n",
       "        text-align: right;\n",
       "    }\n",
       "</style>\n",
       "<table border=\"1\" class=\"dataframe\">\n",
       "  <thead>\n",
       "    <tr style=\"text-align: right;\">\n",
       "      <th></th>\n",
       "      <th>Unnamed: 0</th>\n",
       "      <th>bootstrap_iter_id</th>\n",
       "      <th>within_iter_id</th>\n",
       "      <th>original_filename</th>\n",
       "      <th>new_filename</th>\n",
       "      <th>original_path</th>\n",
       "      <th>transformation</th>\n",
       "      <th>new_path</th>\n",
       "      <th>label</th>\n",
       "      <th>vd_score</th>\n",
       "    </tr>\n",
       "  </thead>\n",
       "  <tbody>\n",
       "    <tr>\n",
       "      <th>0</th>\n",
       "      <td>0</td>\n",
       "      <td>0</td>\n",
       "      <td>0</td>\n",
       "      <td>ILSVRC2012_val_00035512.JPEG</td>\n",
       "      <td>frost_ILSVRC2012_val_00035512.JPEG</td>\n",
       "      <td>/Users/nanspro/repos/automating_requirements/c...</td>\n",
       "      <td>frost</td>\n",
       "      <td>/Users/nanspro/repos/automating_requirements/c...</td>\n",
       "      <td>70</td>\n",
       "      <td>0.669417</td>\n",
       "    </tr>\n",
       "    <tr>\n",
       "      <th>1</th>\n",
       "      <td>1</td>\n",
       "      <td>0</td>\n",
       "      <td>1</td>\n",
       "      <td>ILSVRC2012_val_00047961.JPEG</td>\n",
       "      <td>frost_ILSVRC2012_val_00047961.JPEG</td>\n",
       "      <td>/Users/nanspro/repos/automating_requirements/c...</td>\n",
       "      <td>frost</td>\n",
       "      <td>/Users/nanspro/repos/automating_requirements/c...</td>\n",
       "      <td>554</td>\n",
       "      <td>0.787723</td>\n",
       "    </tr>\n",
       "    <tr>\n",
       "      <th>2</th>\n",
       "      <td>2</td>\n",
       "      <td>0</td>\n",
       "      <td>2</td>\n",
       "      <td>ILSVRC2012_val_00029315.JPEG</td>\n",
       "      <td>frost_ILSVRC2012_val_00029315.JPEG</td>\n",
       "      <td>/Users/nanspro/repos/automating_requirements/c...</td>\n",
       "      <td>frost</td>\n",
       "      <td>/Users/nanspro/repos/automating_requirements/c...</td>\n",
       "      <td>350</td>\n",
       "      <td>0.757573</td>\n",
       "    </tr>\n",
       "    <tr>\n",
       "      <th>3</th>\n",
       "      <td>3</td>\n",
       "      <td>0</td>\n",
       "      <td>3</td>\n",
       "      <td>ILSVRC2012_val_00023014.JPEG</td>\n",
       "      <td>frost_ILSVRC2012_val_00023014.JPEG</td>\n",
       "      <td>/Users/nanspro/repos/automating_requirements/c...</td>\n",
       "      <td>frost</td>\n",
       "      <td>/Users/nanspro/repos/automating_requirements/c...</td>\n",
       "      <td>508</td>\n",
       "      <td>0.835609</td>\n",
       "    </tr>\n",
       "    <tr>\n",
       "      <th>4</th>\n",
       "      <td>4</td>\n",
       "      <td>0</td>\n",
       "      <td>4</td>\n",
       "      <td>ILSVRC2012_val_00016263.JPEG</td>\n",
       "      <td>frost_ILSVRC2012_val_00016263.JPEG</td>\n",
       "      <td>/Users/nanspro/repos/automating_requirements/c...</td>\n",
       "      <td>frost</td>\n",
       "      <td>/Users/nanspro/repos/automating_requirements/c...</td>\n",
       "      <td>232</td>\n",
       "      <td>0.746373</td>\n",
       "    </tr>\n",
       "  </tbody>\n",
       "</table>\n",
       "</div>"
      ],
      "text/plain": [
       "   Unnamed: 0  bootstrap_iter_id  within_iter_id  \\\n",
       "0           0                  0               0   \n",
       "1           1                  0               1   \n",
       "2           2                  0               2   \n",
       "3           3                  0               3   \n",
       "4           4                  0               4   \n",
       "\n",
       "              original_filename                        new_filename  \\\n",
       "0  ILSVRC2012_val_00035512.JPEG  frost_ILSVRC2012_val_00035512.JPEG   \n",
       "1  ILSVRC2012_val_00047961.JPEG  frost_ILSVRC2012_val_00047961.JPEG   \n",
       "2  ILSVRC2012_val_00029315.JPEG  frost_ILSVRC2012_val_00029315.JPEG   \n",
       "3  ILSVRC2012_val_00023014.JPEG  frost_ILSVRC2012_val_00023014.JPEG   \n",
       "4  ILSVRC2012_val_00016263.JPEG  frost_ILSVRC2012_val_00016263.JPEG   \n",
       "\n",
       "                                       original_path transformation  \\\n",
       "0  /Users/nanspro/repos/automating_requirements/c...          frost   \n",
       "1  /Users/nanspro/repos/automating_requirements/c...          frost   \n",
       "2  /Users/nanspro/repos/automating_requirements/c...          frost   \n",
       "3  /Users/nanspro/repos/automating_requirements/c...          frost   \n",
       "4  /Users/nanspro/repos/automating_requirements/c...          frost   \n",
       "\n",
       "                                            new_path  label  vd_score  \n",
       "0  /Users/nanspro/repos/automating_requirements/c...     70  0.669417  \n",
       "1  /Users/nanspro/repos/automating_requirements/c...    554  0.787723  \n",
       "2  /Users/nanspro/repos/automating_requirements/c...    350  0.757573  \n",
       "3  /Users/nanspro/repos/automating_requirements/c...    508  0.835609  \n",
       "4  /Users/nanspro/repos/automating_requirements/c...    232  0.746373  "
      ]
     },
     "execution_count": 39,
     "metadata": {},
     "output_type": "execute_result"
    }
   ],
   "source": [
    "df_combined.head()"
   ]
  },
  {
   "cell_type": "markdown",
   "metadata": {},
   "source": [
    "## retrieving original data and transformend data"
   ]
  },
  {
   "cell_type": "code",
   "execution_count": 107,
   "metadata": {},
   "outputs": [
    {
     "data": {
      "text/plain": [
       "Index(['Unnamed: 0', 'bootstrap_iter_id', 'within_iter_id',\n",
       "       'original_filename', 'new_filename', 'original_path', 'transformation',\n",
       "       'new_path', 'label', 'vd_score'],\n",
       "      dtype='object')"
      ]
     },
     "execution_count": 107,
     "metadata": {},
     "output_type": "execute_result"
    }
   ],
   "source": [
    "df_combined.columns"
   ]
  },
  {
   "cell_type": "code",
   "execution_count": null,
   "metadata": {},
   "outputs": [],
   "source": [
    "for idx, value in enumerate(df_combined['new_path']):\n",
    "    new_path = value.split('/')\n",
    "    #insert new string between -4 and -3\n",
    "    trans = df_combined.iloc[idx]['transformation']\n",
    "    #insert trans to -3 location\n",
    "    new_path[-3]=trans+'_'+new_path[-3]\n",
    "    new_path = '/'.join(new_path)\n",
    "    \n"
   ]
  },
  {
   "cell_type": "code",
   "execution_count": 124,
   "metadata": {},
   "outputs": [],
   "source": [
    "df_combined['new_path'] = new_path"
   ]
  },
  {
   "cell_type": "code",
   "execution_count": 127,
   "metadata": {},
   "outputs": [
    {
     "data": {
      "text/plain": [
       "'{\"0\":\"\\\\/Users\\\\/nanspro\\\\/repos\\\\/automating_requirements\\\\/checking\\\\/bootstrap_data\\\\/imagenet\\\\/gaussian_noise_20240307-183641\\\\/batch_4\\\\/gaussian_noise_ILSVRC2012_val_00023188.JPEG\",\"1\":\"\\\\/Users\\\\/nanspro\\\\/repos\\\\/automating_requirements\\\\/checking\\\\/bootstrap_data\\\\/imagenet\\\\/gaussian_noise_20240307-183641\\\\/batch_4\\\\/gaussian_noise_ILSVRC2012_val_00023188.JPEG\",\"2\":\"\\\\/Users\\\\/nanspro\\\\/repos\\\\/automating_requirements\\\\/checking\\\\/bootstrap_data\\\\/imagenet\\\\/gaussian_noise_20240307-183641\\\\/batch_4\\\\/gaussian_noise_ILSVRC2012_val_00023188.JPEG\",\"3\":\"\\\\/Users\\\\/nanspro\\\\/repos\\\\/automating_requirements\\\\/checking\\\\/bootstrap_data\\\\/imagenet\\\\/gaussian_noise_20240307-183641\\\\/batch_4\\\\/gaussian_noise_ILSVRC2012_val_00023188.JPEG\",\"4\":\"\\\\/Users\\\\/nanspro\\\\/repos\\\\/automating_requirements\\\\/checking\\\\/bootstrap_data\\\\/imagenet\\\\/gaussian_noise_20240307-183641\\\\/batch_4\\\\/gaussian_noise_ILSVRC2012_val_00023188.JPEG\",\"5\":\"\\\\/Users\\\\/nanspro\\\\/repos\\\\/automating_requirements\\\\/checking\\\\/bootstrap_data\\\\/imagenet\\\\/gaussian_noise_20240307-183641\\\\/batch_4\\\\/gaussian_noise_ILSVRC2012_val_00023188.JPEG\",\"6\":\"\\\\/Users\\\\/nanspro\\\\/repos\\\\/automating_requirements\\\\/checking\\\\/bootstrap_data\\\\/imagenet\\\\/gaussian_noise_20240307-183641\\\\/batch_4\\\\/gaussian_noise_ILSVRC2012_val_00023188.JPEG\",\"7\":\"\\\\/Users\\\\/nanspro\\\\/repos\\\\/automating_requirements\\\\/checking\\\\/bootstrap_data\\\\/imagenet\\\\/gaussian_noise_20240307-183641\\\\/batch_4\\\\/gaussian_noise_ILSVRC2012_val_00023188.JPEG\",\"8\":\"\\\\/Users\\\\/nanspro\\\\/repos\\\\/automating_requirements\\\\/checking\\\\/bootstrap_data\\\\/imagenet\\\\/gaussian_noise_20240307-183641\\\\/batch_4\\\\/gaussian_noise_ILSVRC2012_val_00023188.JPEG\",\"9\":\"\\\\/Users\\\\/nanspro\\\\/repos\\\\/automating_requirements\\\\/checking\\\\/bootstrap_data\\\\/imagenet\\\\/gaussian_noise_20240307-183641\\\\/batch_4\\\\/gaussian_noise_ILSVRC2012_val_00023188.JPEG\",\"10\":\"\\\\/Users\\\\/nanspro\\\\/repos\\\\/automating_requirements\\\\/checking\\\\/bootstrap_data\\\\/imagenet\\\\/gaussian_noise_20240307-183641\\\\/batch_4\\\\/gaussian_noise_ILSVRC2012_val_00023188.JPEG\",\"11\":\"\\\\/Users\\\\/nanspro\\\\/repos\\\\/automating_requirements\\\\/checking\\\\/bootstrap_data\\\\/imagenet\\\\/gaussian_noise_20240307-183641\\\\/batch_4\\\\/gaussian_noise_ILSVRC2012_val_00023188.JPEG\",\"12\":\"\\\\/Users\\\\/nanspro\\\\/repos\\\\/automating_requirements\\\\/checking\\\\/bootstrap_data\\\\/imagenet\\\\/gaussian_noise_20240307-183641\\\\/batch_4\\\\/gaussian_noise_ILSVRC2012_val_00023188.JPEG\",\"13\":\"\\\\/Users\\\\/nanspro\\\\/repos\\\\/automating_requirements\\\\/checking\\\\/bootstrap_data\\\\/imagenet\\\\/gaussian_noise_20240307-183641\\\\/batch_4\\\\/gaussian_noise_ILSVRC2012_val_00023188.JPEG\",\"14\":\"\\\\/Users\\\\/nanspro\\\\/repos\\\\/automating_requirements\\\\/checking\\\\/bootstrap_data\\\\/imagenet\\\\/gaussian_noise_20240307-183641\\\\/batch_4\\\\/gaussian_noise_ILSVRC2012_val_00023188.JPEG\",\"15\":\"\\\\/Users\\\\/nanspro\\\\/repos\\\\/automating_requirements\\\\/checking\\\\/bootstrap_data\\\\/imagenet\\\\/gaussian_noise_20240307-183641\\\\/batch_4\\\\/gaussian_noise_ILSVRC2012_val_00023188.JPEG\",\"16\":\"\\\\/Users\\\\/nanspro\\\\/repos\\\\/automating_requirements\\\\/checking\\\\/bootstrap_data\\\\/imagenet\\\\/gaussian_noise_20240307-183641\\\\/batch_4\\\\/gaussian_noise_ILSVRC2012_val_00023188.JPEG\",\"17\":\"\\\\/Users\\\\/nanspro\\\\/repos\\\\/automating_requirements\\\\/checking\\\\/bootstrap_data\\\\/imagenet\\\\/gaussian_noise_20240307-183641\\\\/batch_4\\\\/gaussian_noise_ILSVRC2012_val_00023188.JPEG\",\"18\":\"\\\\/Users\\\\/nanspro\\\\/repos\\\\/automating_requirements\\\\/checking\\\\/bootstrap_data\\\\/imagenet\\\\/gaussian_noise_20240307-183641\\\\/batch_4\\\\/gaussian_noise_ILSVRC2012_val_00023188.JPEG\",\"19\":\"\\\\/Users\\\\/nanspro\\\\/repos\\\\/automating_requirements\\\\/checking\\\\/bootstrap_data\\\\/imagenet\\\\/gaussian_noise_20240307-183641\\\\/batch_4\\\\/gaussian_noise_ILSVRC2012_val_00023188.JPEG\",\"20\":\"\\\\/Users\\\\/nanspro\\\\/repos\\\\/automating_requirements\\\\/checking\\\\/bootstrap_data\\\\/imagenet\\\\/gaussian_noise_20240307-183641\\\\/batch_4\\\\/gaussian_noise_ILSVRC2012_val_00023188.JPEG\",\"21\":\"\\\\/Users\\\\/nanspro\\\\/repos\\\\/automating_requirements\\\\/checking\\\\/bootstrap_data\\\\/imagenet\\\\/gaussian_noise_20240307-183641\\\\/batch_4\\\\/gaussian_noise_ILSVRC2012_val_00023188.JPEG\",\"22\":\"\\\\/Users\\\\/nanspro\\\\/repos\\\\/automating_requirements\\\\/checking\\\\/bootstrap_data\\\\/imagenet\\\\/gaussian_noise_20240307-183641\\\\/batch_4\\\\/gaussian_noise_ILSVRC2012_val_00023188.JPEG\",\"23\":\"\\\\/Users\\\\/nanspro\\\\/repos\\\\/automating_requirements\\\\/checking\\\\/bootstrap_data\\\\/imagenet\\\\/gaussian_noise_20240307-183641\\\\/batch_4\\\\/gaussian_noise_ILSVRC2012_val_00023188.JPEG\",\"24\":\"\\\\/Users\\\\/nanspro\\\\/repos\\\\/automating_requirements\\\\/checking\\\\/bootstrap_data\\\\/imagenet\\\\/gaussian_noise_20240307-183641\\\\/batch_4\\\\/gaussian_noise_ILSVRC2012_val_00023188.JPEG\",\"25\":\"\\\\/Users\\\\/nanspro\\\\/repos\\\\/automating_requirements\\\\/checking\\\\/bootstrap_data\\\\/imagenet\\\\/gaussian_noise_20240307-183641\\\\/batch_4\\\\/gaussian_noise_ILSVRC2012_val_00023188.JPEG\",\"26\":\"\\\\/Users\\\\/nanspro\\\\/repos\\\\/automating_requirements\\\\/checking\\\\/bootstrap_data\\\\/imagenet\\\\/gaussian_noise_20240307-183641\\\\/batch_4\\\\/gaussian_noise_ILSVRC2012_val_00023188.JPEG\",\"27\":\"\\\\/Users\\\\/nanspro\\\\/repos\\\\/automating_requirements\\\\/checking\\\\/bootstrap_data\\\\/imagenet\\\\/gaussian_noise_20240307-183641\\\\/batch_4\\\\/gaussian_noise_ILSVRC2012_val_00023188.JPEG\",\"28\":\"\\\\/Users\\\\/nanspro\\\\/repos\\\\/automating_requirements\\\\/checking\\\\/bootstrap_data\\\\/imagenet\\\\/gaussian_noise_20240307-183641\\\\/batch_4\\\\/gaussian_noise_ILSVRC2012_val_00023188.JPEG\",\"29\":\"\\\\/Users\\\\/nanspro\\\\/repos\\\\/automating_requirements\\\\/checking\\\\/bootstrap_data\\\\/imagenet\\\\/gaussian_noise_20240307-183641\\\\/batch_4\\\\/gaussian_noise_ILSVRC2012_val_00023188.JPEG\",\"30\":\"\\\\/Users\\\\/nanspro\\\\/repos\\\\/automating_requirements\\\\/checking\\\\/bootstrap_data\\\\/imagenet\\\\/gaussian_noise_20240307-183641\\\\/batch_4\\\\/gaussian_noise_ILSVRC2012_val_00023188.JPEG\",\"31\":\"\\\\/Users\\\\/nanspro\\\\/repos\\\\/automating_requirements\\\\/checking\\\\/bootstrap_data\\\\/imagenet\\\\/gaussian_noise_20240307-183641\\\\/batch_4\\\\/gaussian_noise_ILSVRC2012_val_00023188.JPEG\",\"32\":\"\\\\/Users\\\\/nanspro\\\\/repos\\\\/automating_requirements\\\\/checking\\\\/bootstrap_data\\\\/imagenet\\\\/gaussian_noise_20240307-183641\\\\/batch_4\\\\/gaussian_noise_ILSVRC2012_val_00023188.JPEG\",\"33\":\"\\\\/Users\\\\/nanspro\\\\/repos\\\\/automating_requirements\\\\/checking\\\\/bootstrap_data\\\\/imagenet\\\\/gaussian_noise_20240307-183641\\\\/batch_4\\\\/gaussian_noise_ILSVRC2012_val_00023188.JPEG\",\"34\":\"\\\\/Users\\\\/nanspro\\\\/repos\\\\/automating_requirements\\\\/checking\\\\/bootstrap_data\\\\/imagenet\\\\/gaussian_noise_20240307-183641\\\\/batch_4\\\\/gaussian_noise_ILSVRC2012_val_00023188.JPEG\",\"35\":\"\\\\/Users\\\\/nanspro\\\\/repos\\\\/automating_requirements\\\\/checking\\\\/bootstrap_data\\\\/imagenet\\\\/gaussian_noise_20240307-183641\\\\/batch_4\\\\/gaussian_noise_ILSVRC2012_val_00023188.JPEG\",\"36\":\"\\\\/Users\\\\/nanspro\\\\/repos\\\\/automating_requirements\\\\/checking\\\\/bootstrap_data\\\\/imagenet\\\\/gaussian_noise_20240307-183641\\\\/batch_4\\\\/gaussian_noise_ILSVRC2012_val_00023188.JPEG\",\"37\":\"\\\\/Users\\\\/nanspro\\\\/repos\\\\/automating_requirements\\\\/checking\\\\/bootstrap_data\\\\/imagenet\\\\/gaussian_noise_20240307-183641\\\\/batch_4\\\\/gaussian_noise_ILSVRC2012_val_00023188.JPEG\",\"38\":\"\\\\/Users\\\\/nanspro\\\\/repos\\\\/automating_requirements\\\\/checking\\\\/bootstrap_data\\\\/imagenet\\\\/gaussian_noise_20240307-183641\\\\/batch_4\\\\/gaussian_noise_ILSVRC2012_val_00023188.JPEG\",\"39\":\"\\\\/Users\\\\/nanspro\\\\/repos\\\\/automating_requirements\\\\/checking\\\\/bootstrap_data\\\\/imagenet\\\\/gaussian_noise_20240307-183641\\\\/batch_4\\\\/gaussian_noise_ILSVRC2012_val_00023188.JPEG\",\"40\":\"\\\\/Users\\\\/nanspro\\\\/repos\\\\/automating_requirements\\\\/checking\\\\/bootstrap_data\\\\/imagenet\\\\/gaussian_noise_20240307-183641\\\\/batch_4\\\\/gaussian_noise_ILSVRC2012_val_00023188.JPEG\",\"41\":\"\\\\/Users\\\\/nanspro\\\\/repos\\\\/automating_requirements\\\\/checking\\\\/bootstrap_data\\\\/imagenet\\\\/gaussian_noise_20240307-183641\\\\/batch_4\\\\/gaussian_noise_ILSVRC2012_val_00023188.JPEG\",\"42\":\"\\\\/Users\\\\/nanspro\\\\/repos\\\\/automating_requirements\\\\/checking\\\\/bootstrap_data\\\\/imagenet\\\\/gaussian_noise_20240307-183641\\\\/batch_4\\\\/gaussian_noise_ILSVRC2012_val_00023188.JPEG\",\"43\":\"\\\\/Users\\\\/nanspro\\\\/repos\\\\/automating_requirements\\\\/checking\\\\/bootstrap_data\\\\/imagenet\\\\/gaussian_noise_20240307-183641\\\\/batch_4\\\\/gaussian_noise_ILSVRC2012_val_00023188.JPEG\",\"44\":\"\\\\/Users\\\\/nanspro\\\\/repos\\\\/automating_requirements\\\\/checking\\\\/bootstrap_data\\\\/imagenet\\\\/gaussian_noise_20240307-183641\\\\/batch_4\\\\/gaussian_noise_ILSVRC2012_val_00023188.JPEG\",\"45\":\"\\\\/Users\\\\/nanspro\\\\/repos\\\\/automating_requirements\\\\/checking\\\\/bootstrap_data\\\\/imagenet\\\\/gaussian_noise_20240307-183641\\\\/batch_4\\\\/gaussian_noise_ILSVRC2012_val_00023188.JPEG\",\"46\":\"\\\\/Users\\\\/nanspro\\\\/repos\\\\/automating_requirements\\\\/checking\\\\/bootstrap_data\\\\/imagenet\\\\/gaussian_noise_20240307-183641\\\\/batch_4\\\\/gaussian_noise_ILSVRC2012_val_00023188.JPEG\",\"47\":\"\\\\/Users\\\\/nanspro\\\\/repos\\\\/automating_requirements\\\\/checking\\\\/bootstrap_data\\\\/imagenet\\\\/gaussian_noise_20240307-183641\\\\/batch_4\\\\/gaussian_noise_ILSVRC2012_val_00023188.JPEG\",\"48\":\"\\\\/Users\\\\/nanspro\\\\/repos\\\\/automating_requirements\\\\/checking\\\\/bootstrap_data\\\\/imagenet\\\\/gaussian_noise_20240307-183641\\\\/batch_4\\\\/gaussian_noise_ILSVRC2012_val_00023188.JPEG\",\"49\":\"\\\\/Users\\\\/nanspro\\\\/repos\\\\/automating_requirements\\\\/checking\\\\/bootstrap_data\\\\/imagenet\\\\/gaussian_noise_20240307-183641\\\\/batch_4\\\\/gaussian_noise_ILSVRC2012_val_00023188.JPEG\",\"50\":\"\\\\/Users\\\\/nanspro\\\\/repos\\\\/automating_requirements\\\\/checking\\\\/bootstrap_data\\\\/imagenet\\\\/gaussian_noise_20240307-183641\\\\/batch_4\\\\/gaussian_noise_ILSVRC2012_val_00023188.JPEG\",\"51\":\"\\\\/Users\\\\/nanspro\\\\/repos\\\\/automating_requirements\\\\/checking\\\\/bootstrap_data\\\\/imagenet\\\\/gaussian_noise_20240307-183641\\\\/batch_4\\\\/gaussian_noise_ILSVRC2012_val_00023188.JPEG\",\"52\":\"\\\\/Users\\\\/nanspro\\\\/repos\\\\/automating_requirements\\\\/checking\\\\/bootstrap_data\\\\/imagenet\\\\/gaussian_noise_20240307-183641\\\\/batch_4\\\\/gaussian_noise_ILSVRC2012_val_00023188.JPEG\",\"53\":\"\\\\/Users\\\\/nanspro\\\\/repos\\\\/automating_requirements\\\\/checking\\\\/bootstrap_data\\\\/imagenet\\\\/gaussian_noise_20240307-183641\\\\/batch_4\\\\/gaussian_noise_ILSVRC2012_val_00023188.JPEG\",\"54\":\"\\\\/Users\\\\/nanspro\\\\/repos\\\\/automating_requirements\\\\/checking\\\\/bootstrap_data\\\\/imagenet\\\\/gaussian_noise_20240307-183641\\\\/batch_4\\\\/gaussian_noise_ILSVRC2012_val_00023188.JPEG\",\"55\":\"\\\\/Users\\\\/nanspro\\\\/repos\\\\/automating_requirements\\\\/checking\\\\/bootstrap_data\\\\/imagenet\\\\/gaussian_noise_20240307-183641\\\\/batch_4\\\\/gaussian_noise_ILSVRC2012_val_00023188.JPEG\",\"56\":\"\\\\/Users\\\\/nanspro\\\\/repos\\\\/automating_requirements\\\\/checking\\\\/bootstrap_data\\\\/imagenet\\\\/gaussian_noise_20240307-183641\\\\/batch_4\\\\/gaussian_noise_ILSVRC2012_val_00023188.JPEG\",\"57\":\"\\\\/Users\\\\/nanspro\\\\/repos\\\\/automating_requirements\\\\/checking\\\\/bootstrap_data\\\\/imagenet\\\\/gaussian_noise_20240307-183641\\\\/batch_4\\\\/gaussian_noise_ILSVRC2012_val_00023188.JPEG\",\"58\":\"\\\\/Users\\\\/nanspro\\\\/repos\\\\/automating_requirements\\\\/checking\\\\/bootstrap_data\\\\/imagenet\\\\/gaussian_noise_20240307-183641\\\\/batch_4\\\\/gaussian_noise_ILSVRC2012_val_00023188.JPEG\",\"59\":\"\\\\/Users\\\\/nanspro\\\\/repos\\\\/automating_requirements\\\\/checking\\\\/bootstrap_data\\\\/imagenet\\\\/gaussian_noise_20240307-183641\\\\/batch_4\\\\/gaussian_noise_ILSVRC2012_val_00023188.JPEG\",\"60\":\"\\\\/Users\\\\/nanspro\\\\/repos\\\\/automating_requirements\\\\/checking\\\\/bootstrap_data\\\\/imagenet\\\\/gaussian_noise_20240307-183641\\\\/batch_4\\\\/gaussian_noise_ILSVRC2012_val_00023188.JPEG\",\"61\":\"\\\\/Users\\\\/nanspro\\\\/repos\\\\/automating_requirements\\\\/checking\\\\/bootstrap_data\\\\/imagenet\\\\/gaussian_noise_20240307-183641\\\\/batch_4\\\\/gaussian_noise_ILSVRC2012_val_00023188.JPEG\",\"62\":\"\\\\/Users\\\\/nanspro\\\\/repos\\\\/automating_requirements\\\\/checking\\\\/bootstrap_data\\\\/imagenet\\\\/gaussian_noise_20240307-183641\\\\/batch_4\\\\/gaussian_noise_ILSVRC2012_val_00023188.JPEG\",\"63\":\"\\\\/Users\\\\/nanspro\\\\/repos\\\\/automating_requirements\\\\/checking\\\\/bootstrap_data\\\\/imagenet\\\\/gaussian_noise_20240307-183641\\\\/batch_4\\\\/gaussian_noise_ILSVRC2012_val_00023188.JPEG\",\"64\":\"\\\\/Users\\\\/nanspro\\\\/repos\\\\/automating_requirements\\\\/checking\\\\/bootstrap_data\\\\/imagenet\\\\/gaussian_noise_20240307-183641\\\\/batch_4\\\\/gaussian_noise_ILSVRC2012_val_00023188.JPEG\",\"65\":\"\\\\/Users\\\\/nanspro\\\\/repos\\\\/automating_requirements\\\\/checking\\\\/bootstrap_data\\\\/imagenet\\\\/gaussian_noise_20240307-183641\\\\/batch_4\\\\/gaussian_noise_ILSVRC2012_val_00023188.JPEG\",\"66\":\"\\\\/Users\\\\/nanspro\\\\/repos\\\\/automating_requirements\\\\/checking\\\\/bootstrap_data\\\\/imagenet\\\\/gaussian_noise_20240307-183641\\\\/batch_4\\\\/gaussian_noise_ILSVRC2012_val_00023188.JPEG\",\"67\":\"\\\\/Users\\\\/nanspro\\\\/repos\\\\/automating_requirements\\\\/checking\\\\/bootstrap_data\\\\/imagenet\\\\/gaussian_noise_20240307-183641\\\\/batch_4\\\\/gaussian_noise_ILSVRC2012_val_00023188.JPEG\",\"68\":\"\\\\/Users\\\\/nanspro\\\\/repos\\\\/automating_requirements\\\\/checking\\\\/bootstrap_data\\\\/imagenet\\\\/gaussian_noise_20240307-183641\\\\/batch_4\\\\/gaussian_noise_ILSVRC2012_val_00023188.JPEG\",\"69\":\"\\\\/Users\\\\/nanspro\\\\/repos\\\\/automating_requirements\\\\/checking\\\\/bootstrap_data\\\\/imagenet\\\\/gaussian_noise_20240307-183641\\\\/batch_4\\\\/gaussian_noise_ILSVRC2012_val_00023188.JPEG\",\"70\":\"\\\\/Users\\\\/nanspro\\\\/repos\\\\/automating_requirements\\\\/checking\\\\/bootstrap_data\\\\/imagenet\\\\/gaussian_noise_20240307-183641\\\\/batch_4\\\\/gaussian_noise_ILSVRC2012_val_00023188.JPEG\",\"71\":\"\\\\/Users\\\\/nanspro\\\\/repos\\\\/automating_requirements\\\\/checking\\\\/bootstrap_data\\\\/imagenet\\\\/gaussian_noise_20240307-183641\\\\/batch_4\\\\/gaussian_noise_ILSVRC2012_val_00023188.JPEG\",\"72\":\"\\\\/Users\\\\/nanspro\\\\/repos\\\\/automating_requirements\\\\/checking\\\\/bootstrap_data\\\\/imagenet\\\\/gaussian_noise_20240307-183641\\\\/batch_4\\\\/gaussian_noise_ILSVRC2012_val_00023188.JPEG\",\"73\":\"\\\\/Users\\\\/nanspro\\\\/repos\\\\/automating_requirements\\\\/checking\\\\/bootstrap_data\\\\/imagenet\\\\/gaussian_noise_20240307-183641\\\\/batch_4\\\\/gaussian_noise_ILSVRC2012_val_00023188.JPEG\",\"74\":\"\\\\/Users\\\\/nanspro\\\\/repos\\\\/automating_requirements\\\\/checking\\\\/bootstrap_data\\\\/imagenet\\\\/gaussian_noise_20240307-183641\\\\/batch_4\\\\/gaussian_noise_ILSVRC2012_val_00023188.JPEG\",\"75\":\"\\\\/Users\\\\/nanspro\\\\/repos\\\\/automating_requirements\\\\/checking\\\\/bootstrap_data\\\\/imagenet\\\\/gaussian_noise_20240307-183641\\\\/batch_4\\\\/gaussian_noise_ILSVRC2012_val_00023188.JPEG\",\"76\":\"\\\\/Users\\\\/nanspro\\\\/repos\\\\/automating_requirements\\\\/checking\\\\/bootstrap_data\\\\/imagenet\\\\/gaussian_noise_20240307-183641\\\\/batch_4\\\\/gaussian_noise_ILSVRC2012_val_00023188.JPEG\",\"77\":\"\\\\/Users\\\\/nanspro\\\\/repos\\\\/automating_requirements\\\\/checking\\\\/bootstrap_data\\\\/imagenet\\\\/gaussian_noise_20240307-183641\\\\/batch_4\\\\/gaussian_noise_ILSVRC2012_val_00023188.JPEG\",\"78\":\"\\\\/Users\\\\/nanspro\\\\/repos\\\\/automating_requirements\\\\/checking\\\\/bootstrap_data\\\\/imagenet\\\\/gaussian_noise_20240307-183641\\\\/batch_4\\\\/gaussian_noise_ILSVRC2012_val_00023188.JPEG\",\"79\":\"\\\\/Users\\\\/nanspro\\\\/repos\\\\/automating_requirements\\\\/checking\\\\/bootstrap_data\\\\/imagenet\\\\/gaussian_noise_20240307-183641\\\\/batch_4\\\\/gaussian_noise_ILSVRC2012_val_00023188.JPEG\",\"80\":\"\\\\/Users\\\\/nanspro\\\\/repos\\\\/automating_requirements\\\\/checking\\\\/bootstrap_data\\\\/imagenet\\\\/gaussian_noise_20240307-183641\\\\/batch_4\\\\/gaussian_noise_ILSVRC2012_val_00023188.JPEG\",\"81\":\"\\\\/Users\\\\/nanspro\\\\/repos\\\\/automating_requirements\\\\/checking\\\\/bootstrap_data\\\\/imagenet\\\\/gaussian_noise_20240307-183641\\\\/batch_4\\\\/gaussian_noise_ILSVRC2012_val_00023188.JPEG\",\"82\":\"\\\\/Users\\\\/nanspro\\\\/repos\\\\/automating_requirements\\\\/checking\\\\/bootstrap_data\\\\/imagenet\\\\/gaussian_noise_20240307-183641\\\\/batch_4\\\\/gaussian_noise_ILSVRC2012_val_00023188.JPEG\",\"83\":\"\\\\/Users\\\\/nanspro\\\\/repos\\\\/automating_requirements\\\\/checking\\\\/bootstrap_data\\\\/imagenet\\\\/gaussian_noise_20240307-183641\\\\/batch_4\\\\/gaussian_noise_ILSVRC2012_val_00023188.JPEG\",\"84\":\"\\\\/Users\\\\/nanspro\\\\/repos\\\\/automating_requirements\\\\/checking\\\\/bootstrap_data\\\\/imagenet\\\\/gaussian_noise_20240307-183641\\\\/batch_4\\\\/gaussian_noise_ILSVRC2012_val_00023188.JPEG\",\"85\":\"\\\\/Users\\\\/nanspro\\\\/repos\\\\/automating_requirements\\\\/checking\\\\/bootstrap_data\\\\/imagenet\\\\/gaussian_noise_20240307-183641\\\\/batch_4\\\\/gaussian_noise_ILSVRC2012_val_00023188.JPEG\",\"86\":\"\\\\/Users\\\\/nanspro\\\\/repos\\\\/automating_requirements\\\\/checking\\\\/bootstrap_data\\\\/imagenet\\\\/gaussian_noise_20240307-183641\\\\/batch_4\\\\/gaussian_noise_ILSVRC2012_val_00023188.JPEG\",\"87\":\"\\\\/Users\\\\/nanspro\\\\/repos\\\\/automating_requirements\\\\/checking\\\\/bootstrap_data\\\\/imagenet\\\\/gaussian_noise_20240307-183641\\\\/batch_4\\\\/gaussian_noise_ILSVRC2012_val_00023188.JPEG\",\"88\":\"\\\\/Users\\\\/nanspro\\\\/repos\\\\/automating_requirements\\\\/checking\\\\/bootstrap_data\\\\/imagenet\\\\/gaussian_noise_20240307-183641\\\\/batch_4\\\\/gaussian_noise_ILSVRC2012_val_00023188.JPEG\",\"89\":\"\\\\/Users\\\\/nanspro\\\\/repos\\\\/automating_requirements\\\\/checking\\\\/bootstrap_data\\\\/imagenet\\\\/gaussian_noise_20240307-183641\\\\/batch_4\\\\/gaussian_noise_ILSVRC2012_val_00023188.JPEG\",\"90\":\"\\\\/Users\\\\/nanspro\\\\/repos\\\\/automating_requirements\\\\/checking\\\\/bootstrap_data\\\\/imagenet\\\\/gaussian_noise_20240307-183641\\\\/batch_4\\\\/gaussian_noise_ILSVRC2012_val_00023188.JPEG\",\"91\":\"\\\\/Users\\\\/nanspro\\\\/repos\\\\/automating_requirements\\\\/checking\\\\/bootstrap_data\\\\/imagenet\\\\/gaussian_noise_20240307-183641\\\\/batch_4\\\\/gaussian_noise_ILSVRC2012_val_00023188.JPEG\",\"92\":\"\\\\/Users\\\\/nanspro\\\\/repos\\\\/automating_requirements\\\\/checking\\\\/bootstrap_data\\\\/imagenet\\\\/gaussian_noise_20240307-183641\\\\/batch_4\\\\/gaussian_noise_ILSVRC2012_val_00023188.JPEG\",\"93\":\"\\\\/Users\\\\/nanspro\\\\/repos\\\\/automating_requirements\\\\/checking\\\\/bootstrap_data\\\\/imagenet\\\\/gaussian_noise_20240307-183641\\\\/batch_4\\\\/gaussian_noise_ILSVRC2012_val_00023188.JPEG\",\"94\":\"\\\\/Users\\\\/nanspro\\\\/repos\\\\/automating_requirements\\\\/checking\\\\/bootstrap_data\\\\/imagenet\\\\/gaussian_noise_20240307-183641\\\\/batch_4\\\\/gaussian_noise_ILSVRC2012_val_00023188.JPEG\",\"95\":\"\\\\/Users\\\\/nanspro\\\\/repos\\\\/automating_requirements\\\\/checking\\\\/bootstrap_data\\\\/imagenet\\\\/gaussian_noise_20240307-183641\\\\/batch_4\\\\/gaussian_noise_ILSVRC2012_val_00023188.JPEG\",\"96\":\"\\\\/Users\\\\/nanspro\\\\/repos\\\\/automating_requirements\\\\/checking\\\\/bootstrap_data\\\\/imagenet\\\\/gaussian_noise_20240307-183641\\\\/batch_4\\\\/gaussian_noise_ILSVRC2012_val_00023188.JPEG\",\"97\":\"\\\\/Users\\\\/nanspro\\\\/repos\\\\/automating_requirements\\\\/checking\\\\/bootstrap_data\\\\/imagenet\\\\/gaussian_noise_20240307-183641\\\\/batch_4\\\\/gaussian_noise_ILSVRC2012_val_00023188.JPEG\",\"98\":\"\\\\/Users\\\\/nanspro\\\\/repos\\\\/automating_requirements\\\\/checking\\\\/bootstrap_data\\\\/imagenet\\\\/gaussian_noise_20240307-183641\\\\/batch_4\\\\/gaussian_noise_ILSVRC2012_val_00023188.JPEG\",\"99\":\"\\\\/Users\\\\/nanspro\\\\/repos\\\\/automating_requirements\\\\/checking\\\\/bootstrap_data\\\\/imagenet\\\\/gaussian_noise_20240307-183641\\\\/batch_4\\\\/gaussian_noise_ILSVRC2012_val_00023188.JPEG\",\"100\":\"\\\\/Users\\\\/nanspro\\\\/repos\\\\/automating_requirements\\\\/checking\\\\/bootstrap_data\\\\/imagenet\\\\/gaussian_noise_20240307-183641\\\\/batch_4\\\\/gaussian_noise_ILSVRC2012_val_00023188.JPEG\",\"101\":\"\\\\/Users\\\\/nanspro\\\\/repos\\\\/automating_requirements\\\\/checking\\\\/bootstrap_data\\\\/imagenet\\\\/gaussian_noise_20240307-183641\\\\/batch_4\\\\/gaussian_noise_ILSVRC2012_val_00023188.JPEG\",\"102\":\"\\\\/Users\\\\/nanspro\\\\/repos\\\\/automating_requirements\\\\/checking\\\\/bootstrap_data\\\\/imagenet\\\\/gaussian_noise_20240307-183641\\\\/batch_4\\\\/gaussian_noise_ILSVRC2012_val_00023188.JPEG\",\"103\":\"\\\\/Users\\\\/nanspro\\\\/repos\\\\/automating_requirements\\\\/checking\\\\/bootstrap_data\\\\/imagenet\\\\/gaussian_noise_20240307-183641\\\\/batch_4\\\\/gaussian_noise_ILSVRC2012_val_00023188.JPEG\",\"104\":\"\\\\/Users\\\\/nanspro\\\\/repos\\\\/automating_requirements\\\\/checking\\\\/bootstrap_data\\\\/imagenet\\\\/gaussian_noise_20240307-183641\\\\/batch_4\\\\/gaussian_noise_ILSVRC2012_val_00023188.JPEG\",\"105\":\"\\\\/Users\\\\/nanspro\\\\/repos\\\\/automating_requirements\\\\/checking\\\\/bootstrap_data\\\\/imagenet\\\\/gaussian_noise_20240307-183641\\\\/batch_4\\\\/gaussian_noise_ILSVRC2012_val_00023188.JPEG\",\"106\":\"\\\\/Users\\\\/nanspro\\\\/repos\\\\/automating_requirements\\\\/checking\\\\/bootstrap_data\\\\/imagenet\\\\/gaussian_noise_20240307-183641\\\\/batch_4\\\\/gaussian_noise_ILSVRC2012_val_00023188.JPEG\",\"107\":\"\\\\/Users\\\\/nanspro\\\\/repos\\\\/automating_requirements\\\\/checking\\\\/bootstrap_data\\\\/imagenet\\\\/gaussian_noise_20240307-183641\\\\/batch_4\\\\/gaussian_noise_ILSVRC2012_val_00023188.JPEG\",\"108\":\"\\\\/Users\\\\/nanspro\\\\/repos\\\\/automating_requirements\\\\/checking\\\\/bootstrap_data\\\\/imagenet\\\\/gaussian_noise_20240307-183641\\\\/batch_4\\\\/gaussian_noise_ILSVRC2012_val_00023188.JPEG\",\"109\":\"\\\\/Users\\\\/nanspro\\\\/repos\\\\/automating_requirements\\\\/checking\\\\/bootstrap_data\\\\/imagenet\\\\/gaussian_noise_20240307-183641\\\\/batch_4\\\\/gaussian_noise_ILSVRC2012_val_00023188.JPEG\",\"110\":\"\\\\/Users\\\\/nanspro\\\\/repos\\\\/automating_requirements\\\\/checking\\\\/bootstrap_data\\\\/imagenet\\\\/gaussian_noise_20240307-183641\\\\/batch_4\\\\/gaussian_noise_ILSVRC2012_val_00023188.JPEG\",\"111\":\"\\\\/Users\\\\/nanspro\\\\/repos\\\\/automating_requirements\\\\/checking\\\\/bootstrap_data\\\\/imagenet\\\\/gaussian_noise_20240307-183641\\\\/batch_4\\\\/gaussian_noise_ILSVRC2012_val_00023188.JPEG\",\"112\":\"\\\\/Users\\\\/nanspro\\\\/repos\\\\/automating_requirements\\\\/checking\\\\/bootstrap_data\\\\/imagenet\\\\/gaussian_noise_20240307-183641\\\\/batch_4\\\\/gaussian_noise_ILSVRC2012_val_00023188.JPEG\",\"113\":\"\\\\/Users\\\\/nanspro\\\\/repos\\\\/automating_requirements\\\\/checking\\\\/bootstrap_data\\\\/imagenet\\\\/gaussian_noise_20240307-183641\\\\/batch_4\\\\/gaussian_noise_ILSVRC2012_val_00023188.JPEG\",\"114\":\"\\\\/Users\\\\/nanspro\\\\/repos\\\\/automating_requirements\\\\/checking\\\\/bootstrap_data\\\\/imagenet\\\\/gaussian_noise_20240307-183641\\\\/batch_4\\\\/gaussian_noise_ILSVRC2012_val_00023188.JPEG\",\"115\":\"\\\\/Users\\\\/nanspro\\\\/repos\\\\/automating_requirements\\\\/checking\\\\/bootstrap_data\\\\/imagenet\\\\/gaussian_noise_20240307-183641\\\\/batch_4\\\\/gaussian_noise_ILSVRC2012_val_00023188.JPEG\",\"116\":\"\\\\/Users\\\\/nanspro\\\\/repos\\\\/automating_requirements\\\\/checking\\\\/bootstrap_data\\\\/imagenet\\\\/gaussian_noise_20240307-183641\\\\/batch_4\\\\/gaussian_noise_ILSVRC2012_val_00023188.JPEG\",\"117\":\"\\\\/Users\\\\/nanspro\\\\/repos\\\\/automating_requirements\\\\/checking\\\\/bootstrap_data\\\\/imagenet\\\\/gaussian_noise_20240307-183641\\\\/batch_4\\\\/gaussian_noise_ILSVRC2012_val_00023188.JPEG\",\"118\":\"\\\\/Users\\\\/nanspro\\\\/repos\\\\/automating_requirements\\\\/checking\\\\/bootstrap_data\\\\/imagenet\\\\/gaussian_noise_20240307-183641\\\\/batch_4\\\\/gaussian_noise_ILSVRC2012_val_00023188.JPEG\",\"119\":\"\\\\/Users\\\\/nanspro\\\\/repos\\\\/automating_requirements\\\\/checking\\\\/bootstrap_data\\\\/imagenet\\\\/gaussian_noise_20240307-183641\\\\/batch_4\\\\/gaussian_noise_ILSVRC2012_val_00023188.JPEG\",\"120\":\"\\\\/Users\\\\/nanspro\\\\/repos\\\\/automating_requirements\\\\/checking\\\\/bootstrap_data\\\\/imagenet\\\\/gaussian_noise_20240307-183641\\\\/batch_4\\\\/gaussian_noise_ILSVRC2012_val_00023188.JPEG\",\"121\":\"\\\\/Users\\\\/nanspro\\\\/repos\\\\/automating_requirements\\\\/checking\\\\/bootstrap_data\\\\/imagenet\\\\/gaussian_noise_20240307-183641\\\\/batch_4\\\\/gaussian_noise_ILSVRC2012_val_00023188.JPEG\",\"122\":\"\\\\/Users\\\\/nanspro\\\\/repos\\\\/automating_requirements\\\\/checking\\\\/bootstrap_data\\\\/imagenet\\\\/gaussian_noise_20240307-183641\\\\/batch_4\\\\/gaussian_noise_ILSVRC2012_val_00023188.JPEG\",\"123\":\"\\\\/Users\\\\/nanspro\\\\/repos\\\\/automating_requirements\\\\/checking\\\\/bootstrap_data\\\\/imagenet\\\\/gaussian_noise_20240307-183641\\\\/batch_4\\\\/gaussian_noise_ILSVRC2012_val_00023188.JPEG\",\"124\":\"\\\\/Users\\\\/nanspro\\\\/repos\\\\/automating_requirements\\\\/checking\\\\/bootstrap_data\\\\/imagenet\\\\/gaussian_noise_20240307-183641\\\\/batch_4\\\\/gaussian_noise_ILSVRC2012_val_00023188.JPEG\",\"125\":\"\\\\/Users\\\\/nanspro\\\\/repos\\\\/automating_requirements\\\\/checking\\\\/bootstrap_data\\\\/imagenet\\\\/gaussian_noise_20240307-183641\\\\/batch_4\\\\/gaussian_noise_ILSVRC2012_val_00023188.JPEG\",\"126\":\"\\\\/Users\\\\/nanspro\\\\/repos\\\\/automating_requirements\\\\/checking\\\\/bootstrap_data\\\\/imagenet\\\\/gaussian_noise_20240307-183641\\\\/batch_4\\\\/gaussian_noise_ILSVRC2012_val_00023188.JPEG\",\"127\":\"\\\\/Users\\\\/nanspro\\\\/repos\\\\/automating_requirements\\\\/checking\\\\/bootstrap_data\\\\/imagenet\\\\/gaussian_noise_20240307-183641\\\\/batch_4\\\\/gaussian_noise_ILSVRC2012_val_00023188.JPEG\",\"128\":\"\\\\/Users\\\\/nanspro\\\\/repos\\\\/automating_requirements\\\\/checking\\\\/bootstrap_data\\\\/imagenet\\\\/gaussian_noise_20240307-183641\\\\/batch_4\\\\/gaussian_noise_ILSVRC2012_val_00023188.JPEG\",\"129\":\"\\\\/Users\\\\/nanspro\\\\/repos\\\\/automating_requirements\\\\/checking\\\\/bootstrap_data\\\\/imagenet\\\\/gaussian_noise_20240307-183641\\\\/batch_4\\\\/gaussian_noise_ILSVRC2012_val_00023188.JPEG\",\"130\":\"\\\\/Users\\\\/nanspro\\\\/repos\\\\/automating_requirements\\\\/checking\\\\/bootstrap_data\\\\/imagenet\\\\/gaussian_noise_20240307-183641\\\\/batch_4\\\\/gaussian_noise_ILSVRC2012_val_00023188.JPEG\",\"131\":\"\\\\/Users\\\\/nanspro\\\\/repos\\\\/automating_requirements\\\\/checking\\\\/bootstrap_data\\\\/imagenet\\\\/gaussian_noise_20240307-183641\\\\/batch_4\\\\/gaussian_noise_ILSVRC2012_val_00023188.JPEG\",\"132\":\"\\\\/Users\\\\/nanspro\\\\/repos\\\\/automating_requirements\\\\/checking\\\\/bootstrap_data\\\\/imagenet\\\\/gaussian_noise_20240307-183641\\\\/batch_4\\\\/gaussian_noise_ILSVRC2012_val_00023188.JPEG\",\"133\":\"\\\\/Users\\\\/nanspro\\\\/repos\\\\/automating_requirements\\\\/checking\\\\/bootstrap_data\\\\/imagenet\\\\/gaussian_noise_20240307-183641\\\\/batch_4\\\\/gaussian_noise_ILSVRC2012_val_00023188.JPEG\",\"134\":\"\\\\/Users\\\\/nanspro\\\\/repos\\\\/automating_requirements\\\\/checking\\\\/bootstrap_data\\\\/imagenet\\\\/gaussian_noise_20240307-183641\\\\/batch_4\\\\/gaussian_noise_ILSVRC2012_val_00023188.JPEG\",\"135\":\"\\\\/Users\\\\/nanspro\\\\/repos\\\\/automating_requirements\\\\/checking\\\\/bootstrap_data\\\\/imagenet\\\\/gaussian_noise_20240307-183641\\\\/batch_4\\\\/gaussian_noise_ILSVRC2012_val_00023188.JPEG\",\"136\":\"\\\\/Users\\\\/nanspro\\\\/repos\\\\/automating_requirements\\\\/checking\\\\/bootstrap_data\\\\/imagenet\\\\/gaussian_noise_20240307-183641\\\\/batch_4\\\\/gaussian_noise_ILSVRC2012_val_00023188.JPEG\",\"137\":\"\\\\/Users\\\\/nanspro\\\\/repos\\\\/automating_requirements\\\\/checking\\\\/bootstrap_data\\\\/imagenet\\\\/gaussian_noise_20240307-183641\\\\/batch_4\\\\/gaussian_noise_ILSVRC2012_val_00023188.JPEG\",\"138\":\"\\\\/Users\\\\/nanspro\\\\/repos\\\\/automating_requirements\\\\/checking\\\\/bootstrap_data\\\\/imagenet\\\\/gaussian_noise_20240307-183641\\\\/batch_4\\\\/gaussian_noise_ILSVRC2012_val_00023188.JPEG\",\"139\":\"\\\\/Users\\\\/nanspro\\\\/repos\\\\/automating_requirements\\\\/checking\\\\/bootstrap_data\\\\/imagenet\\\\/gaussian_noise_20240307-183641\\\\/batch_4\\\\/gaussian_noise_ILSVRC2012_val_00023188.JPEG\",\"140\":\"\\\\/Users\\\\/nanspro\\\\/repos\\\\/automating_requirements\\\\/checking\\\\/bootstrap_data\\\\/imagenet\\\\/gaussian_noise_20240307-183641\\\\/batch_4\\\\/gaussian_noise_ILSVRC2012_val_00023188.JPEG\",\"141\":\"\\\\/Users\\\\/nanspro\\\\/repos\\\\/automating_requirements\\\\/checking\\\\/bootstrap_data\\\\/imagenet\\\\/gaussian_noise_20240307-183641\\\\/batch_4\\\\/gaussian_noise_ILSVRC2012_val_00023188.JPEG\",\"142\":\"\\\\/Users\\\\/nanspro\\\\/repos\\\\/automating_requirements\\\\/checking\\\\/bootstrap_data\\\\/imagenet\\\\/gaussian_noise_20240307-183641\\\\/batch_4\\\\/gaussian_noise_ILSVRC2012_val_00023188.JPEG\",\"143\":\"\\\\/Users\\\\/nanspro\\\\/repos\\\\/automating_requirements\\\\/checking\\\\/bootstrap_data\\\\/imagenet\\\\/gaussian_noise_20240307-183641\\\\/batch_4\\\\/gaussian_noise_ILSVRC2012_val_00023188.JPEG\",\"144\":\"\\\\/Users\\\\/nanspro\\\\/repos\\\\/automating_requirements\\\\/checking\\\\/bootstrap_data\\\\/imagenet\\\\/gaussian_noise_20240307-183641\\\\/batch_4\\\\/gaussian_noise_ILSVRC2012_val_00023188.JPEG\",\"145\":\"\\\\/Users\\\\/nanspro\\\\/repos\\\\/automating_requirements\\\\/checking\\\\/bootstrap_data\\\\/imagenet\\\\/gaussian_noise_20240307-183641\\\\/batch_4\\\\/gaussian_noise_ILSVRC2012_val_00023188.JPEG\",\"146\":\"\\\\/Users\\\\/nanspro\\\\/repos\\\\/automating_requirements\\\\/checking\\\\/bootstrap_data\\\\/imagenet\\\\/gaussian_noise_20240307-183641\\\\/batch_4\\\\/gaussian_noise_ILSVRC2012_val_00023188.JPEG\",\"147\":\"\\\\/Users\\\\/nanspro\\\\/repos\\\\/automating_requirements\\\\/checking\\\\/bootstrap_data\\\\/imagenet\\\\/gaussian_noise_20240307-183641\\\\/batch_4\\\\/gaussian_noise_ILSVRC2012_val_00023188.JPEG\",\"148\":\"\\\\/Users\\\\/nanspro\\\\/repos\\\\/automating_requirements\\\\/checking\\\\/bootstrap_data\\\\/imagenet\\\\/gaussian_noise_20240307-183641\\\\/batch_4\\\\/gaussian_noise_ILSVRC2012_val_00023188.JPEG\",\"149\":\"\\\\/Users\\\\/nanspro\\\\/repos\\\\/automating_requirements\\\\/checking\\\\/bootstrap_data\\\\/imagenet\\\\/gaussian_noise_20240307-183641\\\\/batch_4\\\\/gaussian_noise_ILSVRC2012_val_00023188.JPEG\",\"150\":\"\\\\/Users\\\\/nanspro\\\\/repos\\\\/automating_requirements\\\\/checking\\\\/bootstrap_data\\\\/imagenet\\\\/gaussian_noise_20240307-183641\\\\/batch_4\\\\/gaussian_noise_ILSVRC2012_val_00023188.JPEG\",\"151\":\"\\\\/Users\\\\/nanspro\\\\/repos\\\\/automating_requirements\\\\/checking\\\\/bootstrap_data\\\\/imagenet\\\\/gaussian_noise_20240307-183641\\\\/batch_4\\\\/gaussian_noise_ILSVRC2012_val_00023188.JPEG\",\"152\":\"\\\\/Users\\\\/nanspro\\\\/repos\\\\/automating_requirements\\\\/checking\\\\/bootstrap_data\\\\/imagenet\\\\/gaussian_noise_20240307-183641\\\\/batch_4\\\\/gaussian_noise_ILSVRC2012_val_00023188.JPEG\",\"153\":\"\\\\/Users\\\\/nanspro\\\\/repos\\\\/automating_requirements\\\\/checking\\\\/bootstrap_data\\\\/imagenet\\\\/gaussian_noise_20240307-183641\\\\/batch_4\\\\/gaussian_noise_ILSVRC2012_val_00023188.JPEG\",\"154\":\"\\\\/Users\\\\/nanspro\\\\/repos\\\\/automating_requirements\\\\/checking\\\\/bootstrap_data\\\\/imagenet\\\\/gaussian_noise_20240307-183641\\\\/batch_4\\\\/gaussian_noise_ILSVRC2012_val_00023188.JPEG\",\"155\":\"\\\\/Users\\\\/nanspro\\\\/repos\\\\/automating_requirements\\\\/checking\\\\/bootstrap_data\\\\/imagenet\\\\/gaussian_noise_20240307-183641\\\\/batch_4\\\\/gaussian_noise_ILSVRC2012_val_00023188.JPEG\",\"156\":\"\\\\/Users\\\\/nanspro\\\\/repos\\\\/automating_requirements\\\\/checking\\\\/bootstrap_data\\\\/imagenet\\\\/gaussian_noise_20240307-183641\\\\/batch_4\\\\/gaussian_noise_ILSVRC2012_val_00023188.JPEG\",\"157\":\"\\\\/Users\\\\/nanspro\\\\/repos\\\\/automating_requirements\\\\/checking\\\\/bootstrap_data\\\\/imagenet\\\\/gaussian_noise_20240307-183641\\\\/batch_4\\\\/gaussian_noise_ILSVRC2012_val_00023188.JPEG\",\"158\":\"\\\\/Users\\\\/nanspro\\\\/repos\\\\/automating_requirements\\\\/checking\\\\/bootstrap_data\\\\/imagenet\\\\/gaussian_noise_20240307-183641\\\\/batch_4\\\\/gaussian_noise_ILSVRC2012_val_00023188.JPEG\",\"159\":\"\\\\/Users\\\\/nanspro\\\\/repos\\\\/automating_requirements\\\\/checking\\\\/bootstrap_data\\\\/imagenet\\\\/gaussian_noise_20240307-183641\\\\/batch_4\\\\/gaussian_noise_ILSVRC2012_val_00023188.JPEG\",\"160\":\"\\\\/Users\\\\/nanspro\\\\/repos\\\\/automating_requirements\\\\/checking\\\\/bootstrap_data\\\\/imagenet\\\\/gaussian_noise_20240307-183641\\\\/batch_4\\\\/gaussian_noise_ILSVRC2012_val_00023188.JPEG\",\"161\":\"\\\\/Users\\\\/nanspro\\\\/repos\\\\/automating_requirements\\\\/checking\\\\/bootstrap_data\\\\/imagenet\\\\/gaussian_noise_20240307-183641\\\\/batch_4\\\\/gaussian_noise_ILSVRC2012_val_00023188.JPEG\",\"162\":\"\\\\/Users\\\\/nanspro\\\\/repos\\\\/automating_requirements\\\\/checking\\\\/bootstrap_data\\\\/imagenet\\\\/gaussian_noise_20240307-183641\\\\/batch_4\\\\/gaussian_noise_ILSVRC2012_val_00023188.JPEG\",\"163\":\"\\\\/Users\\\\/nanspro\\\\/repos\\\\/automating_requirements\\\\/checking\\\\/bootstrap_data\\\\/imagenet\\\\/gaussian_noise_20240307-183641\\\\/batch_4\\\\/gaussian_noise_ILSVRC2012_val_00023188.JPEG\",\"164\":\"\\\\/Users\\\\/nanspro\\\\/repos\\\\/automating_requirements\\\\/checking\\\\/bootstrap_data\\\\/imagenet\\\\/gaussian_noise_20240307-183641\\\\/batch_4\\\\/gaussian_noise_ILSVRC2012_val_00023188.JPEG\",\"165\":\"\\\\/Users\\\\/nanspro\\\\/repos\\\\/automating_requirements\\\\/checking\\\\/bootstrap_data\\\\/imagenet\\\\/gaussian_noise_20240307-183641\\\\/batch_4\\\\/gaussian_noise_ILSVRC2012_val_00023188.JPEG\",\"166\":\"\\\\/Users\\\\/nanspro\\\\/repos\\\\/automating_requirements\\\\/checking\\\\/bootstrap_data\\\\/imagenet\\\\/gaussian_noise_20240307-183641\\\\/batch_4\\\\/gaussian_noise_ILSVRC2012_val_00023188.JPEG\",\"167\":\"\\\\/Users\\\\/nanspro\\\\/repos\\\\/automating_requirements\\\\/checking\\\\/bootstrap_data\\\\/imagenet\\\\/gaussian_noise_20240307-183641\\\\/batch_4\\\\/gaussian_noise_ILSVRC2012_val_00023188.JPEG\",\"168\":\"\\\\/Users\\\\/nanspro\\\\/repos\\\\/automating_requirements\\\\/checking\\\\/bootstrap_data\\\\/imagenet\\\\/gaussian_noise_20240307-183641\\\\/batch_4\\\\/gaussian_noise_ILSVRC2012_val_00023188.JPEG\",\"169\":\"\\\\/Users\\\\/nanspro\\\\/repos\\\\/automating_requirements\\\\/checking\\\\/bootstrap_data\\\\/imagenet\\\\/gaussian_noise_20240307-183641\\\\/batch_4\\\\/gaussian_noise_ILSVRC2012_val_00023188.JPEG\",\"170\":\"\\\\/Users\\\\/nanspro\\\\/repos\\\\/automating_requirements\\\\/checking\\\\/bootstrap_data\\\\/imagenet\\\\/gaussian_noise_20240307-183641\\\\/batch_4\\\\/gaussian_noise_ILSVRC2012_val_00023188.JPEG\",\"171\":\"\\\\/Users\\\\/nanspro\\\\/repos\\\\/automating_requirements\\\\/checking\\\\/bootstrap_data\\\\/imagenet\\\\/gaussian_noise_20240307-183641\\\\/batch_4\\\\/gaussian_noise_ILSVRC2012_val_00023188.JPEG\",\"172\":\"\\\\/Users\\\\/nanspro\\\\/repos\\\\/automating_requirements\\\\/checking\\\\/bootstrap_data\\\\/imagenet\\\\/gaussian_noise_20240307-183641\\\\/batch_4\\\\/gaussian_noise_ILSVRC2012_val_00023188.JPEG\",\"173\":\"\\\\/Users\\\\/nanspro\\\\/repos\\\\/automating_requirements\\\\/checking\\\\/bootstrap_data\\\\/imagenet\\\\/gaussian_noise_20240307-183641\\\\/batch_4\\\\/gaussian_noise_ILSVRC2012_val_00023188.JPEG\",\"174\":\"\\\\/Users\\\\/nanspro\\\\/repos\\\\/automating_requirements\\\\/checking\\\\/bootstrap_data\\\\/imagenet\\\\/gaussian_noise_20240307-183641\\\\/batch_4\\\\/gaussian_noise_ILSVRC2012_val_00023188.JPEG\",\"175\":\"\\\\/Users\\\\/nanspro\\\\/repos\\\\/automating_requirements\\\\/checking\\\\/bootstrap_data\\\\/imagenet\\\\/gaussian_noise_20240307-183641\\\\/batch_4\\\\/gaussian_noise_ILSVRC2012_val_00023188.JPEG\",\"176\":\"\\\\/Users\\\\/nanspro\\\\/repos\\\\/automating_requirements\\\\/checking\\\\/bootstrap_data\\\\/imagenet\\\\/gaussian_noise_20240307-183641\\\\/batch_4\\\\/gaussian_noise_ILSVRC2012_val_00023188.JPEG\",\"177\":\"\\\\/Users\\\\/nanspro\\\\/repos\\\\/automating_requirements\\\\/checking\\\\/bootstrap_data\\\\/imagenet\\\\/gaussian_noise_20240307-183641\\\\/batch_4\\\\/gaussian_noise_ILSVRC2012_val_00023188.JPEG\",\"178\":\"\\\\/Users\\\\/nanspro\\\\/repos\\\\/automating_requirements\\\\/checking\\\\/bootstrap_data\\\\/imagenet\\\\/gaussian_noise_20240307-183641\\\\/batch_4\\\\/gaussian_noise_ILSVRC2012_val_00023188.JPEG\",\"179\":\"\\\\/Users\\\\/nanspro\\\\/repos\\\\/automating_requirements\\\\/checking\\\\/bootstrap_data\\\\/imagenet\\\\/gaussian_noise_20240307-183641\\\\/batch_4\\\\/gaussian_noise_ILSVRC2012_val_00023188.JPEG\",\"180\":\"\\\\/Users\\\\/nanspro\\\\/repos\\\\/automating_requirements\\\\/checking\\\\/bootstrap_data\\\\/imagenet\\\\/gaussian_noise_20240307-183641\\\\/batch_4\\\\/gaussian_noise_ILSVRC2012_val_00023188.JPEG\",\"181\":\"\\\\/Users\\\\/nanspro\\\\/repos\\\\/automating_requirements\\\\/checking\\\\/bootstrap_data\\\\/imagenet\\\\/gaussian_noise_20240307-183641\\\\/batch_4\\\\/gaussian_noise_ILSVRC2012_val_00023188.JPEG\",\"182\":\"\\\\/Users\\\\/nanspro\\\\/repos\\\\/automating_requirements\\\\/checking\\\\/bootstrap_data\\\\/imagenet\\\\/gaussian_noise_20240307-183641\\\\/batch_4\\\\/gaussian_noise_ILSVRC2012_val_00023188.JPEG\",\"183\":\"\\\\/Users\\\\/nanspro\\\\/repos\\\\/automating_requirements\\\\/checking\\\\/bootstrap_data\\\\/imagenet\\\\/gaussian_noise_20240307-183641\\\\/batch_4\\\\/gaussian_noise_ILSVRC2012_val_00023188.JPEG\",\"184\":\"\\\\/Users\\\\/nanspro\\\\/repos\\\\/automating_requirements\\\\/checking\\\\/bootstrap_data\\\\/imagenet\\\\/gaussian_noise_20240307-183641\\\\/batch_4\\\\/gaussian_noise_ILSVRC2012_val_00023188.JPEG\",\"185\":\"\\\\/Users\\\\/nanspro\\\\/repos\\\\/automating_requirements\\\\/checking\\\\/bootstrap_data\\\\/imagenet\\\\/gaussian_noise_20240307-183641\\\\/batch_4\\\\/gaussian_noise_ILSVRC2012_val_00023188.JPEG\",\"186\":\"\\\\/Users\\\\/nanspro\\\\/repos\\\\/automating_requirements\\\\/checking\\\\/bootstrap_data\\\\/imagenet\\\\/gaussian_noise_20240307-183641\\\\/batch_4\\\\/gaussian_noise_ILSVRC2012_val_00023188.JPEG\",\"187\":\"\\\\/Users\\\\/nanspro\\\\/repos\\\\/automating_requirements\\\\/checking\\\\/bootstrap_data\\\\/imagenet\\\\/gaussian_noise_20240307-183641\\\\/batch_4\\\\/gaussian_noise_ILSVRC2012_val_00023188.JPEG\",\"188\":\"\\\\/Users\\\\/nanspro\\\\/repos\\\\/automating_requirements\\\\/checking\\\\/bootstrap_data\\\\/imagenet\\\\/gaussian_noise_20240307-183641\\\\/batch_4\\\\/gaussian_noise_ILSVRC2012_val_00023188.JPEG\",\"189\":\"\\\\/Users\\\\/nanspro\\\\/repos\\\\/automating_requirements\\\\/checking\\\\/bootstrap_data\\\\/imagenet\\\\/gaussian_noise_20240307-183641\\\\/batch_4\\\\/gaussian_noise_ILSVRC2012_val_00023188.JPEG\",\"190\":\"\\\\/Users\\\\/nanspro\\\\/repos\\\\/automating_requirements\\\\/checking\\\\/bootstrap_data\\\\/imagenet\\\\/gaussian_noise_20240307-183641\\\\/batch_4\\\\/gaussian_noise_ILSVRC2012_val_00023188.JPEG\",\"191\":\"\\\\/Users\\\\/nanspro\\\\/repos\\\\/automating_requirements\\\\/checking\\\\/bootstrap_data\\\\/imagenet\\\\/gaussian_noise_20240307-183641\\\\/batch_4\\\\/gaussian_noise_ILSVRC2012_val_00023188.JPEG\",\"192\":\"\\\\/Users\\\\/nanspro\\\\/repos\\\\/automating_requirements\\\\/checking\\\\/bootstrap_data\\\\/imagenet\\\\/gaussian_noise_20240307-183641\\\\/batch_4\\\\/gaussian_noise_ILSVRC2012_val_00023188.JPEG\",\"193\":\"\\\\/Users\\\\/nanspro\\\\/repos\\\\/automating_requirements\\\\/checking\\\\/bootstrap_data\\\\/imagenet\\\\/gaussian_noise_20240307-183641\\\\/batch_4\\\\/gaussian_noise_ILSVRC2012_val_00023188.JPEG\",\"194\":\"\\\\/Users\\\\/nanspro\\\\/repos\\\\/automating_requirements\\\\/checking\\\\/bootstrap_data\\\\/imagenet\\\\/gaussian_noise_20240307-183641\\\\/batch_4\\\\/gaussian_noise_ILSVRC2012_val_00023188.JPEG\",\"195\":\"\\\\/Users\\\\/nanspro\\\\/repos\\\\/automating_requirements\\\\/checking\\\\/bootstrap_data\\\\/imagenet\\\\/gaussian_noise_20240307-183641\\\\/batch_4\\\\/gaussian_noise_ILSVRC2012_val_00023188.JPEG\",\"196\":\"\\\\/Users\\\\/nanspro\\\\/repos\\\\/automating_requirements\\\\/checking\\\\/bootstrap_data\\\\/imagenet\\\\/gaussian_noise_20240307-183641\\\\/batch_4\\\\/gaussian_noise_ILSVRC2012_val_00023188.JPEG\",\"197\":\"\\\\/Users\\\\/nanspro\\\\/repos\\\\/automating_requirements\\\\/checking\\\\/bootstrap_data\\\\/imagenet\\\\/gaussian_noise_20240307-183641\\\\/batch_4\\\\/gaussian_noise_ILSVRC2012_val_00023188.JPEG\",\"198\":\"\\\\/Users\\\\/nanspro\\\\/repos\\\\/automating_requirements\\\\/checking\\\\/bootstrap_data\\\\/imagenet\\\\/gaussian_noise_20240307-183641\\\\/batch_4\\\\/gaussian_noise_ILSVRC2012_val_00023188.JPEG\",\"199\":\"\\\\/Users\\\\/nanspro\\\\/repos\\\\/automating_requirements\\\\/checking\\\\/bootstrap_data\\\\/imagenet\\\\/gaussian_noise_20240307-183641\\\\/batch_4\\\\/gaussian_noise_ILSVRC2012_val_00023188.JPEG\",\"200\":\"\\\\/Users\\\\/nanspro\\\\/repos\\\\/automating_requirements\\\\/checking\\\\/bootstrap_data\\\\/imagenet\\\\/gaussian_noise_20240307-183641\\\\/batch_4\\\\/gaussian_noise_ILSVRC2012_val_00023188.JPEG\",\"201\":\"\\\\/Users\\\\/nanspro\\\\/repos\\\\/automating_requirements\\\\/checking\\\\/bootstrap_data\\\\/imagenet\\\\/gaussian_noise_20240307-183641\\\\/batch_4\\\\/gaussian_noise_ILSVRC2012_val_00023188.JPEG\",\"202\":\"\\\\/Users\\\\/nanspro\\\\/repos\\\\/automating_requirements\\\\/checking\\\\/bootstrap_data\\\\/imagenet\\\\/gaussian_noise_20240307-183641\\\\/batch_4\\\\/gaussian_noise_ILSVRC2012_val_00023188.JPEG\",\"203\":\"\\\\/Users\\\\/nanspro\\\\/repos\\\\/automating_requirements\\\\/checking\\\\/bootstrap_data\\\\/imagenet\\\\/gaussian_noise_20240307-183641\\\\/batch_4\\\\/gaussian_noise_ILSVRC2012_val_00023188.JPEG\",\"204\":\"\\\\/Users\\\\/nanspro\\\\/repos\\\\/automating_requirements\\\\/checking\\\\/bootstrap_data\\\\/imagenet\\\\/gaussian_noise_20240307-183641\\\\/batch_4\\\\/gaussian_noise_ILSVRC2012_val_00023188.JPEG\",\"205\":\"\\\\/Users\\\\/nanspro\\\\/repos\\\\/automating_requirements\\\\/checking\\\\/bootstrap_data\\\\/imagenet\\\\/gaussian_noise_20240307-183641\\\\/batch_4\\\\/gaussian_noise_ILSVRC2012_val_00023188.JPEG\",\"206\":\"\\\\/Users\\\\/nanspro\\\\/repos\\\\/automating_requirements\\\\/checking\\\\/bootstrap_data\\\\/imagenet\\\\/gaussian_noise_20240307-183641\\\\/batch_4\\\\/gaussian_noise_ILSVRC2012_val_00023188.JPEG\",\"207\":\"\\\\/Users\\\\/nanspro\\\\/repos\\\\/automating_requirements\\\\/checking\\\\/bootstrap_data\\\\/imagenet\\\\/gaussian_noise_20240307-183641\\\\/batch_4\\\\/gaussian_noise_ILSVRC2012_val_00023188.JPEG\",\"208\":\"\\\\/Users\\\\/nanspro\\\\/repos\\\\/automating_requirements\\\\/checking\\\\/bootstrap_data\\\\/imagenet\\\\/gaussian_noise_20240307-183641\\\\/batch_4\\\\/gaussian_noise_ILSVRC2012_val_00023188.JPEG\",\"209\":\"\\\\/Users\\\\/nanspro\\\\/repos\\\\/automating_requirements\\\\/checking\\\\/bootstrap_data\\\\/imagenet\\\\/gaussian_noise_20240307-183641\\\\/batch_4\\\\/gaussian_noise_ILSVRC2012_val_00023188.JPEG\",\"210\":\"\\\\/Users\\\\/nanspro\\\\/repos\\\\/automating_requirements\\\\/checking\\\\/bootstrap_data\\\\/imagenet\\\\/gaussian_noise_20240307-183641\\\\/batch_4\\\\/gaussian_noise_ILSVRC2012_val_00023188.JPEG\",\"211\":\"\\\\/Users\\\\/nanspro\\\\/repos\\\\/automating_requirements\\\\/checking\\\\/bootstrap_data\\\\/imagenet\\\\/gaussian_noise_20240307-183641\\\\/batch_4\\\\/gaussian_noise_ILSVRC2012_val_00023188.JPEG\",\"212\":\"\\\\/Users\\\\/nanspro\\\\/repos\\\\/automating_requirements\\\\/checking\\\\/bootstrap_data\\\\/imagenet\\\\/gaussian_noise_20240307-183641\\\\/batch_4\\\\/gaussian_noise_ILSVRC2012_val_00023188.JPEG\",\"213\":\"\\\\/Users\\\\/nanspro\\\\/repos\\\\/automating_requirements\\\\/checking\\\\/bootstrap_data\\\\/imagenet\\\\/gaussian_noise_20240307-183641\\\\/batch_4\\\\/gaussian_noise_ILSVRC2012_val_00023188.JPEG\",\"214\":\"\\\\/Users\\\\/nanspro\\\\/repos\\\\/automating_requirements\\\\/checking\\\\/bootstrap_data\\\\/imagenet\\\\/gaussian_noise_20240307-183641\\\\/batch_4\\\\/gaussian_noise_ILSVRC2012_val_00023188.JPEG\",\"215\":\"\\\\/Users\\\\/nanspro\\\\/repos\\\\/automating_requirements\\\\/checking\\\\/bootstrap_data\\\\/imagenet\\\\/gaussian_noise_20240307-183641\\\\/batch_4\\\\/gaussian_noise_ILSVRC2012_val_00023188.JPEG\",\"216\":\"\\\\/Users\\\\/nanspro\\\\/repos\\\\/automating_requirements\\\\/checking\\\\/bootstrap_data\\\\/imagenet\\\\/gaussian_noise_20240307-183641\\\\/batch_4\\\\/gaussian_noise_ILSVRC2012_val_00023188.JPEG\",\"217\":\"\\\\/Users\\\\/nanspro\\\\/repos\\\\/automating_requirements\\\\/checking\\\\/bootstrap_data\\\\/imagenet\\\\/gaussian_noise_20240307-183641\\\\/batch_4\\\\/gaussian_noise_ILSVRC2012_val_00023188.JPEG\",\"218\":\"\\\\/Users\\\\/nanspro\\\\/repos\\\\/automating_requirements\\\\/checking\\\\/bootstrap_data\\\\/imagenet\\\\/gaussian_noise_20240307-183641\\\\/batch_4\\\\/gaussian_noise_ILSVRC2012_val_00023188.JPEG\",\"219\":\"\\\\/Users\\\\/nanspro\\\\/repos\\\\/automating_requirements\\\\/checking\\\\/bootstrap_data\\\\/imagenet\\\\/gaussian_noise_20240307-183641\\\\/batch_4\\\\/gaussian_noise_ILSVRC2012_val_00023188.JPEG\",\"220\":\"\\\\/Users\\\\/nanspro\\\\/repos\\\\/automating_requirements\\\\/checking\\\\/bootstrap_data\\\\/imagenet\\\\/gaussian_noise_20240307-183641\\\\/batch_4\\\\/gaussian_noise_ILSVRC2012_val_00023188.JPEG\",\"221\":\"\\\\/Users\\\\/nanspro\\\\/repos\\\\/automating_requirements\\\\/checking\\\\/bootstrap_data\\\\/imagenet\\\\/gaussian_noise_20240307-183641\\\\/batch_4\\\\/gaussian_noise_ILSVRC2012_val_00023188.JPEG\",\"222\":\"\\\\/Users\\\\/nanspro\\\\/repos\\\\/automating_requirements\\\\/checking\\\\/bootstrap_data\\\\/imagenet\\\\/gaussian_noise_20240307-183641\\\\/batch_4\\\\/gaussian_noise_ILSVRC2012_val_00023188.JPEG\",\"223\":\"\\\\/Users\\\\/nanspro\\\\/repos\\\\/automating_requirements\\\\/checking\\\\/bootstrap_data\\\\/imagenet\\\\/gaussian_noise_20240307-183641\\\\/batch_4\\\\/gaussian_noise_ILSVRC2012_val_00023188.JPEG\",\"224\":\"\\\\/Users\\\\/nanspro\\\\/repos\\\\/automating_requirements\\\\/checking\\\\/bootstrap_data\\\\/imagenet\\\\/gaussian_noise_20240307-183641\\\\/batch_4\\\\/gaussian_noise_ILSVRC2012_val_00023188.JPEG\",\"225\":\"\\\\/Users\\\\/nanspro\\\\/repos\\\\/automating_requirements\\\\/checking\\\\/bootstrap_data\\\\/imagenet\\\\/gaussian_noise_20240307-183641\\\\/batch_4\\\\/gaussian_noise_ILSVRC2012_val_00023188.JPEG\",\"226\":\"\\\\/Users\\\\/nanspro\\\\/repos\\\\/automating_requirements\\\\/checking\\\\/bootstrap_data\\\\/imagenet\\\\/gaussian_noise_20240307-183641\\\\/batch_4\\\\/gaussian_noise_ILSVRC2012_val_00023188.JPEG\",\"227\":\"\\\\/Users\\\\/nanspro\\\\/repos\\\\/automating_requirements\\\\/checking\\\\/bootstrap_data\\\\/imagenet\\\\/gaussian_noise_20240307-183641\\\\/batch_4\\\\/gaussian_noise_ILSVRC2012_val_00023188.JPEG\",\"228\":\"\\\\/Users\\\\/nanspro\\\\/repos\\\\/automating_requirements\\\\/checking\\\\/bootstrap_data\\\\/imagenet\\\\/gaussian_noise_20240307-183641\\\\/batch_4\\\\/gaussian_noise_ILSVRC2012_val_00023188.JPEG\",\"229\":\"\\\\/Users\\\\/nanspro\\\\/repos\\\\/automating_requirements\\\\/checking\\\\/bootstrap_data\\\\/imagenet\\\\/gaussian_noise_20240307-183641\\\\/batch_4\\\\/gaussian_noise_ILSVRC2012_val_00023188.JPEG\",\"230\":\"\\\\/Users\\\\/nanspro\\\\/repos\\\\/automating_requirements\\\\/checking\\\\/bootstrap_data\\\\/imagenet\\\\/gaussian_noise_20240307-183641\\\\/batch_4\\\\/gaussian_noise_ILSVRC2012_val_00023188.JPEG\",\"231\":\"\\\\/Users\\\\/nanspro\\\\/repos\\\\/automating_requirements\\\\/checking\\\\/bootstrap_data\\\\/imagenet\\\\/gaussian_noise_20240307-183641\\\\/batch_4\\\\/gaussian_noise_ILSVRC2012_val_00023188.JPEG\",\"232\":\"\\\\/Users\\\\/nanspro\\\\/repos\\\\/automating_requirements\\\\/checking\\\\/bootstrap_data\\\\/imagenet\\\\/gaussian_noise_20240307-183641\\\\/batch_4\\\\/gaussian_noise_ILSVRC2012_val_00023188.JPEG\",\"233\":\"\\\\/Users\\\\/nanspro\\\\/repos\\\\/automating_requirements\\\\/checking\\\\/bootstrap_data\\\\/imagenet\\\\/gaussian_noise_20240307-183641\\\\/batch_4\\\\/gaussian_noise_ILSVRC2012_val_00023188.JPEG\",\"234\":\"\\\\/Users\\\\/nanspro\\\\/repos\\\\/automating_requirements\\\\/checking\\\\/bootstrap_data\\\\/imagenet\\\\/gaussian_noise_20240307-183641\\\\/batch_4\\\\/gaussian_noise_ILSVRC2012_val_00023188.JPEG\",\"235\":\"\\\\/Users\\\\/nanspro\\\\/repos\\\\/automating_requirements\\\\/checking\\\\/bootstrap_data\\\\/imagenet\\\\/gaussian_noise_20240307-183641\\\\/batch_4\\\\/gaussian_noise_ILSVRC2012_val_00023188.JPEG\",\"236\":\"\\\\/Users\\\\/nanspro\\\\/repos\\\\/automating_requirements\\\\/checking\\\\/bootstrap_data\\\\/imagenet\\\\/gaussian_noise_20240307-183641\\\\/batch_4\\\\/gaussian_noise_ILSVRC2012_val_00023188.JPEG\",\"237\":\"\\\\/Users\\\\/nanspro\\\\/repos\\\\/automating_requirements\\\\/checking\\\\/bootstrap_data\\\\/imagenet\\\\/gaussian_noise_20240307-183641\\\\/batch_4\\\\/gaussian_noise_ILSVRC2012_val_00023188.JPEG\",\"238\":\"\\\\/Users\\\\/nanspro\\\\/repos\\\\/automating_requirements\\\\/checking\\\\/bootstrap_data\\\\/imagenet\\\\/gaussian_noise_20240307-183641\\\\/batch_4\\\\/gaussian_noise_ILSVRC2012_val_00023188.JPEG\",\"239\":\"\\\\/Users\\\\/nanspro\\\\/repos\\\\/automating_requirements\\\\/checking\\\\/bootstrap_data\\\\/imagenet\\\\/gaussian_noise_20240307-183641\\\\/batch_4\\\\/gaussian_noise_ILSVRC2012_val_00023188.JPEG\",\"240\":\"\\\\/Users\\\\/nanspro\\\\/repos\\\\/automating_requirements\\\\/checking\\\\/bootstrap_data\\\\/imagenet\\\\/gaussian_noise_20240307-183641\\\\/batch_4\\\\/gaussian_noise_ILSVRC2012_val_00023188.JPEG\",\"241\":\"\\\\/Users\\\\/nanspro\\\\/repos\\\\/automating_requirements\\\\/checking\\\\/bootstrap_data\\\\/imagenet\\\\/gaussian_noise_20240307-183641\\\\/batch_4\\\\/gaussian_noise_ILSVRC2012_val_00023188.JPEG\",\"242\":\"\\\\/Users\\\\/nanspro\\\\/repos\\\\/automating_requirements\\\\/checking\\\\/bootstrap_data\\\\/imagenet\\\\/gaussian_noise_20240307-183641\\\\/batch_4\\\\/gaussian_noise_ILSVRC2012_val_00023188.JPEG\",\"243\":\"\\\\/Users\\\\/nanspro\\\\/repos\\\\/automating_requirements\\\\/checking\\\\/bootstrap_data\\\\/imagenet\\\\/gaussian_noise_20240307-183641\\\\/batch_4\\\\/gaussian_noise_ILSVRC2012_val_00023188.JPEG\",\"244\":\"\\\\/Users\\\\/nanspro\\\\/repos\\\\/automating_requirements\\\\/checking\\\\/bootstrap_data\\\\/imagenet\\\\/gaussian_noise_20240307-183641\\\\/batch_4\\\\/gaussian_noise_ILSVRC2012_val_00023188.JPEG\",\"245\":\"\\\\/Users\\\\/nanspro\\\\/repos\\\\/automating_requirements\\\\/checking\\\\/bootstrap_data\\\\/imagenet\\\\/gaussian_noise_20240307-183641\\\\/batch_4\\\\/gaussian_noise_ILSVRC2012_val_00023188.JPEG\",\"246\":\"\\\\/Users\\\\/nanspro\\\\/repos\\\\/automating_requirements\\\\/checking\\\\/bootstrap_data\\\\/imagenet\\\\/gaussian_noise_20240307-183641\\\\/batch_4\\\\/gaussian_noise_ILSVRC2012_val_00023188.JPEG\",\"247\":\"\\\\/Users\\\\/nanspro\\\\/repos\\\\/automating_requirements\\\\/checking\\\\/bootstrap_data\\\\/imagenet\\\\/gaussian_noise_20240307-183641\\\\/batch_4\\\\/gaussian_noise_ILSVRC2012_val_00023188.JPEG\",\"248\":\"\\\\/Users\\\\/nanspro\\\\/repos\\\\/automating_requirements\\\\/checking\\\\/bootstrap_data\\\\/imagenet\\\\/gaussian_noise_20240307-183641\\\\/batch_4\\\\/gaussian_noise_ILSVRC2012_val_00023188.JPEG\",\"249\":\"\\\\/Users\\\\/nanspro\\\\/repos\\\\/automating_requirements\\\\/checking\\\\/bootstrap_data\\\\/imagenet\\\\/gaussian_noise_20240307-183641\\\\/batch_4\\\\/gaussian_noise_ILSVRC2012_val_00023188.JPEG\",\"250\":\"\\\\/Users\\\\/nanspro\\\\/repos\\\\/automating_requirements\\\\/checking\\\\/bootstrap_data\\\\/imagenet\\\\/gaussian_noise_20240307-183641\\\\/batch_4\\\\/gaussian_noise_ILSVRC2012_val_00023188.JPEG\",\"251\":\"\\\\/Users\\\\/nanspro\\\\/repos\\\\/automating_requirements\\\\/checking\\\\/bootstrap_data\\\\/imagenet\\\\/gaussian_noise_20240307-183641\\\\/batch_4\\\\/gaussian_noise_ILSVRC2012_val_00023188.JPEG\",\"252\":\"\\\\/Users\\\\/nanspro\\\\/repos\\\\/automating_requirements\\\\/checking\\\\/bootstrap_data\\\\/imagenet\\\\/gaussian_noise_20240307-183641\\\\/batch_4\\\\/gaussian_noise_ILSVRC2012_val_00023188.JPEG\",\"253\":\"\\\\/Users\\\\/nanspro\\\\/repos\\\\/automating_requirements\\\\/checking\\\\/bootstrap_data\\\\/imagenet\\\\/gaussian_noise_20240307-183641\\\\/batch_4\\\\/gaussian_noise_ILSVRC2012_val_00023188.JPEG\",\"254\":\"\\\\/Users\\\\/nanspro\\\\/repos\\\\/automating_requirements\\\\/checking\\\\/bootstrap_data\\\\/imagenet\\\\/gaussian_noise_20240307-183641\\\\/batch_4\\\\/gaussian_noise_ILSVRC2012_val_00023188.JPEG\",\"255\":\"\\\\/Users\\\\/nanspro\\\\/repos\\\\/automating_requirements\\\\/checking\\\\/bootstrap_data\\\\/imagenet\\\\/gaussian_noise_20240307-183641\\\\/batch_4\\\\/gaussian_noise_ILSVRC2012_val_00023188.JPEG\",\"256\":\"\\\\/Users\\\\/nanspro\\\\/repos\\\\/automating_requirements\\\\/checking\\\\/bootstrap_data\\\\/imagenet\\\\/gaussian_noise_20240307-183641\\\\/batch_4\\\\/gaussian_noise_ILSVRC2012_val_00023188.JPEG\",\"257\":\"\\\\/Users\\\\/nanspro\\\\/repos\\\\/automating_requirements\\\\/checking\\\\/bootstrap_data\\\\/imagenet\\\\/gaussian_noise_20240307-183641\\\\/batch_4\\\\/gaussian_noise_ILSVRC2012_val_00023188.JPEG\",\"258\":\"\\\\/Users\\\\/nanspro\\\\/repos\\\\/automating_requirements\\\\/checking\\\\/bootstrap_data\\\\/imagenet\\\\/gaussian_noise_20240307-183641\\\\/batch_4\\\\/gaussian_noise_ILSVRC2012_val_00023188.JPEG\",\"259\":\"\\\\/Users\\\\/nanspro\\\\/repos\\\\/automating_requirements\\\\/checking\\\\/bootstrap_data\\\\/imagenet\\\\/gaussian_noise_20240307-183641\\\\/batch_4\\\\/gaussian_noise_ILSVRC2012_val_00023188.JPEG\",\"260\":\"\\\\/Users\\\\/nanspro\\\\/repos\\\\/automating_requirements\\\\/checking\\\\/bootstrap_data\\\\/imagenet\\\\/gaussian_noise_20240307-183641\\\\/batch_4\\\\/gaussian_noise_ILSVRC2012_val_00023188.JPEG\",\"261\":\"\\\\/Users\\\\/nanspro\\\\/repos\\\\/automating_requirements\\\\/checking\\\\/bootstrap_data\\\\/imagenet\\\\/gaussian_noise_20240307-183641\\\\/batch_4\\\\/gaussian_noise_ILSVRC2012_val_00023188.JPEG\",\"262\":\"\\\\/Users\\\\/nanspro\\\\/repos\\\\/automating_requirements\\\\/checking\\\\/bootstrap_data\\\\/imagenet\\\\/gaussian_noise_20240307-183641\\\\/batch_4\\\\/gaussian_noise_ILSVRC2012_val_00023188.JPEG\",\"263\":\"\\\\/Users\\\\/nanspro\\\\/repos\\\\/automating_requirements\\\\/checking\\\\/bootstrap_data\\\\/imagenet\\\\/gaussian_noise_20240307-183641\\\\/batch_4\\\\/gaussian_noise_ILSVRC2012_val_00023188.JPEG\",\"264\":\"\\\\/Users\\\\/nanspro\\\\/repos\\\\/automating_requirements\\\\/checking\\\\/bootstrap_data\\\\/imagenet\\\\/gaussian_noise_20240307-183641\\\\/batch_4\\\\/gaussian_noise_ILSVRC2012_val_00023188.JPEG\",\"265\":\"\\\\/Users\\\\/nanspro\\\\/repos\\\\/automating_requirements\\\\/checking\\\\/bootstrap_data\\\\/imagenet\\\\/gaussian_noise_20240307-183641\\\\/batch_4\\\\/gaussian_noise_ILSVRC2012_val_00023188.JPEG\",\"266\":\"\\\\/Users\\\\/nanspro\\\\/repos\\\\/automating_requirements\\\\/checking\\\\/bootstrap_data\\\\/imagenet\\\\/gaussian_noise_20240307-183641\\\\/batch_4\\\\/gaussian_noise_ILSVRC2012_val_00023188.JPEG\",\"267\":\"\\\\/Users\\\\/nanspro\\\\/repos\\\\/automating_requirements\\\\/checking\\\\/bootstrap_data\\\\/imagenet\\\\/gaussian_noise_20240307-183641\\\\/batch_4\\\\/gaussian_noise_ILSVRC2012_val_00023188.JPEG\",\"268\":\"\\\\/Users\\\\/nanspro\\\\/repos\\\\/automating_requirements\\\\/checking\\\\/bootstrap_data\\\\/imagenet\\\\/gaussian_noise_20240307-183641\\\\/batch_4\\\\/gaussian_noise_ILSVRC2012_val_00023188.JPEG\",\"269\":\"\\\\/Users\\\\/nanspro\\\\/repos\\\\/automating_requirements\\\\/checking\\\\/bootstrap_data\\\\/imagenet\\\\/gaussian_noise_20240307-183641\\\\/batch_4\\\\/gaussian_noise_ILSVRC2012_val_00023188.JPEG\",\"270\":\"\\\\/Users\\\\/nanspro\\\\/repos\\\\/automating_requirements\\\\/checking\\\\/bootstrap_data\\\\/imagenet\\\\/gaussian_noise_20240307-183641\\\\/batch_4\\\\/gaussian_noise_ILSVRC2012_val_00023188.JPEG\",\"271\":\"\\\\/Users\\\\/nanspro\\\\/repos\\\\/automating_requirements\\\\/checking\\\\/bootstrap_data\\\\/imagenet\\\\/gaussian_noise_20240307-183641\\\\/batch_4\\\\/gaussian_noise_ILSVRC2012_val_00023188.JPEG\",\"272\":\"\\\\/Users\\\\/nanspro\\\\/repos\\\\/automating_requirements\\\\/checking\\\\/bootstrap_data\\\\/imagenet\\\\/gaussian_noise_20240307-183641\\\\/batch_4\\\\/gaussian_noise_ILSVRC2012_val_00023188.JPEG\",\"273\":\"\\\\/Users\\\\/nanspro\\\\/repos\\\\/automating_requirements\\\\/checking\\\\/bootstrap_data\\\\/imagenet\\\\/gaussian_noise_20240307-183641\\\\/batch_4\\\\/gaussian_noise_ILSVRC2012_val_00023188.JPEG\",\"274\":\"\\\\/Users\\\\/nanspro\\\\/repos\\\\/automating_requirements\\\\/checking\\\\/bootstrap_data\\\\/imagenet\\\\/gaussian_noise_20240307-183641\\\\/batch_4\\\\/gaussian_noise_ILSVRC2012_val_00023188.JPEG\",\"275\":\"\\\\/Users\\\\/nanspro\\\\/repos\\\\/automating_requirements\\\\/checking\\\\/bootstrap_data\\\\/imagenet\\\\/gaussian_noise_20240307-183641\\\\/batch_4\\\\/gaussian_noise_ILSVRC2012_val_00023188.JPEG\",\"276\":\"\\\\/Users\\\\/nanspro\\\\/repos\\\\/automating_requirements\\\\/checking\\\\/bootstrap_data\\\\/imagenet\\\\/gaussian_noise_20240307-183641\\\\/batch_4\\\\/gaussian_noise_ILSVRC2012_val_00023188.JPEG\",\"277\":\"\\\\/Users\\\\/nanspro\\\\/repos\\\\/automating_requirements\\\\/checking\\\\/bootstrap_data\\\\/imagenet\\\\/gaussian_noise_20240307-183641\\\\/batch_4\\\\/gaussian_noise_ILSVRC2012_val_00023188.JPEG\",\"278\":\"\\\\/Users\\\\/nanspro\\\\/repos\\\\/automating_requirements\\\\/checking\\\\/bootstrap_data\\\\/imagenet\\\\/gaussian_noise_20240307-183641\\\\/batch_4\\\\/gaussian_noise_ILSVRC2012_val_00023188.JPEG\",\"279\":\"\\\\/Users\\\\/nanspro\\\\/repos\\\\/automating_requirements\\\\/checking\\\\/bootstrap_data\\\\/imagenet\\\\/gaussian_noise_20240307-183641\\\\/batch_4\\\\/gaussian_noise_ILSVRC2012_val_00023188.JPEG\",\"280\":\"\\\\/Users\\\\/nanspro\\\\/repos\\\\/automating_requirements\\\\/checking\\\\/bootstrap_data\\\\/imagenet\\\\/gaussian_noise_20240307-183641\\\\/batch_4\\\\/gaussian_noise_ILSVRC2012_val_00023188.JPEG\",\"281\":\"\\\\/Users\\\\/nanspro\\\\/repos\\\\/automating_requirements\\\\/checking\\\\/bootstrap_data\\\\/imagenet\\\\/gaussian_noise_20240307-183641\\\\/batch_4\\\\/gaussian_noise_ILSVRC2012_val_00023188.JPEG\",\"282\":\"\\\\/Users\\\\/nanspro\\\\/repos\\\\/automating_requirements\\\\/checking\\\\/bootstrap_data\\\\/imagenet\\\\/gaussian_noise_20240307-183641\\\\/batch_4\\\\/gaussian_noise_ILSVRC2012_val_00023188.JPEG\",\"283\":\"\\\\/Users\\\\/nanspro\\\\/repos\\\\/automating_requirements\\\\/checking\\\\/bootstrap_data\\\\/imagenet\\\\/gaussian_noise_20240307-183641\\\\/batch_4\\\\/gaussian_noise_ILSVRC2012_val_00023188.JPEG\",\"284\":\"\\\\/Users\\\\/nanspro\\\\/repos\\\\/automating_requirements\\\\/checking\\\\/bootstrap_data\\\\/imagenet\\\\/gaussian_noise_20240307-183641\\\\/batch_4\\\\/gaussian_noise_ILSVRC2012_val_00023188.JPEG\",\"285\":\"\\\\/Users\\\\/nanspro\\\\/repos\\\\/automating_requirements\\\\/checking\\\\/bootstrap_data\\\\/imagenet\\\\/gaussian_noise_20240307-183641\\\\/batch_4\\\\/gaussian_noise_ILSVRC2012_val_00023188.JPEG\",\"286\":\"\\\\/Users\\\\/nanspro\\\\/repos\\\\/automating_requirements\\\\/checking\\\\/bootstrap_data\\\\/imagenet\\\\/gaussian_noise_20240307-183641\\\\/batch_4\\\\/gaussian_noise_ILSVRC2012_val_00023188.JPEG\",\"287\":\"\\\\/Users\\\\/nanspro\\\\/repos\\\\/automating_requirements\\\\/checking\\\\/bootstrap_data\\\\/imagenet\\\\/gaussian_noise_20240307-183641\\\\/batch_4\\\\/gaussian_noise_ILSVRC2012_val_00023188.JPEG\",\"288\":\"\\\\/Users\\\\/nanspro\\\\/repos\\\\/automating_requirements\\\\/checking\\\\/bootstrap_data\\\\/imagenet\\\\/gaussian_noise_20240307-183641\\\\/batch_4\\\\/gaussian_noise_ILSVRC2012_val_00023188.JPEG\",\"289\":\"\\\\/Users\\\\/nanspro\\\\/repos\\\\/automating_requirements\\\\/checking\\\\/bootstrap_data\\\\/imagenet\\\\/gaussian_noise_20240307-183641\\\\/batch_4\\\\/gaussian_noise_ILSVRC2012_val_00023188.JPEG\",\"290\":\"\\\\/Users\\\\/nanspro\\\\/repos\\\\/automating_requirements\\\\/checking\\\\/bootstrap_data\\\\/imagenet\\\\/gaussian_noise_20240307-183641\\\\/batch_4\\\\/gaussian_noise_ILSVRC2012_val_00023188.JPEG\",\"291\":\"\\\\/Users\\\\/nanspro\\\\/repos\\\\/automating_requirements\\\\/checking\\\\/bootstrap_data\\\\/imagenet\\\\/gaussian_noise_20240307-183641\\\\/batch_4\\\\/gaussian_noise_ILSVRC2012_val_00023188.JPEG\",\"292\":\"\\\\/Users\\\\/nanspro\\\\/repos\\\\/automating_requirements\\\\/checking\\\\/bootstrap_data\\\\/imagenet\\\\/gaussian_noise_20240307-183641\\\\/batch_4\\\\/gaussian_noise_ILSVRC2012_val_00023188.JPEG\",\"293\":\"\\\\/Users\\\\/nanspro\\\\/repos\\\\/automating_requirements\\\\/checking\\\\/bootstrap_data\\\\/imagenet\\\\/gaussian_noise_20240307-183641\\\\/batch_4\\\\/gaussian_noise_ILSVRC2012_val_00023188.JPEG\",\"294\":\"\\\\/Users\\\\/nanspro\\\\/repos\\\\/automating_requirements\\\\/checking\\\\/bootstrap_data\\\\/imagenet\\\\/gaussian_noise_20240307-183641\\\\/batch_4\\\\/gaussian_noise_ILSVRC2012_val_00023188.JPEG\",\"295\":\"\\\\/Users\\\\/nanspro\\\\/repos\\\\/automating_requirements\\\\/checking\\\\/bootstrap_data\\\\/imagenet\\\\/gaussian_noise_20240307-183641\\\\/batch_4\\\\/gaussian_noise_ILSVRC2012_val_00023188.JPEG\",\"296\":\"\\\\/Users\\\\/nanspro\\\\/repos\\\\/automating_requirements\\\\/checking\\\\/bootstrap_data\\\\/imagenet\\\\/gaussian_noise_20240307-183641\\\\/batch_4\\\\/gaussian_noise_ILSVRC2012_val_00023188.JPEG\",\"297\":\"\\\\/Users\\\\/nanspro\\\\/repos\\\\/automating_requirements\\\\/checking\\\\/bootstrap_data\\\\/imagenet\\\\/gaussian_noise_20240307-183641\\\\/batch_4\\\\/gaussian_noise_ILSVRC2012_val_00023188.JPEG\",\"298\":\"\\\\/Users\\\\/nanspro\\\\/repos\\\\/automating_requirements\\\\/checking\\\\/bootstrap_data\\\\/imagenet\\\\/gaussian_noise_20240307-183641\\\\/batch_4\\\\/gaussian_noise_ILSVRC2012_val_00023188.JPEG\",\"299\":\"\\\\/Users\\\\/nanspro\\\\/repos\\\\/automating_requirements\\\\/checking\\\\/bootstrap_data\\\\/imagenet\\\\/gaussian_noise_20240307-183641\\\\/batch_4\\\\/gaussian_noise_ILSVRC2012_val_00023188.JPEG\"}'"
      ]
     },
     "execution_count": 127,
     "metadata": {},
     "output_type": "execute_result"
    }
   ],
   "source": [
    "df_combined['new_path'].to_json()"
   ]
  },
  {
   "cell_type": "code",
   "execution_count": 92,
   "metadata": {},
   "outputs": [],
   "source": [
    "#adding prefix of column 'new_path' with each trasnformation\n",
    "for trans in TRANSFORMATIONS:\n",
    "    for col in df_combined['new_path']:\n",
    "        if col.startswith('new_path'):\n",
    "            df_combined[col] = df_combined[col].apply\n",
    "    \n",
    "            \n"
   ]
  },
  {
   "cell_type": "code",
   "execution_count": 96,
   "metadata": {},
   "outputs": [
    {
     "name": "stdout",
     "output_type": "stream",
     "text": [
      "0      /Users/nanspro/repos/automating_requirements/c...\n",
      "1      /Users/nanspro/repos/automating_requirements/c...\n",
      "2      /Users/nanspro/repos/automating_requirements/c...\n",
      "3      /Users/nanspro/repos/automating_requirements/c...\n",
      "4      /Users/nanspro/repos/automating_requirements/c...\n",
      "                             ...                        \n",
      "295    /Users/nanspro/repos/automating_requirements/c...\n",
      "296    /Users/nanspro/repos/automating_requirements/c...\n",
      "297    /Users/nanspro/repos/automating_requirements/c...\n",
      "298    /Users/nanspro/repos/automating_requirements/c...\n",
      "299    /Users/nanspro/repos/automating_requirements/c...\n",
      "Name: new_path, Length: 300, dtype: object\n"
     ]
    }
   ],
   "source": []
  },
  {
   "cell_type": "code",
   "execution_count": 76,
   "metadata": {},
   "outputs": [],
   "source": [
    "# Define the transformation\n",
    "transform = transforms.Compose([\n",
    "    transforms.Resize(256),\n",
    "    transforms.CenterCrop(224),\n",
    "    transforms.ToTensor(),\n",
    "    transforms.Normalize(mean=[0.485, 0.456, 0.406], std=[0.229, 0.224, 0.225]),\n",
    "])"
   ]
  },
  {
   "cell_type": "code",
   "execution_count": 155,
   "metadata": {},
   "outputs": [],
   "source": [
    "def is_normalized(images_list):\n",
    "    for image_array in images_list:\n",
    "        if not (image_array.dtype in [np.float32, np.float64] and np.min(image_array) >= 0 and np.max(image_array) <= 1):\n",
    "            return False\n",
    "    return True"
   ]
  },
  {
   "cell_type": "code",
   "execution_count": 148,
   "metadata": {},
   "outputs": [],
   "source": [
    "import cv2\n",
    "#import original file as input data\n",
    "original_images_path = df_combined['original_path'] \n",
    "original_images = [cv2.imread(path) for path in original_images_path]\n",
    "\n",
    "refactored_images_path = df_combined['new_path']\n",
    "refactored_images = [cv2.imread(path) for path in refactored_images_path]\n",
    "# In[]: Data Load\n",
    "labels = df_combined['label']\n"
   ]
  },
  {
   "cell_type": "code",
   "execution_count": 176,
   "metadata": {},
   "outputs": [
    {
     "name": "stdout",
     "output_type": "stream",
     "text": [
      "False\n",
      "False\n",
      "uint8\n"
     ]
    }
   ],
   "source": [
    "print(is_normalized(original_images))\n",
    "print(is_normalized(refactored_images))\n",
    "print(original_images[0].dtype)"
   ]
  },
  {
   "cell_type": "code",
   "execution_count": 130,
   "metadata": {},
   "outputs": [],
   "source": [
    "from torch.utils.data import Dataset\n",
    "from PIL import Image\n",
    "\n",
    "class CustomImageDataset(Dataset):\n",
    "    def __init__(self, dataframe,path_col,label_col,transform=None):\n",
    "        self.dataframe = dataframe\n",
    "        self.path_col = path_col\n",
    "        # self.dataframe[self.path_col] = self.dataframe[self.path_col].str.strip()\n",
    "        self.label_col = label_col\n",
    "        self.transform = transform\n",
    "        \n",
    "\n",
    "    def __len__(self):\n",
    "        return len(self.dataframe)\n",
    "\n",
    "    def __getitem__(self, idx):\n",
    "        img_path = self.dataframe.loc[idx, self.path_col]  # adjust this if your path is not in the first column\n",
    "        # print(f'Accessing file at{img_path}')\n",
    "        label = self.dataframe.loc[idx, self.label_col]  # adjust this if your label is not in the second column\n",
    "        image = Image.open(img_path).convert('RGB')\n",
    "\n",
    "        #add noise to image\n",
    "        # if self.noise:\n",
    "            # image = [add_gaussian_noise_cus(image,0.001) for i in range(len(image))]\n",
    "        if self.transform:\n",
    "            image = self.transform(image)\n",
    "\n",
    "        return image, label\n",
    "\n",
    "# Now you can use this custom dataset\n",
    "dataset = CustomImageDataset(df_combined,'original_path','label',transform=transform)"
   ]
  },
  {
   "cell_type": "code",
   "execution_count": 131,
   "metadata": {},
   "outputs": [],
   "source": [
    "dataset_refact = CustomImageDataset(df_combined,'new_path','label',transform=transform)"
   ]
  },
  {
   "cell_type": "code",
   "execution_count": 69,
   "metadata": {},
   "outputs": [],
   "source": [
    "import warnings\n",
    "warnings.filterwarnings('ignore', category=UserWarning)"
   ]
  },
  {
   "cell_type": "code",
   "execution_count": 71,
   "metadata": {},
   "outputs": [
    {
     "name": "stderr",
     "output_type": "stream",
     "text": [
      " 20%|██        | 1/5 [00:06<00:26,  6.59s/it]"
     ]
    },
    {
     "name": "stdout",
     "output_type": "stream",
     "text": [
      "Model: alexnet, Average Loss: 2.12167409658432, Average Accuracy: 0.5552083333333333\n"
     ]
    },
    {
     "name": "stderr",
     "output_type": "stream",
     "text": [
      " 40%|████      | 2/5 [00:43<01:12, 24.24s/it]"
     ]
    },
    {
     "name": "stdout",
     "output_type": "stream",
     "text": [
      "Model: resnet50, Average Loss: 0.9648482620716095, Average Accuracy: 0.7729166666666667\n"
     ]
    },
    {
     "name": "stderr",
     "output_type": "stream",
     "text": [
      " 60%|██████    | 3/5 [01:30<01:09, 34.57s/it]"
     ]
    },
    {
     "name": "stdout",
     "output_type": "stream",
     "text": [
      "Model: resnext50_32x4d, Average Loss: 0.9453291177749634, Average Accuracy: 0.7947916666666667\n"
     ]
    },
    {
     "name": "stderr",
     "output_type": "stream",
     "text": [
      " 80%|████████  | 4/5 [02:27<00:43, 43.72s/it]"
     ]
    },
    {
     "name": "stdout",
     "output_type": "stream",
     "text": [
      "Model: vgg16, Average Loss: 1.1853551864624023, Average Accuracy: 0.70625\n"
     ]
    },
    {
     "name": "stderr",
     "output_type": "stream",
     "text": [
      "100%|██████████| 5/5 [02:47<00:00, 33.46s/it]"
     ]
    },
    {
     "name": "stdout",
     "output_type": "stream",
     "text": [
      "Model: googlenet, Average Loss: 1.2913128018379212, Average Accuracy: 0.696875\n"
     ]
    },
    {
     "name": "stderr",
     "output_type": "stream",
     "text": [
      "\n"
     ]
    }
   ],
   "source": [
    "from torch.utils.data import DataLoader\n",
    "from sklearn.metrics import accuracy_score\n",
    "import torch\n",
    "import torch.nn as nn\n",
    "import numpy as np\n",
    "# Create a DataLoader\n",
    "data_loader = DataLoader(dataset, batch_size=32)  # adjust batch size as needed\n",
    "\n",
    "# Define the loss function\n",
    "criterion = nn.CrossEntropyLoss()\n",
    "device = torch.device('cuda' if torch.cuda.is_available() else 'cpu')\n",
    "models = ['alexnet', 'resnet50','resnext50_32x4d','vgg16','googlenet']\n",
    "for model_name in tqdm(models):\n",
    "    try:\n",
    "        # Load the pre-trained model\n",
    "        model = getattr(torchvision.models, model_name)(pretrained=True)\n",
    "        model.eval()  # Set the model to evaluation mode\n",
    "\n",
    "        # Initialize lists to store losses and accuracies\n",
    "        losses = []\n",
    "        accuracies = []\n",
    "\n",
    "        # Iterate over the testing data\n",
    "        for images, labels in data_loader:\n",
    "            # Move the images and labels to the GPU if available\n",
    "            images = images.to(device)\n",
    "            labels = labels.to(device)\n",
    "\n",
    "            # Forward pass\n",
    "            outputs = model(images)\n",
    "\n",
    "            # Calculate the loss\n",
    "            loss = criterion(outputs, labels)\n",
    "            losses.append(loss.item())\n",
    "\n",
    "            # Calculate the accuracy\n",
    "            _, predicted = torch.max(outputs, 1)\n",
    "            accuracy = accuracy_score(predicted.cpu(), labels.cpu())\n",
    "            accuracies.append(accuracy)\n",
    "\n",
    "        # Now you can print or plot the losses and accuracies or calculate their average, etc.\n",
    "        print(f'Model: {model_name}, Average Loss: {np.mean(losses)}, Average Accuracy: {np.mean(accuracies)}')\n",
    "    except Exception as e:\n",
    "        print(f'Error occurred with model {model_name}: {e}')"
   ]
  },
  {
   "cell_type": "code",
   "execution_count": 138,
   "metadata": {},
   "outputs": [
    {
     "name": "stderr",
     "output_type": "stream",
     "text": [
      " 20%|██        | 1/5 [00:07<00:29,  7.37s/it]"
     ]
    },
    {
     "name": "stdout",
     "output_type": "stream",
     "text": [
      "Model: alexnet, Average Loss: 9.593086528778077, Average Accuracy: 0.0\n"
     ]
    },
    {
     "name": "stderr",
     "output_type": "stream",
     "text": [
      " 40%|████      | 2/5 [00:47<01:19, 26.40s/it]"
     ]
    },
    {
     "name": "stdout",
     "output_type": "stream",
     "text": [
      "Model: resnet50, Average Loss: 8.818767261505126, Average Accuracy: 0.0\n"
     ]
    },
    {
     "name": "stderr",
     "output_type": "stream",
     "text": [
      " 60%|██████    | 3/5 [01:44<01:21, 40.69s/it]"
     ]
    },
    {
     "name": "stdout",
     "output_type": "stream",
     "text": [
      "Model: resnext50_32x4d, Average Loss: 10.075433826446533, Average Accuracy: 0.0\n"
     ]
    },
    {
     "name": "stderr",
     "output_type": "stream",
     "text": [
      " 80%|████████  | 4/5 [02:44<00:48, 48.39s/it]"
     ]
    },
    {
     "name": "stdout",
     "output_type": "stream",
     "text": [
      "Model: vgg16, Average Loss: 8.466379165649414, Average Accuracy: 0.0\n"
     ]
    },
    {
     "name": "stderr",
     "output_type": "stream",
     "text": [
      "100%|██████████| 5/5 [03:05<00:00, 37.16s/it]"
     ]
    },
    {
     "name": "stdout",
     "output_type": "stream",
     "text": [
      "Model: googlenet, Average Loss: 7.844573879241944, Average Accuracy: 0.0\n"
     ]
    },
    {
     "name": "stderr",
     "output_type": "stream",
     "text": [
      "\n"
     ]
    }
   ],
   "source": [
    "from torch.utils.data import DataLoader\n",
    "from sklearn.metrics import accuracy_score\n",
    "import torch\n",
    "import torch.nn as nn\n",
    "import numpy as np\n",
    "# Create a DataLoader\n",
    "data_loader = DataLoader(dataset_refact, batch_size=32)  # adjust batch size as needed\n",
    "\n",
    "# Define the loss function\n",
    "criterion = nn.CrossEntropyLoss()\n",
    "device = torch.device('cuda' if torch.cuda.is_available() else 'cpu')\n",
    "models = ['alexnet', 'resnet50','resnext50_32x4d','vgg16','googlenet']\n",
    "for model_name in tqdm(models):\n",
    "    try:\n",
    "        # Load the pre-trained model\n",
    "        model = getattr(torchvision.models, model_name)(pretrained=True)\n",
    "        model.eval()  # Set the model to evaluation mode\n",
    "\n",
    "        # Initialize lists to store losses and accuracies\n",
    "        losses = []\n",
    "        accuracies = []\n",
    "\n",
    "        # Iterate over the testing data\n",
    "        for images, labels in data_loader:\n",
    "            # Move the images and labels to the GPU if available\n",
    "            images = images.to(device)\n",
    "            labels = labels.to(device)\n",
    "\n",
    "            # Forward pass\n",
    "            outputs = model(images)\n",
    "\n",
    "            # Calculate the loss\n",
    "            loss = criterion(outputs, labels)\n",
    "            losses.append(loss.item())\n",
    "\n",
    "            # Calculate the accuracy\n",
    "            _, predicted = torch.max(outputs, 1)\n",
    "            accuracy = accuracy_score(predicted.cpu(), labels.cpu())\n",
    "            accuracies.append(accuracy)\n",
    "\n",
    "        # Now you can print or plot the losses and accuracies or calculate their average, etc.\n",
    "        print(f'Model: {model_name}, Average Loss: {np.mean(losses)}, Average Accuracy: {np.mean(accuracies)}')\n",
    "    except Exception as e:\n",
    "        print(f'Error occurred with model {model_name}: {e}')"
   ]
  },
  {
   "cell_type": "code",
   "execution_count": null,
   "metadata": {},
   "outputs": [],
   "source": [
    "orig_target = df_combined['label']\n",
    "refact_target = df_combined['label']"
   ]
  },
  {
   "cell_type": "code",
   "execution_count": 190,
   "metadata": {},
   "outputs": [],
   "source": [
    "noisy_images_orig = [add_gaussian_noise_cus(image, 0.05) for image in original_images]\n",
    "noisy_images_refact = [add_gaussian_noise_cus(image, 0.05) for image in refactored_images]"
   ]
  },
  {
   "cell_type": "code",
   "execution_count": 191,
   "metadata": {},
   "outputs": [],
   "source": [
    "# noisy_images_orig = [transform(Image.fromarray(image.astype(np.uint8).reshape(-1, 3))) for image in noisy_images_orig]\n",
    "# Define the transform\n",
    "# transform = transforms.Compose([\n",
    "#     transforms.Resize((224, 224)),  # Resize to 224x224\n",
    "#     transforms.ToTensor(),  # Convert PIL image to PyTorch tensor\n",
    "# ])\n",
    "transform = transforms.Compose([\n",
    "    transforms.Grayscale(num_output_channels=3),  # Convert image to RGB\n",
    "    transforms.Resize((224, 224)),  # Resize to 224x224\n",
    "    transforms.ToTensor(),  # Convert PIL image to PyTorch tensor\n",
    "])\n",
    "# Apply the transform to your dataset\n",
    "# noisy_images_orig = [transform(Image.fromarray(image)) for image in noisy_images_orig]\n",
    "# Apply the transform to your dataset\n",
    "noisy_images_orig = [transform(Image.fromarray(image.astype(np.uint8).reshape(-1, 3))) for image in noisy_images_orig]\n",
    "# noisy_images_refact = [transform(Image.fromarray(image.astype(np.uint8).reshape(-1, 3))) for image in noisy_images_refact]\n",
    "# noisy_xt_orig_loader = DataLoader(noisy_images_orig, batch_size=5)  # adjust batch size as needed\n",
    "#combine noisy_xt_orig and label as a dataset\n",
    "dataset_orig = [(noisy_images_orig[i], orig_target[i]) for i in range(len(orig_target))]\n"
   ]
  },
  {
   "cell_type": "code",
   "execution_count": 195,
   "metadata": {},
   "outputs": [],
   "source": [
    "noisy_images_refact = [transform(Image.fromarray(image.astype(np.uint8).reshape(-1, 3))) for image in noisy_images_refact]\n",
    "# noisy_images_refact = [transform(Image.fromarray(image.astype(np.uint8).reshape(-1, 3))) for image in noisy_images_refact]\n",
    "# noisy_xt_orig_loader = DataLoader(noisy_images_orig, batch_size=5)  # adjust batch size as needed\n",
    "#combine noisy_xt_orig and label as a dataset\n",
    "dataset_orig = [(noisy_images_refact[i], refact_target[i]) for i in range(len(refact_target))]\n"
   ]
  },
  {
   "cell_type": "code",
   "execution_count": 192,
   "metadata": {},
   "outputs": [
    {
     "name": "stderr",
     "output_type": "stream",
     "text": [
      "  0%|          | 0/5 [00:00<?, ?it/s]"
     ]
    },
    {
     "name": "stderr",
     "output_type": "stream",
     "text": [
      " 20%|██        | 1/5 [00:03<00:13,  3.28s/it]"
     ]
    },
    {
     "name": "stdout",
     "output_type": "stream",
     "text": [
      "Model: alexnet, Average Loss: 7.491400289535522, Average Accuracy: 0.0\n"
     ]
    },
    {
     "name": "stderr",
     "output_type": "stream",
     "text": [
      " 40%|████      | 2/5 [00:33<00:56, 19.00s/it]"
     ]
    },
    {
     "name": "stdout",
     "output_type": "stream",
     "text": [
      "Model: resnet50, Average Loss: 7.674081134796142, Average Accuracy: 0.0\n"
     ]
    },
    {
     "name": "stderr",
     "output_type": "stream",
     "text": [
      " 60%|██████    | 3/5 [01:12<00:56, 28.36s/it]"
     ]
    },
    {
     "name": "stdout",
     "output_type": "stream",
     "text": [
      "Model: resnext50_32x4d, Average Loss: 8.488513326644897, Average Accuracy: 0.0\n"
     ]
    },
    {
     "name": "stderr",
     "output_type": "stream",
     "text": [
      " 80%|████████  | 4/5 [02:03<00:37, 37.38s/it]"
     ]
    },
    {
     "name": "stdout",
     "output_type": "stream",
     "text": [
      "Model: vgg16, Average Loss: 7.596037530899048, Average Accuracy: 0.0\n"
     ]
    },
    {
     "name": "stderr",
     "output_type": "stream",
     "text": [
      "100%|██████████| 5/5 [02:18<00:00, 27.79s/it]"
     ]
    },
    {
     "name": "stdout",
     "output_type": "stream",
     "text": [
      "Model: googlenet, Average Loss: 7.3129737854003904, Average Accuracy: 0.0\n"
     ]
    },
    {
     "name": "stderr",
     "output_type": "stream",
     "text": [
      "\n"
     ]
    }
   ],
   "source": [
    "data_loader = DataLoader(dataset_orig, batch_size=32)  # adjust batch size as needed\n",
    "criterion = nn.CrossEntropyLoss()\n",
    "device = torch.device('cuda' if torch.cuda.is_available() else 'cpu')\n",
    "models = ['alexnet', 'resnet50','resnext50_32x4d','vgg16','googlenet']\n",
    "for model_name in tqdm(models):\n",
    "    try:\n",
    "        # Load the pre-trained model\n",
    "        model = getattr(torchvision.models, model_name)(pretrained=True)\n",
    "        model.eval()  # Set the model to evaluation mode\n",
    "\n",
    "        # Initialize lists to store losses and accuracies\n",
    "        losses = []\n",
    "        accuracies = []\n",
    "\n",
    "        # Iterate over the testing data\n",
    "        for images, labels in data_loader:\n",
    "            # Move the images and labels to the GPU if available\n",
    "            images = images.to(device)\n",
    "            labels = labels.to(device)\n",
    "\n",
    "            # Forward pass\n",
    "            outputs = model(images)\n",
    "\n",
    "            # Calculate the loss\n",
    "            loss = criterion(outputs, labels)\n",
    "            losses.append(loss.item())\n",
    "\n",
    "            # Calculate the accuracy\n",
    "            _, predicted = torch.max(outputs, 1)\n",
    "            accuracy = accuracy_score(predicted.cpu(), labels.cpu())\n",
    "            accuracies.append(accuracy)\n",
    "\n",
    "        # Now you can print or plot the losses and accuracies or calculate their average, etc.\n",
    "        print(f'Model: {model_name}, Average Loss: {np.mean(losses)}, Average Accuracy: {np.mean(accuracies)}')\n",
    "    except Exception as e:\n",
    "        print(f'Error occurred with model {model_name}: {e}')\n"
   ]
  },
  {
   "cell_type": "code",
   "execution_count": 166,
   "metadata": {},
   "outputs": [],
   "source": [
    "def evaluation_pretrained_model(data):\n",
    "    #model lists alextnet, resnet50, resnext50_32x4d, vgg16, googlenet\n",
    "    # Create a DataLoader\n",
    "    data_loader = DataLoader(data, batch_size=32)  \n",
    "\n",
    "    criterion = nn.CrossEntropyLoss()\n",
    "    device = torch.device('cuda' if torch.cuda.is_available() else 'cpu')\n",
    "    models = ['alexnet', 'resnet50','resnext50_32x4d','vgg16','googlenet']\n",
    "    for model_name in tqdm(models):\n",
    "        try:\n",
    "            # Load the pre-trained model\n",
    "            model = getattr(torchvision.models, model_name)(pretrained=True)\n",
    "            model.eval()  # Set the model to evaluation mode\n",
    "\n",
    "            # Initialize lists to store losses and accuracies\n",
    "            losses = []\n",
    "            accuracies = []\n",
    "\n",
    "            # Iterate over the testing data\n",
    "            for images, labels in data_loader:\n",
    "                # Move the images and labels to the GPU if available\n",
    "                images = images.to(device)\n",
    "                labels = labels.to(device)\n",
    "\n",
    "                # Forward pass\n",
    "                outputs = model(images)\n",
    "\n",
    "                # Calculate the loss\n",
    "                loss = criterion(outputs, labels)\n",
    "                losses.append(loss.item())\n",
    "\n",
    "                # Calculate the accuracy\n",
    "                _, predicted = torch.max(outputs, 1)\n",
    "                accuracy = accuracy_score(predicted.cpu(), labels.cpu())\n",
    "                accuracies.append(accuracy)\n",
    "\n",
    "            # Now you can print or plot the losses and accuracies or calculate their average, etc.\n",
    "            print(f'Model: {model_name}, Average Loss: {np.mean(losses)}, Average Accuracy: {np.mean(accuracies)}')\n",
    "        except Exception as e:\n",
    "            print(f'Error occurred with model {model_name}: {e}')\n"
   ]
  },
  {
   "cell_type": "code",
   "execution_count": 196,
   "metadata": {},
   "outputs": [
    {
     "name": "stderr",
     "output_type": "stream",
     "text": [
      " 20%|██        | 1/5 [00:03<00:14,  3.64s/it]"
     ]
    },
    {
     "name": "stdout",
     "output_type": "stream",
     "text": [
      "Model: alexnet, Average Loss: 7.491316556930542, Average Accuracy: 0.0\n"
     ]
    },
    {
     "name": "stderr",
     "output_type": "stream",
     "text": [
      " 40%|████      | 2/5 [00:34<00:59, 19.82s/it]"
     ]
    },
    {
     "name": "stdout",
     "output_type": "stream",
     "text": [
      "Model: resnet50, Average Loss: 7.673586082458496, Average Accuracy: 0.0\n"
     ]
    },
    {
     "name": "stderr",
     "output_type": "stream",
     "text": [
      " 60%|██████    | 3/5 [01:19<01:02, 31.21s/it]"
     ]
    },
    {
     "name": "stdout",
     "output_type": "stream",
     "text": [
      "Model: resnext50_32x4d, Average Loss: 8.487999486923218, Average Accuracy: 0.0\n"
     ]
    },
    {
     "name": "stderr",
     "output_type": "stream",
     "text": [
      " 80%|████████  | 4/5 [02:15<00:41, 41.14s/it]"
     ]
    },
    {
     "name": "stdout",
     "output_type": "stream",
     "text": [
      "Model: vgg16, Average Loss: 7.59598331451416, Average Accuracy: 0.0\n"
     ]
    },
    {
     "name": "stderr",
     "output_type": "stream",
     "text": [
      "100%|██████████| 5/5 [02:29<00:00, 29.99s/it]"
     ]
    },
    {
     "name": "stdout",
     "output_type": "stream",
     "text": [
      "Model: googlenet, Average Loss: 7.312863349914551, Average Accuracy: 0.0\n"
     ]
    },
    {
     "name": "stderr",
     "output_type": "stream",
     "text": [
      "\n"
     ]
    }
   ],
   "source": [
    "evaluation_pretrained_model(dataset_orig)"
   ]
  },
  {
   "cell_type": "code",
   "execution_count": null,
   "metadata": {},
   "outputs": [],
   "source": []
  }
 ],
 "metadata": {
  "kernelspec": {
   "display_name": "reless",
   "language": "python",
   "name": "python3"
  },
  "language_info": {
   "codemirror_mode": {
    "name": "ipython",
    "version": 3
   },
   "file_extension": ".py",
   "mimetype": "text/x-python",
   "name": "python",
   "nbconvert_exporter": "python",
   "pygments_lexer": "ipython3",
   "version": "3.7.12"
  }
 },
 "nbformat": 4,
 "nbformat_minor": 2
}
